{
 "cells": [
  {
   "cell_type": "markdown",
   "metadata": {},
   "source": [
    "# Artificial Intelligence Nanodegree\n",
    "\n",
    "## Convolutional Neural Networks\n",
    "\n",
    "## Project: Write an Algorithm for a Dog Identification App \n",
    "\n",
    "---\n",
    "\n",
    "In this notebook, some template code has already been provided for you, and you will need to implement additional functionality to successfully complete this project. You will not need to modify the included code beyond what is requested. Sections that begin with **'(IMPLEMENTATION)'** in the header indicate that the following block of code will require additional functionality which you must provide. Instructions will be provided for each section, and the specifics of the implementation are marked in the code block with a 'TODO' statement. Please be sure to read the instructions carefully! \n",
    "\n",
    "> **Note**: Once you have completed all of the code implementations, you need to finalize your work by exporting the iPython Notebook as an HTML document. Before exporting the notebook to html, all of the code cells need to have been run so that reviewers can see the final implementation and output. You can then export the notebook by using the menu above and navigating to  \\n\",\n",
    "    \"**File -> Download as -> HTML (.html)**. Include the finished document along with this notebook as your submission.\n",
    "\n",
    "In addition to implementing code, there will be questions that you must answer which relate to the project and your implementation. Each section where you will answer a question is preceded by a **'Question X'** header. Carefully read each question and provide thorough answers in the following text boxes that begin with **'Answer:'**. Your project submission will be evaluated based on your answers to each of the questions and the implementation you provide.\n",
    "\n",
    ">**Note:** Code and Markdown cells can be executed using the **Shift + Enter** keyboard shortcut.  Markdown cells can be edited by double-clicking the cell to enter edit mode.\n",
    "\n",
    "The rubric contains _optional_ \"Stand Out Suggestions\" for enhancing the project beyond the minimum requirements. If you decide to pursue the \"Stand Out Suggestions\", you should include the code in this IPython notebook.\n",
    "\n",
    "\n",
    "\n",
    "---\n",
    "### Why We're Here \n",
    "\n",
    "In this notebook, you will make the first steps towards developing an algorithm that could be used as part of a mobile or web app.  At the end of this project, your code will accept any user-supplied image as input.  If a dog is detected in the image, it will provide an estimate of the dog's breed.  If a human is detected, it will provide an estimate of the dog breed that is most resembling.  The image below displays potential sample output of your finished project (... but we expect that each student's algorithm will behave differently!). \n",
    "\n",
    "![Sample Dog Output](images/sample_dog_output.png)\n",
    "\n",
    "In this real-world setting, you will need to piece together a series of models to perform different tasks; for instance, the algorithm that detects humans in an image will be different from the CNN that infers dog breed.  There are many points of possible failure, and no perfect algorithm exists.  Your imperfect solution will nonetheless create a fun user experience!\n",
    "\n",
    "### The Road Ahead\n",
    "\n",
    "We break the notebook into separate steps.  Feel free to use the links below to navigate the notebook.\n",
    "\n",
    "* [Step 0](#step0): Import Datasets\n",
    "* [Step 1](#step1): Detect Humans\n",
    "* [Step 2](#step2): Detect Dogs\n",
    "* [Step 3](#step3): Create a CNN to Classify Dog Breeds (from Scratch)\n",
    "* [Step 4](#step4): Use a CNN to Classify Dog Breeds (using Transfer Learning)\n",
    "* [Step 5](#step5): Create a CNN to Classify Dog Breeds (using Transfer Learning)\n",
    "* [Step 6](#step6): Write your Algorithm\n",
    "* [Step 7](#step7): Test Your Algorithm\n",
    "\n",
    "---\n",
    "<a id='step0'></a>\n",
    "## Step 0: Import Datasets\n",
    "\n",
    "### Import Dog Dataset\n",
    "\n",
    "In the code cell below, we import a dataset of dog images.  We populate a few variables through the use of the `load_files` function from the scikit-learn library:\n",
    "- `train_files`, `valid_files`, `test_files` - numpy arrays containing file paths to images\n",
    "- `train_targets`, `valid_targets`, `test_targets` - numpy arrays containing onehot-encoded classification labels \n",
    "- `dog_names` - list of string-valued dog breed names for translating labels"
   ]
  },
  {
   "cell_type": "code",
   "execution_count": 2,
   "metadata": {},
   "outputs": [
    {
     "name": "stderr",
     "output_type": "stream",
     "text": [
      "Using TensorFlow backend.\n",
      "C:\\Users\\johnc\\Anaconda3\\envs\\dog-project\\lib\\site-packages\\h5py\\__init__.py:34: FutureWarning: Conversion of the second argument of issubdtype from `float` to `np.floating` is deprecated. In future, it will be treated as `np.float64 == np.dtype(float).type`.\n",
      "  from ._conv import register_converters as _register_converters\n"
     ]
    },
    {
     "name": "stdout",
     "output_type": "stream",
     "text": [
      "There are 133 total dog categories.\n",
      "There are 8351 total dog images.\n",
      "\n",
      "There are 6680 training dog images.\n",
      "There are 835 validation dog images.\n",
      "There are 836 test dog images.\n"
     ]
    }
   ],
   "source": [
    "from sklearn.datasets import load_files       \n",
    "from keras.utils import np_utils\n",
    "import numpy as np\n",
    "from glob import glob\n",
    "\n",
    "# define function to load train, test, and validation datasets\n",
    "def load_dataset(path):\n",
    "    data = load_files(path)\n",
    "    dog_files = np.array(data['filenames'])\n",
    "    dog_targets = np_utils.to_categorical(np.array(data['target']), 133)\n",
    "    return dog_files, dog_targets\n",
    "\n",
    "# load train, test, and validation datasets\n",
    "train_files, train_targets = load_dataset('dogImages/train')\n",
    "valid_files, valid_targets = load_dataset('dogImages/valid')\n",
    "test_files, test_targets = load_dataset('dogImages/test')\n",
    "\n",
    "# load list of dog names\n",
    "dog_names = [item[20:-1] for item in sorted(glob(\"dogImages/train/*/\"))]\n",
    "\n",
    "# print statistics about the dataset\n",
    "print('There are %d total dog categories.' % len(dog_names))\n",
    "print('There are %s total dog images.\\n' % len(np.hstack([train_files, valid_files, test_files])))\n",
    "print('There are %d training dog images.' % len(train_files))\n",
    "print('There are %d validation dog images.' % len(valid_files))\n",
    "print('There are %d test dog images.'% len(test_files))"
   ]
  },
  {
   "cell_type": "markdown",
   "metadata": {},
   "source": [
    "### Import Human Dataset\n",
    "\n",
    "In the code cell below, we import a dataset of human images, where the file paths are stored in the numpy array `human_files`."
   ]
  },
  {
   "cell_type": "code",
   "execution_count": 3,
   "metadata": {},
   "outputs": [
    {
     "name": "stdout",
     "output_type": "stream",
     "text": [
      "There are 13234 total human images.\n"
     ]
    }
   ],
   "source": [
    "import random\n",
    "random.seed(8675309)\n",
    "\n",
    "# load filenames in shuffled human dataset\n",
    "human_files = np.array(glob(\"lfw/*/*\"))\n",
    "random.shuffle(human_files)\n",
    "\n",
    "# print statistics about the dataset\n",
    "print('There are %d total human images.' % len(human_files))"
   ]
  },
  {
   "cell_type": "markdown",
   "metadata": {},
   "source": [
    "---\n",
    "<a id='step1'></a>\n",
    "## Step 1: Detect Humans\n",
    "\n",
    "We use OpenCV's implementation of [Haar feature-based cascade classifiers](http://docs.opencv.org/trunk/d7/d8b/tutorial_py_face_detection.html) to detect human faces in images.  OpenCV provides many pre-trained face detectors, stored as XML files on [github](https://github.com/opencv/opencv/tree/master/data/haarcascades).  We have downloaded one of these detectors and stored it in the `haarcascades` directory.\n",
    "\n",
    "In the next code cell, we demonstrate how to use this detector to find human faces in a sample image."
   ]
  },
  {
   "cell_type": "code",
   "execution_count": 29,
   "metadata": {},
   "outputs": [
    {
     "name": "stdout",
     "output_type": "stream",
     "text": [
      "Number of faces detected: 1\n"
     ]
    },
    {
     "data": {
      "image/png": "[encoded data removed]",
      "text/plain": [
       "<matplotlib.figure.Figure at 0x224bc4429b0>"
      ]
     },
     "metadata": {},
     "output_type": "display_data"
    }
   ],
   "source": [
    "import cv2                \n",
    "import matplotlib.pyplot as plt                        \n",
    "%matplotlib inline                               \n",
    "\n",
    "# extract pre-trained face detector\n",
    "face_cascade = cv2.CascadeClassifier('haarcascades/haarcascade_frontalface_alt.xml')\n",
    "\n",
    "# load color (BGR) image\n",
    "img = cv2.imread(human_files[3])\n",
    "# convert BGR image to grayscale\n",
    "gray = cv2.cvtColor(img, cv2.COLOR_BGR2GRAY)\n",
    "\n",
    "# find faces in image\n",
    "faces = face_cascade.detectMultiScale(gray)\n",
    "\n",
    "# print number of faces detected in the image\n",
    "print('Number of faces detected:', len(faces))\n",
    "\n",
    "# get bounding box for each detected face\n",
    "for (x,y,w,h) in faces:\n",
    "    # add bounding box to color image\n",
    "    cv2.rectangle(img,(x,y),(x+w,y+h),(255,0,0),2)\n",
    "    \n",
    "# convert BGR image to RGB for plotting\n",
    "cv_rgb = cv2.cvtColor(img, cv2.COLOR_BGR2RGB)\n",
    "\n",
    "# display the image, along with bounding box\n",
    "plt.imshow(cv_rgb)\n",
    "plt.show()"
   ]
  },
  {
   "cell_type": "markdown",
   "metadata": {},
   "source": [
    "Before using any of the face detectors, it is standard procedure to convert the images to grayscale.  The `detectMultiScale` function executes the classifier stored in `face_cascade` and takes the grayscale image as a parameter.  \n",
    "\n",
    "In the above code, `faces` is a numpy array of detected faces, where each row corresponds to a detected face.  Each detected face is a 1D array with four entries that specifies the bounding box of the detected face.  The first two entries in the array (extracted in the above code as `x` and `y`) specify the horizontal and vertical positions of the top left corner of the bounding box.  The last two entries in the array (extracted here as `w` and `h`) specify the width and height of the box.\n",
    "\n",
    "### Write a Human Face Detector\n",
    "\n",
    "We can use this procedure to write a function that returns `True` if a human face is detected in an image and `False` otherwise.  This function, aptly named `face_detector`, takes a string-valued file path to an image as input and appears in the code block below."
   ]
  },
  {
   "cell_type": "code",
   "execution_count": 30,
   "metadata": {},
   "outputs": [],
   "source": [
    "# returns \"True\" if face is detected in image stored at img_path\n",
    "def face_detector(img_path):\n",
    "    img = cv2.imread(img_path)\n",
    "    gray = cv2.cvtColor(img, cv2.COLOR_BGR2GRAY)\n",
    "    faces = face_cascade.detectMultiScale(gray)\n",
    "    return len(faces) > 0"
   ]
  },
  {
   "cell_type": "markdown",
   "metadata": {},
   "source": [
    "### (IMPLEMENTATION) Assess the Human Face Detector\n",
    "\n",
    "__Question 1:__ Use the code cell below to test the performance of the `face_detector` function.  \n",
    "- What percentage of the first 100 images in `human_files` have a detected human face?  \n",
    "- What percentage of the first 100 images in `dog_files` have a detected human face? \n",
    "\n",
    "Ideally, we would like 100% of human images with a detected face and 0% of dog images with a detected face.  You will see that our algorithm falls short of this goal, but still gives acceptable performance.  We extract the file paths for the first 100 images from each of the datasets and store them in the numpy arrays `human_files_short` and `dog_files_short`.\n",
    "\n",
    "__Answer:__ 97% of the first 100 human images have a detected human face, and 11% of the first 100 dog images have a detected human face."
   ]
  },
  {
   "cell_type": "code",
   "execution_count": 5,
   "metadata": {},
   "outputs": [
    {
     "name": "stdout",
     "output_type": "stream",
     "text": [
      "0.97 0.11\n"
     ]
    }
   ],
   "source": [
    "human_files_short = human_files[:100]\n",
    "dog_files_short = train_files[:100]\n",
    "# Do NOT modify the code above this line.\n",
    "\n",
    "## TODO: Test the performance of the face_detector algorithm \n",
    "## on the images in human_files_short and dog_files_short.\n",
    "human_as_human = len(list(x for x in map(face_detector, human_files_short) if x))/100\n",
    "dog_as_human = len(list(x for x in map(face_detector, dog_files_short) if x))/100\n",
    "print(human_as_human, dog_as_human)"
   ]
  },
  {
   "cell_type": "markdown",
   "metadata": {},
   "source": [
    "__Question 2:__ This algorithmic choice necessitates that we communicate to the user that we accept human images only when they provide a clear view of a face (otherwise, we risk having unneccessarily frustrated users!). In your opinion, is this a reasonable expectation to pose on the user? If not, can you think of a way to detect humans in images that does not necessitate an image with a clearly presented face?\n",
    "\n",
    "__Answer:__ Given that the function is only meant to detect whether a human face is present, I think this is not a reasonable expectation to pose on the user. We can further train the detector with blurred face images such that it could recognise other (more abstract) features, for example the shape of the head. \n",
    "\n",
    "We suggest the face detector from OpenCV as a potential way to detect human images in your algorithm, but you are free to explore other approaches, especially approaches that make use of deep learning :).  Please use the code cell below to design and test your own face detection algorithm.  If you decide to pursue this _optional_ task, report performance on each of the datasets."
   ]
  },
  {
   "cell_type": "code",
   "execution_count": 6,
   "metadata": {},
   "outputs": [],
   "source": [
    "## (Optional) TODO: Report the performance of another  \n",
    "## face detection algorithm on the LFW dataset\n",
    "### Feel free to use as many code cells as needed."
   ]
  },
  {
   "cell_type": "markdown",
   "metadata": {},
   "source": [
    "---\n",
    "<a id='step2'></a>\n",
    "## Step 2: Detect Dogs\n",
    "\n",
    "In this section, we use a pre-trained [ResNet-50](http://ethereon.github.io/netscope/#/gist/db945b393d40bfa26006) model to detect dogs in images.  Our first line of code downloads the ResNet-50 model, along with weights that have been trained on [ImageNet](http://www.image-net.org/), a very large, very popular dataset used for image classification and other vision tasks.  ImageNet contains over 10 million URLs, each linking to an image containing an object from one of [1000 categories](https://gist.github.com/yrevar/942d3a0ac09ec9e5eb3a).  Given an image, this pre-trained ResNet-50 model returns a prediction (derived from the available categories in ImageNet) for the object that is contained in the image."
   ]
  },
  {
   "cell_type": "code",
   "execution_count": 31,
   "metadata": {},
   "outputs": [
    {
     "name": "stdout",
     "output_type": "stream",
     "text": [
      "WARNING:tensorflow:From C:\\Users\\johnc\\Anaconda3\\envs\\dog-project\\lib\\site-packages\\keras\\backend\\tensorflow_backend.py:1062: calling reduce_prod (from tensorflow.python.ops.math_ops) with keep_dims is deprecated and will be removed in a future version.\n",
      "Instructions for updating:\n",
      "keep_dims is deprecated, use keepdims instead\n"
     ]
    }
   ],
   "source": [
    "from keras.applications.resnet50 import ResNet50\n",
    "\n",
    "# define ResNet50 model\n",
    "ResNet50_model = ResNet50(weights='imagenet')"
   ]
  },
  {
   "cell_type": "markdown",
   "metadata": {},
   "source": [
    "### Pre-process the Data\n",
    "\n",
    "When using TensorFlow as backend, Keras CNNs require a 4D array (which we'll also refer to as a 4D tensor) as input, with shape\n",
    "\n",
    "$$\n",
    "(\\text{nb_samples}, \\text{rows}, \\text{columns}, \\text{channels}),\n",
    "$$\n",
    "\n",
    "where `nb_samples` corresponds to the total number of images (or samples), and `rows`, `columns`, and `channels` correspond to the number of rows, columns, and channels for each image, respectively.  \n",
    "\n",
    "The `path_to_tensor` function below takes a string-valued file path to a color image as input and returns a 4D tensor suitable for supplying to a Keras CNN.  The function first loads the image and resizes it to a square image that is $224 \\times 224$ pixels.  Next, the image is converted to an array, which is then resized to a 4D tensor.  In this case, since we are working with color images, each image has three channels.  Likewise, since we are processing a single image (or sample), the returned tensor will always have shape\n",
    "\n",
    "$$\n",
    "(1, 224, 224, 3).\n",
    "$$\n",
    "\n",
    "The `paths_to_tensor` function takes a numpy array of string-valued image paths as input and returns a 4D tensor with shape \n",
    "\n",
    "$$\n",
    "(\\text{nb_samples}, 224, 224, 3).\n",
    "$$\n",
    "\n",
    "Here, `nb_samples` is the number of samples, or number of images, in the supplied array of image paths.  It is best to think of `nb_samples` as the number of 3D tensors (where each 3D tensor corresponds to a different image) in your dataset!"
   ]
  },
  {
   "cell_type": "code",
   "execution_count": 32,
   "metadata": {},
   "outputs": [],
   "source": [
    "from keras.preprocessing import image                  \n",
    "from tqdm import tqdm\n",
    "\n",
    "def path_to_tensor(img_path):\n",
    "    # loads RGB image as PIL.Image.Image type\n",
    "    img = image.load_img(img_path, target_size=(224, 224))\n",
    "    # convert PIL.Image.Image type to 3D tensor with shape (224, 224, 3)\n",
    "    x = image.img_to_array(img)\n",
    "    # convert 3D tensor to 4D tensor with shape (1, 224, 224, 3) and return 4D tensor\n",
    "    return np.expand_dims(x, axis=0)\n",
    "\n",
    "def paths_to_tensor(img_paths):\n",
    "    list_of_tensors = [path_to_tensor(img_path) for img_path in tqdm(img_paths)]\n",
    "    return np.vstack(list_of_tensors)"
   ]
  },
  {
   "cell_type": "markdown",
   "metadata": {},
   "source": [
    "### Making Predictions with ResNet-50\n",
    "\n",
    "Getting the 4D tensor ready for ResNet-50, and for any other pre-trained model in Keras, requires some additional processing.  First, the RGB image is converted to BGR by reordering the channels.  All pre-trained models have the additional normalization step that the mean pixel (expressed in RGB as $[103.939, 116.779, 123.68]$ and calculated from all pixels in all images in ImageNet) must be subtracted from every pixel in each image.  This is implemented in the imported function `preprocess_input`.  If you're curious, you can check the code for `preprocess_input` [here](https://github.com/fchollet/keras/blob/master/keras/applications/imagenet_utils.py).\n",
    "\n",
    "Now that we have a way to format our image for supplying to ResNet-50, we are now ready to use the model to extract the predictions.  This is accomplished with the `predict` method, which returns an array whose $i$-th entry is the model's predicted probability that the image belongs to the $i$-th ImageNet category.  This is implemented in the `ResNet50_predict_labels` function below.\n",
    "\n",
    "By taking the argmax of the predicted probability vector, we obtain an integer corresponding to the model's predicted object class, which we can identify with an object category through the use of this [dictionary](https://gist.github.com/yrevar/942d3a0ac09ec9e5eb3a). "
   ]
  },
  {
   "cell_type": "code",
   "execution_count": 33,
   "metadata": {},
   "outputs": [],
   "source": [
    "from keras.applications.resnet50 import preprocess_input, decode_predictions\n",
    "\n",
    "def ResNet50_predict_labels(img_path):\n",
    "    # returns prediction vector for image located at img_path\n",
    "    img = preprocess_input(path_to_tensor(img_path))\n",
    "    return np.argmax(ResNet50_model.predict(img))"
   ]
  },
  {
   "cell_type": "markdown",
   "metadata": {},
   "source": [
    "### Write a Dog Detector\n",
    "\n",
    "While looking at the [dictionary](https://gist.github.com/yrevar/942d3a0ac09ec9e5eb3a), you will notice that the categories corresponding to dogs appear in an uninterrupted sequence and correspond to dictionary keys 151-268, inclusive, to include all categories from `'Chihuahua'` to `'Mexican hairless'`.  Thus, in order to check to see if an image is predicted to contain a dog by the pre-trained ResNet-50 model, we need only check if the `ResNet50_predict_labels` function above returns a value between 151 and 268 (inclusive).\n",
    "\n",
    "We use these ideas to complete the `dog_detector` function below, which returns `True` if a dog is detected in an image (and `False` if not)."
   ]
  },
  {
   "cell_type": "code",
   "execution_count": 34,
   "metadata": {},
   "outputs": [],
   "source": [
    "### returns \"True\" if a dog is detected in the image stored at img_path\n",
    "def dog_detector(img_path):\n",
    "    prediction = ResNet50_predict_labels(img_path)\n",
    "    return ((prediction <= 268) & (prediction >= 151)) "
   ]
  },
  {
   "cell_type": "markdown",
   "metadata": {},
   "source": [
    "### (IMPLEMENTATION) Assess the Dog Detector\n",
    "\n",
    "__Question 3:__ Use the code cell below to test the performance of your `dog_detector` function.  \n",
    "- What percentage of the images in `human_files_short` have a detected dog?  \n",
    "- What percentage of the images in `dog_files_short` have a detected dog?\n",
    "\n",
    "__Answer:__ A dog is detected in 2% of the human_files_short images and 100% of the dog_files_short images respectively."
   ]
  },
  {
   "cell_type": "code",
   "execution_count": 11,
   "metadata": {},
   "outputs": [
    {
     "name": "stdout",
     "output_type": "stream",
     "text": [
      "0.02 1.0\n"
     ]
    }
   ],
   "source": [
    "### TODO: Test the performance of the dog_detector function\n",
    "### on the images in human_files_short and dog_files_short.\n",
    "human_as_dog = sum(1 for x in map(dog_detector, human_files_short) if x)/100\n",
    "dog_as_dog = sum(1 for x in map(dog_detector, dog_files_short) if x)/100\n",
    "print(human_as_dog, dog_as_dog)"
   ]
  },
  {
   "cell_type": "markdown",
   "metadata": {},
   "source": [
    "---\n",
    "<a id='step3'></a>\n",
    "## Step 3: Create a CNN to Classify Dog Breeds (from Scratch)\n",
    "\n",
    "Now that we have functions for detecting humans and dogs in images, we need a way to predict breed from images.  In this step, you will create a CNN that classifies dog breeds.  You must create your CNN _from scratch_ (so, you can't use transfer learning _yet_!), and you must attain a test accuracy of at least 1%.  In Step 5 of this notebook, you will have the opportunity to use transfer learning to create a CNN that attains greatly improved accuracy.\n",
    "\n",
    "Be careful with adding too many trainable layers!  More parameters means longer training, which means you are more likely to need a GPU to accelerate the training process.  Thankfully, Keras provides a handy estimate of the time that each epoch is likely to take; you can extrapolate this estimate to figure out how long it will take for your algorithm to train. \n",
    "\n",
    "We mention that the task of assigning breed to dogs from images is considered exceptionally challenging.  To see why, consider that *even a human* would have great difficulty in distinguishing between a Brittany and a Welsh Springer Spaniel.  \n",
    "\n",
    "Brittany | Welsh Springer Spaniel\n",
    "- | - \n",
    "<img src=\"images/Brittany_02625.jpg\" width=\"100\"> | <img src=\"images/Welsh_springer_spaniel_08203.jpg\" width=\"200\">\n",
    "\n",
    "It is not difficult to find other dog breed pairs with minimal inter-class variation (for instance, Curly-Coated Retrievers and American Water Spaniels).  \n",
    "\n",
    "Curly-Coated Retriever | American Water Spaniel\n",
    "- | -\n",
    "<img src=\"images/Curly-coated_retriever_03896.jpg\" width=\"200\"> | <img src=\"images/American_water_spaniel_00648.jpg\" width=\"200\">\n",
    "\n",
    "\n",
    "Likewise, recall that labradors come in yellow, chocolate, and black.  Your vision-based algorithm will have to conquer this high intra-class variation to determine how to classify all of these different shades as the same breed.  \n",
    "\n",
    "Yellow Labrador | Chocolate Labrador | Black Labrador\n",
    "- | -\n",
    "<img src=\"images/Labrador_retriever_06457.jpg\" width=\"150\"> | <img src=\"images/Labrador_retriever_06455.jpg\" width=\"240\"> | <img src=\"images/Labrador_retriever_06449.jpg\" width=\"220\">\n",
    "\n",
    "We also mention that random chance presents an exceptionally low bar: setting aside the fact that the classes are slightly imabalanced, a random guess will provide a correct answer roughly 1 in 133 times, which corresponds to an accuracy of less than 1%.  \n",
    "\n",
    "Remember that the practice is far ahead of the theory in deep learning.  Experiment with many different architectures, and trust your intuition.  And, of course, have fun! \n",
    "\n",
    "### Pre-process the Data\n",
    "\n",
    "We rescale the images by dividing every pixel in every image by 255."
   ]
  },
  {
   "cell_type": "code",
   "execution_count": 12,
   "metadata": {},
   "outputs": [
    {
     "name": "stderr",
     "output_type": "stream",
     "text": [
      "100%|█████████████████████████████████████████████████████████████████████████████| 6680/6680 [00:49<00:00, 135.25it/s]\n",
      "100%|███████████████████████████████████████████████████████████████████████████████| 835/835 [00:05<00:00, 147.07it/s]\n",
      "100%|███████████████████████████████████████████████████████████████████████████████| 836/836 [00:05<00:00, 149.02it/s]\n"
     ]
    }
   ],
   "source": [
    "from PIL import ImageFile                            \n",
    "ImageFile.LOAD_TRUNCATED_IMAGES = True                 \n",
    "\n",
    "# pre-process the data for Keras\n",
    "train_tensors = paths_to_tensor(train_files).astype('float32')/255\n",
    "valid_tensors = paths_to_tensor(valid_files).astype('float32')/255\n",
    "test_tensors = paths_to_tensor(test_files).astype('float32')/255"
   ]
  },
  {
   "cell_type": "markdown",
   "metadata": {},
   "source": [
    "### (IMPLEMENTATION) Model Architecture\n",
    "\n",
    "Create a CNN to classify dog breed.  At the end of your code cell block, summarize the layers of your model by executing the line:\n",
    "    \n",
    "        model.summary()\n",
    "\n",
    "We have imported some Python modules to get you started, but feel free to import as many modules as you need.  If you end up getting stuck, here's a hint that specifies a model that trains relatively fast on CPU and attains >1% test accuracy in 5 epochs:\n",
    "\n",
    "![Sample CNN](images/sample_cnn.png)\n",
    "           \n",
    "__Question 4:__ Outline the steps you took to get to your final CNN architecture and your reasoning at each step.  If you chose to use the hinted architecture above, describe why you think that CNN architecture should work well for the image classification task.\n",
    "\n",
    "__Answer:__ I started with an architecture with the one hinted above because convolutional neural networks are generally good at image classification, the convolutional layers can each specialise on recognising specific features in the images. In addition, the layers in my CNN has more filters and my CNN contains an extra layer to increase the number of trainable parameters, but at the same time have added dropout layers an an attempt to reduce overfitting."
   ]
  },
  {
   "cell_type": "code",
   "execution_count": 9,
   "metadata": {},
   "outputs": [
    {
     "name": "stdout",
     "output_type": "stream",
     "text": [
      "WARNING:tensorflow:From C:\\Users\\johnc\\Anaconda3\\envs\\dog-project\\lib\\site-packages\\keras\\backend\\tensorflow_backend.py:1123: calling reduce_mean (from tensorflow.python.ops.math_ops) with keep_dims is deprecated and will be removed in a future version.\n",
      "Instructions for updating:\n",
      "keep_dims is deprecated, use keepdims instead\n",
      "_________________________________________________________________\n",
      "Layer (type)                 Output Shape              Param #   \n",
      "=================================================================\n",
      "conv2d_1 (Conv2D)            (None, 224, 224, 32)      416       \n",
      "_________________________________________________________________\n",
      "max_pooling2d_1 (MaxPooling2 (None, 112, 112, 32)      0         \n",
      "_________________________________________________________________\n",
      "conv2d_2 (Conv2D)            (None, 112, 112, 64)      8256      \n",
      "_________________________________________________________________\n",
      "max_pooling2d_2 (MaxPooling2 (None, 56, 56, 64)        0         \n",
      "_________________________________________________________________\n",
      "conv2d_3 (Conv2D)            (None, 56, 56, 64)        16448     \n",
      "_________________________________________________________________\n",
      "max_pooling2d_3 (MaxPooling2 (None, 28, 28, 64)        0         \n",
      "_________________________________________________________________\n",
      "conv2d_4 (Conv2D)            (None, 28, 28, 32)        8224      \n",
      "_________________________________________________________________\n",
      "global_average_pooling2d_1 ( (None, 32)                0         \n",
      "_________________________________________________________________\n",
      "dropout_1 (Dropout)          (None, 32)                0         \n",
      "_________________________________________________________________\n",
      "dense_1 (Dense)              (None, 133)               4389      \n",
      "=================================================================\n",
      "Total params: 37,733.0\n",
      "Trainable params: 37,733.0\n",
      "Non-trainable params: 0.0\n",
      "_________________________________________________________________\n"
     ]
    }
   ],
   "source": [
    "from keras.layers import Conv2D, MaxPooling2D, GlobalAveragePooling2D\n",
    "from keras.layers import Dropout, Flatten, Dense\n",
    "from keras.models import Sequential\n",
    "\n",
    "model = Sequential()\n",
    "\n",
    "### TODO: Define your architecture.\n",
    "model.add(Conv2D(filters=32, kernel_size=2, padding='same', activation='relu', \n",
    "                        input_shape=(224, 224, 3)))\n",
    "model.add(MaxPooling2D(pool_size=2))\n",
    "model.add(Conv2D(filters=64, kernel_size=2, padding='same', activation='relu'))\n",
    "model.add(MaxPooling2D(pool_size=2))\n",
    "model.add(Conv2D(filters=64, kernel_size=2, padding='same', activation='relu'))\n",
    "model.add(MaxPooling2D(pool_size=2))\n",
    "model.add(Conv2D(filters=32, kernel_size=2, padding='same', activation='relu'))\n",
    "model.add(GlobalAveragePooling2D())\n",
    "\n",
    "model.add(Dropout(0.4))\n",
    "model.add(Dense(133, activation='softmax'))\n",
    "\n",
    "model.summary()"
   ]
  },
  {
   "cell_type": "markdown",
   "metadata": {},
   "source": [
    "### Compile the Model"
   ]
  },
  {
   "cell_type": "code",
   "execution_count": 32,
   "metadata": {},
   "outputs": [],
   "source": [
    "model.compile(optimizer='rmsprop', loss='categorical_crossentropy', metrics=['accuracy'])"
   ]
  },
  {
   "cell_type": "markdown",
   "metadata": {},
   "source": [
    "### (IMPLEMENTATION) Train the Model\n",
    "\n",
    "Train your model in the code cell below.  Use model checkpointing to save the model that attains the best validation loss.\n",
    "\n",
    "You are welcome to [augment the training data](https://blog.keras.io/building-powerful-image-classification-models-using-very-little-data.html), but this is not a requirement. "
   ]
  },
  {
   "cell_type": "code",
   "execution_count": 35,
   "metadata": {
    "scrolled": true
   },
   "outputs": [
    {
     "name": "stdout",
     "output_type": "stream",
     "text": [
      "Train on 6680 samples, validate on 835 samples\n",
      "Epoch 1/5\n",
      "6650/6680 [============================>.] - ETA: 250s - loss: 4.9059 - acc: 0.0000e+0 - ETA: 248s - loss: 4.8948 - acc: 0.0100    - ETA: 245s - loss: 4.8927 - acc: 0.006 - ETA: 241s - loss: 4.8971 - acc: 0.005 - ETA: 238s - loss: 4.8962 - acc: 0.004 - ETA: 237s - loss: 4.8968 - acc: 0.003 - ETA: 235s - loss: 4.8964 - acc: 0.002 - ETA: 233s - loss: 4.8955 - acc: 0.002 - ETA: 232s - loss: 4.8941 - acc: 0.002 - ETA: 231s - loss: 4.8931 - acc: 0.002 - ETA: 229s - loss: 4.8928 - acc: 0.005 - ETA: 226s - loss: 4.8916 - acc: 0.006 - ETA: 225s - loss: 4.8924 - acc: 0.006 - ETA: 223s - loss: 4.8927 - acc: 0.005 - ETA: 221s - loss: 4.8922 - acc: 0.008 - ETA: 219s - loss: 4.8918 - acc: 0.007 - ETA: 217s - loss: 4.8910 - acc: 0.007 - ETA: 215s - loss: 4.8915 - acc: 0.006 - ETA: 213s - loss: 4.8920 - acc: 0.006 - ETA: 212s - loss: 4.8914 - acc: 0.006 - ETA: 210s - loss: 4.8915 - acc: 0.005 - ETA: 208s - loss: 4.8914 - acc: 0.005 - ETA: 207s - loss: 4.8911 - acc: 0.005 - ETA: 205s - loss: 4.8911 - acc: 0.005 - ETA: 203s - loss: 4.8904 - acc: 0.005 - ETA: 201s - loss: 4.8905 - acc: 0.005 - ETA: 199s - loss: 4.8904 - acc: 0.005 - ETA: 197s - loss: 4.8908 - acc: 0.005 - ETA: 195s - loss: 4.8906 - acc: 0.005 - ETA: 193s - loss: 4.8905 - acc: 0.005 - ETA: 191s - loss: 4.8899 - acc: 0.005 - ETA: 190s - loss: 4.8900 - acc: 0.005 - ETA: 188s - loss: 4.8896 - acc: 0.004 - ETA: 186s - loss: 4.8900 - acc: 0.004 - ETA: 184s - loss: 4.8900 - acc: 0.004 - ETA: 182s - loss: 4.8899 - acc: 0.005 - ETA: 180s - loss: 4.8895 - acc: 0.006 - ETA: 178s - loss: 4.8896 - acc: 0.006 - ETA: 176s - loss: 4.8897 - acc: 0.007 - ETA: 174s - loss: 4.8899 - acc: 0.007 - ETA: 173s - loss: 4.8898 - acc: 0.007 - ETA: 171s - loss: 4.8896 - acc: 0.007 - ETA: 169s - loss: 4.8895 - acc: 0.007 - ETA: 167s - loss: 4.8896 - acc: 0.007 - ETA: 165s - loss: 4.8895 - acc: 0.007 - ETA: 163s - loss: 4.8895 - acc: 0.007 - ETA: 162s - loss: 4.8892 - acc: 0.006 - ETA: 160s - loss: 4.8895 - acc: 0.006 - ETA: 158s - loss: 4.8896 - acc: 0.006 - ETA: 156s - loss: 4.8894 - acc: 0.006 - ETA: 154s - loss: 4.8892 - acc: 0.006 - ETA: 152s - loss: 4.8890 - acc: 0.006 - ETA: 150s - loss: 4.8891 - acc: 0.006 - ETA: 148s - loss: 4.8890 - acc: 0.005 - ETA: 146s - loss: 4.8887 - acc: 0.006 - ETA: 144s - loss: 4.8888 - acc: 0.006 - ETA: 142s - loss: 4.8886 - acc: 0.006 - ETA: 140s - loss: 4.8889 - acc: 0.006 - ETA: 139s - loss: 4.8891 - acc: 0.006 - ETA: 137s - loss: 4.8893 - acc: 0.006 - ETA: 135s - loss: 4.8893 - acc: 0.005 - ETA: 133s - loss: 4.8892 - acc: 0.005 - ETA: 131s - loss: 4.8889 - acc: 0.005 - ETA: 129s - loss: 4.8890 - acc: 0.005 - ETA: 127s - loss: 4.8894 - acc: 0.005 - ETA: 125s - loss: 4.8895 - acc: 0.005 - ETA: 124s - loss: 4.8894 - acc: 0.005 - ETA: 122s - loss: 4.8894 - acc: 0.005 - ETA: 120s - loss: 4.8895 - acc: 0.005 - ETA: 118s - loss: 4.8893 - acc: 0.006 - ETA: 116s - loss: 4.8893 - acc: 0.006 - ETA: 114s - loss: 4.8893 - acc: 0.006 - ETA: 112s - loss: 4.8893 - acc: 0.006 - ETA: 110s - loss: 4.8894 - acc: 0.006 - ETA: 108s - loss: 4.8893 - acc: 0.006 - ETA: 107s - loss: 4.8892 - acc: 0.006 - ETA: 105s - loss: 4.8893 - acc: 0.006 - ETA: 103s - loss: 4.8894 - acc: 0.005 - ETA: 101s - loss: 4.8892 - acc: 0.006 - ETA: 99s - loss: 4.8892 - acc: 0.006 - ETA: 97s - loss: 4.8893 - acc: 0.00 - ETA: 95s - loss: 4.8893 - acc: 0.00 - ETA: 94s - loss: 4.8894 - acc: 0.00 - ETA: 92s - loss: 4.8893 - acc: 0.00 - ETA: 90s - loss: 4.8892 - acc: 0.00 - ETA: 88s - loss: 4.8892 - acc: 0.00 - ETA: 86s - loss: 4.8891 - acc: 0.00 - ETA: 84s - loss: 4.8890 - acc: 0.00 - ETA: 82s - loss: 4.8890 - acc: 0.00 - ETA: 81s - loss: 4.8889 - acc: 0.00 - ETA: 79s - loss: 4.8890 - acc: 0.00 - ETA: 77s - loss: 4.8890 - acc: 0.00 - ETA: 75s - loss: 4.8890 - acc: 0.00 - ETA: 73s - loss: 4.8891 - acc: 0.00 - ETA: 71s - loss: 4.8891 - acc: 0.00 - ETA: 69s - loss: 4.8890 - acc: 0.00 - ETA: 68s - loss: 4.8890 - acc: 0.00 - ETA: 66s - loss: 4.8889 - acc: 0.00 - ETA: 64s - loss: 4.8889 - acc: 0.00 - ETA: 62s - loss: 4.8890 - acc: 0.00 - ETA: 60s - loss: 4.8889 - acc: 0.00 - ETA: 58s - loss: 4.8889 - acc: 0.00 - ETA: 56s - loss: 4.8888 - acc: 0.00 - ETA: 55s - loss: 4.8887 - acc: 0.00 - ETA: 53s - loss: 4.8885 - acc: 0.00 - ETA: 51s - loss: 4.8884 - acc: 0.00 - ETA: 49s - loss: 4.8884 - acc: 0.00 - ETA: 47s - loss: 4.8882 - acc: 0.00 - ETA: 45s - loss: 4.8882 - acc: 0.00 - ETA: 43s - loss: 4.8883 - acc: 0.00 - ETA: 41s - loss: 4.8883 - acc: 0.00 - ETA: 40s - loss: 4.8883 - acc: 0.00 - ETA: 38s - loss: 4.8881 - acc: 0.00 - ETA: 36s - loss: 4.8880 - acc: 0.00 - ETA: 34s - loss: 4.8879 - acc: 0.00 - ETA: 32s - loss: 4.8880 - acc: 0.00 - ETA: 30s - loss: 4.8883 - acc: 0.00 - ETA: 28s - loss: 4.8883 - acc: 0.00 - ETA: 27s - loss: 4.8882 - acc: 0.00 - ETA: 25s - loss: 4.8881 - acc: 0.00 - ETA: 23s - loss: 4.8881 - acc: 0.00 - ETA: 21s - loss: 4.8882 - acc: 0.00 - ETA: 19s - loss: 4.8882 - acc: 0.00 - ETA: 17s - loss: 4.8881 - acc: 0.00 - ETA: 15s - loss: 4.8881 - acc: 0.00 - ETA: 14s - loss: 4.8881 - acc: 0.00 - ETA: 12s - loss: 4.8880 - acc: 0.00 - ETA: 10s - loss: 4.8881 - acc: 0.00 - ETA: 8s - loss: 4.8881 - acc: 0.0068 - ETA: 6s - loss: 4.8882 - acc: 0.006 - ETA: 4s - loss: 4.8881 - acc: 0.006 - ETA: 2s - loss: 4.8880 - acc: 0.007 - ETA: 1s - loss: 4.8880 - acc: 0.0072Epoch 00000: val_loss improved from inf to 4.88086, saving model to saved_models/weights.best.from_scratch.hdf5\n",
      "6680/6680 [==============================] - 259s - loss: 4.8879 - acc: 0.0072 - val_loss: 4.8809 - val_acc: 0.0096\n",
      "Epoch 2/5\n",
      "6650/6680 [============================>.] - ETA: 237s - loss: 4.8561 - acc: 0.020 - ETA: 232s - loss: 4.8592 - acc: 0.010 - ETA: 232s - loss: 4.8804 - acc: 0.006 - ETA: 234s - loss: 4.8824 - acc: 0.010 - ETA: 232s - loss: 4.8801 - acc: 0.012 - ETA: 231s - loss: 4.8779 - acc: 0.010 - ETA: 227s - loss: 4.8792 - acc: 0.011 - ETA: 226s - loss: 4.8780 - acc: 0.010 - ETA: 223s - loss: 4.8781 - acc: 0.008 - ETA: 220s - loss: 4.8769 - acc: 0.008 - ETA: 219s - loss: 4.8795 - acc: 0.007 - ETA: 217s - loss: 4.8803 - acc: 0.006 - ETA: 215s - loss: 4.8803 - acc: 0.006 - ETA: 213s - loss: 4.8814 - acc: 0.005 - ETA: 211s - loss: 4.8834 - acc: 0.005 - ETA: 210s - loss: 4.8827 - acc: 0.005 - ETA: 208s - loss: 4.8832 - acc: 0.005 - ETA: 206s - loss: 4.8830 - acc: 0.005 - ETA: 204s - loss: 4.8828 - acc: 0.006 - ETA: 202s - loss: 4.8837 - acc: 0.006 - ETA: 200s - loss: 4.8830 - acc: 0.005 - ETA: 198s - loss: 4.8824 - acc: 0.006 - ETA: 196s - loss: 4.8831 - acc: 0.007 - ETA: 194s - loss: 4.8826 - acc: 0.006 - ETA: 193s - loss: 4.8829 - acc: 0.006 - ETA: 191s - loss: 4.8833 - acc: 0.006 - ETA: 189s - loss: 4.8836 - acc: 0.006 - ETA: 187s - loss: 4.8836 - acc: 0.006 - ETA: 185s - loss: 4.8835 - acc: 0.006 - ETA: 183s - loss: 4.8838 - acc: 0.006 - ETA: 181s - loss: 4.8840 - acc: 0.006 - ETA: 180s - loss: 4.8837 - acc: 0.006 - ETA: 178s - loss: 4.8838 - acc: 0.006 - ETA: 176s - loss: 4.8831 - acc: 0.007 - ETA: 174s - loss: 4.8825 - acc: 0.006 - ETA: 172s - loss: 4.8819 - acc: 0.007 - ETA: 171s - loss: 4.8816 - acc: 0.007 - ETA: 169s - loss: 4.8802 - acc: 0.007 - ETA: 167s - loss: 4.8809 - acc: 0.008 - ETA: 165s - loss: 4.8805 - acc: 0.008 - ETA: 163s - loss: 4.8805 - acc: 0.008 - ETA: 162s - loss: 4.8799 - acc: 0.008 - ETA: 160s - loss: 4.8801 - acc: 0.007 - ETA: 158s - loss: 4.8799 - acc: 0.007 - ETA: 156s - loss: 4.8808 - acc: 0.007 - ETA: 154s - loss: 4.8807 - acc: 0.007 - ETA: 152s - loss: 4.8807 - acc: 0.007 - ETA: 151s - loss: 4.8810 - acc: 0.007 - ETA: 149s - loss: 4.8803 - acc: 0.006 - ETA: 147s - loss: 4.8797 - acc: 0.007 - ETA: 146s - loss: 4.8802 - acc: 0.007 - ETA: 144s - loss: 4.8800 - acc: 0.007 - ETA: 142s - loss: 4.8796 - acc: 0.007 - ETA: 140s - loss: 4.8806 - acc: 0.007 - ETA: 138s - loss: 4.8806 - acc: 0.007 - ETA: 136s - loss: 4.8805 - acc: 0.007 - ETA: 135s - loss: 4.8809 - acc: 0.007 - ETA: 133s - loss: 4.8810 - acc: 0.007 - ETA: 131s - loss: 4.8809 - acc: 0.007 - ETA: 130s - loss: 4.8812 - acc: 0.007 - ETA: 128s - loss: 4.8814 - acc: 0.007 - ETA: 126s - loss: 4.8815 - acc: 0.007 - ETA: 124s - loss: 4.8815 - acc: 0.007 - ETA: 122s - loss: 4.8811 - acc: 0.007 - ETA: 121s - loss: 4.8809 - acc: 0.007 - ETA: 119s - loss: 4.8810 - acc: 0.007 - ETA: 117s - loss: 4.8810 - acc: 0.007 - ETA: 116s - loss: 4.8810 - acc: 0.007 - ETA: 114s - loss: 4.8810 - acc: 0.007 - ETA: 112s - loss: 4.8811 - acc: 0.008 - ETA: 110s - loss: 4.8806 - acc: 0.007 - ETA: 108s - loss: 4.8805 - acc: 0.008 - ETA: 107s - loss: 4.8804 - acc: 0.008 - ETA: 105s - loss: 4.8804 - acc: 0.008 - ETA: 103s - loss: 4.8802 - acc: 0.008 - ETA: 101s - loss: 4.8804 - acc: 0.007 - ETA: 100s - loss: 4.8803 - acc: 0.008 - ETA: 98s - loss: 4.8804 - acc: 0.008 - ETA: 96s - loss: 4.8805 - acc: 0.00 - ETA: 94s - loss: 4.8804 - acc: 0.00 - ETA: 93s - loss: 4.8804 - acc: 0.00 - ETA: 91s - loss: 4.8802 - acc: 0.00 - ETA: 89s - loss: 4.8801 - acc: 0.00 - ETA: 87s - loss: 4.8801 - acc: 0.00 - ETA: 85s - loss: 4.8804 - acc: 0.00 - ETA: 84s - loss: 4.8805 - acc: 0.00 - ETA: 82s - loss: 4.8807 - acc: 0.00 - ETA: 80s - loss: 4.8811 - acc: 0.00 - ETA: 78s - loss: 4.8811 - acc: 0.00 - ETA: 77s - loss: 4.8810 - acc: 0.00 - ETA: 75s - loss: 4.8808 - acc: 0.00 - ETA: 73s - loss: 4.8809 - acc: 0.00 - ETA: 71s - loss: 4.8811 - acc: 0.00 - ETA: 70s - loss: 4.8808 - acc: 0.00 - ETA: 68s - loss: 4.8810 - acc: 0.00 - ETA: 66s - loss: 4.8806 - acc: 0.00 - ETA: 64s - loss: 4.8804 - acc: 0.00 - ETA: 62s - loss: 4.8801 - acc: 0.00 - ETA: 61s - loss: 4.8801 - acc: 0.00 - ETA: 59s - loss: 4.8800 - acc: 0.00 - ETA: 57s - loss: 4.8791 - acc: 0.00 - ETA: 55s - loss: 4.8800 - acc: 0.00 - ETA: 54s - loss: 4.8798 - acc: 0.00 - ETA: 52s - loss: 4.8798 - acc: 0.00 - ETA: 50s - loss: 4.8801 - acc: 0.00 - ETA: 48s - loss: 4.8802 - acc: 0.00 - ETA: 47s - loss: 4.8799 - acc: 0.00 - ETA: 45s - loss: 4.8801 - acc: 0.00 - ETA: 43s - loss: 4.8799 - acc: 0.00 - ETA: 41s - loss: 4.8801 - acc: 0.00 - ETA: 39s - loss: 4.8801 - acc: 0.00 - ETA: 38s - loss: 4.8801 - acc: 0.00 - ETA: 36s - loss: 4.8801 - acc: 0.00 - ETA: 34s - loss: 4.8801 - acc: 0.00 - ETA: 32s - loss: 4.8800 - acc: 0.00 - ETA: 31s - loss: 4.8800 - acc: 0.00 - ETA: 29s - loss: 4.8797 - acc: 0.00 - ETA: 27s - loss: 4.8800 - acc: 0.00 - ETA: 25s - loss: 4.8802 - acc: 0.00 - ETA: 24s - loss: 4.8801 - acc: 0.00 - ETA: 22s - loss: 4.8803 - acc: 0.00 - ETA: 20s - loss: 4.8804 - acc: 0.00 - ETA: 18s - loss: 4.8804 - acc: 0.00 - ETA: 16s - loss: 4.8803 - acc: 0.00 - ETA: 15s - loss: 4.8803 - acc: 0.00 - ETA: 13s - loss: 4.8803 - acc: 0.00 - ETA: 11s - loss: 4.8801 - acc: 0.00 - ETA: 9s - loss: 4.8804 - acc: 0.0086 - ETA: 8s - loss: 4.8801 - acc: 0.008 - ETA: 6s - loss: 4.8801 - acc: 0.008 - ETA: 4s - loss: 4.8802 - acc: 0.008 - ETA: 2s - loss: 4.8803 - acc: 0.008 - ETA: 1s - loss: 4.8804 - acc: 0.0087Epoch 00001: val_loss improved from 4.88086 to 4.87483, saving model to saved_models/weights.best.from_scratch.hdf5\n",
      "6680/6680 [==============================] - 246s - loss: 4.8805 - acc: 0.0087 - val_loss: 4.8748 - val_acc: 0.0168\n",
      "Epoch 3/5\n"
     ]
    },
    {
     "name": "stdout",
     "output_type": "stream",
     "text": [
      "6650/6680 [============================>.] - ETA: 248s - loss: 4.8646 - acc: 0.0000e+0 - ETA: 244s - loss: 4.8660 - acc: 0.0000e+0 - ETA: 237s - loss: 4.8582 - acc: 0.0000e+0 - ETA: 233s - loss: 4.8621 - acc: 0.0050    - ETA: 231s - loss: 4.8644 - acc: 0.008 - ETA: 230s - loss: 4.8656 - acc: 0.010 - ETA: 227s - loss: 4.8690 - acc: 0.008 - ETA: 226s - loss: 4.8694 - acc: 0.010 - ETA: 223s - loss: 4.8664 - acc: 0.008 - ETA: 227s - loss: 4.8692 - acc: 0.010 - ETA: 226s - loss: 4.8679 - acc: 0.012 - ETA: 223s - loss: 4.8660 - acc: 0.013 - ETA: 223s - loss: 4.8676 - acc: 0.012 - ETA: 221s - loss: 4.8671 - acc: 0.011 - ETA: 219s - loss: 4.8671 - acc: 0.010 - ETA: 217s - loss: 4.8693 - acc: 0.011 - ETA: 215s - loss: 4.8709 - acc: 0.010 - ETA: 212s - loss: 4.8704 - acc: 0.011 - ETA: 213s - loss: 4.8692 - acc: 0.011 - ETA: 212s - loss: 4.8710 - acc: 0.012 - ETA: 211s - loss: 4.8698 - acc: 0.012 - ETA: 208s - loss: 4.8707 - acc: 0.011 - ETA: 206s - loss: 4.8697 - acc: 0.011 - ETA: 205s - loss: 4.8702 - acc: 0.010 - ETA: 205s - loss: 4.8701 - acc: 0.010 - ETA: 204s - loss: 4.8704 - acc: 0.011 - ETA: 201s - loss: 4.8698 - acc: 0.011 - ETA: 199s - loss: 4.8711 - acc: 0.011 - ETA: 196s - loss: 4.8713 - acc: 0.011 - ETA: 194s - loss: 4.8719 - acc: 0.010 - ETA: 192s - loss: 4.8722 - acc: 0.011 - ETA: 190s - loss: 4.8728 - acc: 0.010 - ETA: 188s - loss: 4.8734 - acc: 0.010 - ETA: 186s - loss: 4.8735 - acc: 0.010 - ETA: 184s - loss: 4.8735 - acc: 0.009 - ETA: 182s - loss: 4.8731 - acc: 0.009 - ETA: 180s - loss: 4.8732 - acc: 0.009 - ETA: 178s - loss: 4.8735 - acc: 0.009 - ETA: 175s - loss: 4.8742 - acc: 0.009 - ETA: 173s - loss: 4.8741 - acc: 0.010 - ETA: 171s - loss: 4.8744 - acc: 0.010 - ETA: 169s - loss: 4.8744 - acc: 0.010 - ETA: 167s - loss: 4.8747 - acc: 0.009 - ETA: 165s - loss: 4.8750 - acc: 0.009 - ETA: 163s - loss: 4.8748 - acc: 0.009 - ETA: 162s - loss: 4.8745 - acc: 0.009 - ETA: 159s - loss: 4.8737 - acc: 0.009 - ETA: 158s - loss: 4.8739 - acc: 0.009 - ETA: 156s - loss: 4.8739 - acc: 0.009 - ETA: 154s - loss: 4.8737 - acc: 0.009 - ETA: 152s - loss: 4.8738 - acc: 0.009 - ETA: 150s - loss: 4.8737 - acc: 0.008 - ETA: 148s - loss: 4.8736 - acc: 0.009 - ETA: 146s - loss: 4.8736 - acc: 0.009 - ETA: 144s - loss: 4.8737 - acc: 0.009 - ETA: 142s - loss: 4.8730 - acc: 0.010 - ETA: 140s - loss: 4.8730 - acc: 0.010 - ETA: 138s - loss: 4.8734 - acc: 0.010 - ETA: 136s - loss: 4.8724 - acc: 0.011 - ETA: 134s - loss: 4.8725 - acc: 0.011 - ETA: 132s - loss: 4.8723 - acc: 0.011 - ETA: 130s - loss: 4.8726 - acc: 0.011 - ETA: 128s - loss: 4.8731 - acc: 0.011 - ETA: 127s - loss: 4.8739 - acc: 0.010 - ETA: 125s - loss: 4.8738 - acc: 0.011 - ETA: 123s - loss: 4.8738 - acc: 0.010 - ETA: 121s - loss: 4.8738 - acc: 0.010 - ETA: 119s - loss: 4.8741 - acc: 0.010 - ETA: 117s - loss: 4.8744 - acc: 0.010 - ETA: 115s - loss: 4.8740 - acc: 0.010 - ETA: 113s - loss: 4.8739 - acc: 0.010 - ETA: 111s - loss: 4.8741 - acc: 0.010 - ETA: 110s - loss: 4.8739 - acc: 0.010 - ETA: 108s - loss: 4.8736 - acc: 0.010 - ETA: 106s - loss: 4.8730 - acc: 0.010 - ETA: 104s - loss: 4.8735 - acc: 0.010 - ETA: 102s - loss: 4.8730 - acc: 0.011 - ETA: 100s - loss: 4.8733 - acc: 0.011 - ETA: 98s - loss: 4.8738 - acc: 0.010 - ETA: 97s - loss: 4.8735 - acc: 0.01 - ETA: 95s - loss: 4.8730 - acc: 0.01 - ETA: 93s - loss: 4.8729 - acc: 0.01 - ETA: 91s - loss: 4.8730 - acc: 0.01 - ETA: 89s - loss: 4.8729 - acc: 0.01 - ETA: 87s - loss: 4.8730 - acc: 0.01 - ETA: 86s - loss: 4.8730 - acc: 0.01 - ETA: 84s - loss: 4.8734 - acc: 0.01 - ETA: 82s - loss: 4.8735 - acc: 0.01 - ETA: 80s - loss: 4.8735 - acc: 0.01 - ETA: 78s - loss: 4.8731 - acc: 0.01 - ETA: 76s - loss: 4.8731 - acc: 0.01 - ETA: 75s - loss: 4.8727 - acc: 0.01 - ETA: 73s - loss: 4.8723 - acc: 0.00 - ETA: 71s - loss: 4.8722 - acc: 0.01 - ETA: 69s - loss: 4.8721 - acc: 0.01 - ETA: 67s - loss: 4.8721 - acc: 0.01 - ETA: 65s - loss: 4.8724 - acc: 0.00 - ETA: 64s - loss: 4.8722 - acc: 0.01 - ETA: 62s - loss: 4.8718 - acc: 0.00 - ETA: 60s - loss: 4.8717 - acc: 0.01 - ETA: 58s - loss: 4.8720 - acc: 0.01 - ETA: 56s - loss: 4.8714 - acc: 0.01 - ETA: 55s - loss: 4.8713 - acc: 0.01 - ETA: 53s - loss: 4.8709 - acc: 0.01 - ETA: 51s - loss: 4.8708 - acc: 0.01 - ETA: 49s - loss: 4.8709 - acc: 0.01 - ETA: 47s - loss: 4.8703 - acc: 0.01 - ETA: 46s - loss: 4.8704 - acc: 0.01 - ETA: 44s - loss: 4.8700 - acc: 0.01 - ETA: 42s - loss: 4.8697 - acc: 0.01 - ETA: 40s - loss: 4.8695 - acc: 0.01 - ETA: 38s - loss: 4.8693 - acc: 0.01 - ETA: 37s - loss: 4.8694 - acc: 0.01 - ETA: 35s - loss: 4.8692 - acc: 0.01 - ETA: 33s - loss: 4.8692 - acc: 0.01 - ETA: 31s - loss: 4.8690 - acc: 0.01 - ETA: 29s - loss: 4.8690 - acc: 0.01 - ETA: 28s - loss: 4.8693 - acc: 0.01 - ETA: 26s - loss: 4.8693 - acc: 0.01 - ETA: 24s - loss: 4.8693 - acc: 0.01 - ETA: 22s - loss: 4.8696 - acc: 0.01 - ETA: 20s - loss: 4.8703 - acc: 0.01 - ETA: 19s - loss: 4.8700 - acc: 0.01 - ETA: 17s - loss: 4.8696 - acc: 0.01 - ETA: 15s - loss: 4.8697 - acc: 0.01 - ETA: 13s - loss: 4.8697 - acc: 0.01 - ETA: 11s - loss: 4.8698 - acc: 0.01 - ETA: 10s - loss: 4.8696 - acc: 0.01 - ETA: 8s - loss: 4.8693 - acc: 0.0105 - ETA: 6s - loss: 4.8696 - acc: 0.010 - ETA: 4s - loss: 4.8694 - acc: 0.010 - ETA: 2s - loss: 4.8693 - acc: 0.010 - ETA: 1s - loss: 4.8693 - acc: 0.0102Epoch 00002: val_loss improved from 4.87483 to 4.85314, saving model to saved_models/weights.best.from_scratch.hdf5\n",
      "6680/6680 [==============================] - 253s - loss: 4.8693 - acc: 0.0102 - val_loss: 4.8531 - val_acc: 0.0204\n",
      "Epoch 4/5\n",
      "6650/6680 [============================>.] - ETA: 249s - loss: 4.8146 - acc: 0.020 - ETA: 241s - loss: 4.8214 - acc: 0.030 - ETA: 242s - loss: 4.8180 - acc: 0.026 - ETA: 235s - loss: 4.8121 - acc: 0.020 - ETA: 233s - loss: 4.8209 - acc: 0.020 - ETA: 231s - loss: 4.8197 - acc: 0.020 - ETA: 228s - loss: 4.8259 - acc: 0.020 - ETA: 226s - loss: 4.8312 - acc: 0.017 - ETA: 227s - loss: 4.8287 - acc: 0.020 - ETA: 225s - loss: 4.8303 - acc: 0.018 - ETA: 223s - loss: 4.8325 - acc: 0.020 - ETA: 220s - loss: 4.8354 - acc: 0.018 - ETA: 218s - loss: 4.8422 - acc: 0.018 - ETA: 216s - loss: 4.8437 - acc: 0.017 - ETA: 213s - loss: 4.8406 - acc: 0.016 - ETA: 211s - loss: 4.8414 - acc: 0.016 - ETA: 209s - loss: 4.8473 - acc: 0.016 - ETA: 207s - loss: 4.8450 - acc: 0.016 - ETA: 204s - loss: 4.8476 - acc: 0.017 - ETA: 202s - loss: 4.8481 - acc: 0.017 - ETA: 200s - loss: 4.8500 - acc: 0.016 - ETA: 198s - loss: 4.8492 - acc: 0.015 - ETA: 196s - loss: 4.8500 - acc: 0.014 - ETA: 195s - loss: 4.8502 - acc: 0.015 - ETA: 192s - loss: 4.8495 - acc: 0.016 - ETA: 191s - loss: 4.8487 - acc: 0.016 - ETA: 189s - loss: 4.8499 - acc: 0.017 - ETA: 187s - loss: 4.8504 - acc: 0.016 - ETA: 185s - loss: 4.8513 - acc: 0.017 - ETA: 183s - loss: 4.8523 - acc: 0.016 - ETA: 182s - loss: 4.8527 - acc: 0.016 - ETA: 180s - loss: 4.8519 - acc: 0.015 - ETA: 178s - loss: 4.8507 - acc: 0.015 - ETA: 176s - loss: 4.8505 - acc: 0.015 - ETA: 175s - loss: 4.8496 - acc: 0.015 - ETA: 173s - loss: 4.8515 - acc: 0.015 - ETA: 171s - loss: 4.8520 - acc: 0.015 - ETA: 169s - loss: 4.8515 - acc: 0.014 - ETA: 167s - loss: 4.8519 - acc: 0.015 - ETA: 165s - loss: 4.8513 - acc: 0.015 - ETA: 164s - loss: 4.8517 - acc: 0.014 - ETA: 162s - loss: 4.8526 - acc: 0.014 - ETA: 160s - loss: 4.8526 - acc: 0.014 - ETA: 158s - loss: 4.8522 - acc: 0.014 - ETA: 156s - loss: 4.8526 - acc: 0.013 - ETA: 155s - loss: 4.8522 - acc: 0.013 - ETA: 153s - loss: 4.8526 - acc: 0.014 - ETA: 151s - loss: 4.8523 - acc: 0.013 - ETA: 150s - loss: 4.8524 - acc: 0.013 - ETA: 149s - loss: 4.8530 - acc: 0.014 - ETA: 148s - loss: 4.8516 - acc: 0.014 - ETA: 146s - loss: 4.8521 - acc: 0.013 - ETA: 144s - loss: 4.8523 - acc: 0.013 - ETA: 143s - loss: 4.8528 - acc: 0.013 - ETA: 142s - loss: 4.8533 - acc: 0.013 - ETA: 140s - loss: 4.8535 - acc: 0.013 - ETA: 138s - loss: 4.8536 - acc: 0.013 - ETA: 137s - loss: 4.8536 - acc: 0.013 - ETA: 135s - loss: 4.8528 - acc: 0.012 - ETA: 134s - loss: 4.8519 - acc: 0.012 - ETA: 132s - loss: 4.8514 - acc: 0.013 - ETA: 131s - loss: 4.8512 - acc: 0.013 - ETA: 129s - loss: 4.8517 - acc: 0.013 - ETA: 128s - loss: 4.8515 - acc: 0.013 - ETA: 126s - loss: 4.8516 - acc: 0.013 - ETA: 125s - loss: 4.8519 - acc: 0.013 - ETA: 123s - loss: 4.8515 - acc: 0.013 - ETA: 122s - loss: 4.8511 - acc: 0.014 - ETA: 120s - loss: 4.8512 - acc: 0.013 - ETA: 118s - loss: 4.8510 - acc: 0.013 - ETA: 116s - loss: 4.8500 - acc: 0.013 - ETA: 114s - loss: 4.8500 - acc: 0.013 - ETA: 112s - loss: 4.8499 - acc: 0.013 - ETA: 111s - loss: 4.8495 - acc: 0.013 - ETA: 109s - loss: 4.8492 - acc: 0.013 - ETA: 107s - loss: 4.8492 - acc: 0.014 - ETA: 105s - loss: 4.8486 - acc: 0.014 - ETA: 103s - loss: 4.8484 - acc: 0.014 - ETA: 101s - loss: 4.8485 - acc: 0.014 - ETA: 99s - loss: 4.8483 - acc: 0.015 - ETA: 97s - loss: 4.8484 - acc: 0.01 - ETA: 95s - loss: 4.8480 - acc: 0.01 - ETA: 93s - loss: 4.8481 - acc: 0.01 - ETA: 91s - loss: 4.8477 - acc: 0.01 - ETA: 89s - loss: 4.8475 - acc: 0.01 - ETA: 87s - loss: 4.8483 - acc: 0.01 - ETA: 86s - loss: 4.8489 - acc: 0.01 - ETA: 84s - loss: 4.8487 - acc: 0.01 - ETA: 82s - loss: 4.8484 - acc: 0.01 - ETA: 80s - loss: 4.8472 - acc: 0.01 - ETA: 78s - loss: 4.8465 - acc: 0.01 - ETA: 76s - loss: 4.8460 - acc: 0.01 - ETA: 74s - loss: 4.8466 - acc: 0.01 - ETA: 72s - loss: 4.8460 - acc: 0.01 - ETA: 71s - loss: 4.8464 - acc: 0.01 - ETA: 69s - loss: 4.8469 - acc: 0.01 - ETA: 67s - loss: 4.8471 - acc: 0.01 - ETA: 65s - loss: 4.8467 - acc: 0.01 - ETA: 63s - loss: 4.8465 - acc: 0.01 - ETA: 61s - loss: 4.8466 - acc: 0.01 - ETA: 59s - loss: 4.8465 - acc: 0.01 - ETA: 58s - loss: 4.8474 - acc: 0.01 - ETA: 56s - loss: 4.8472 - acc: 0.01 - ETA: 54s - loss: 4.8471 - acc: 0.01 - ETA: 52s - loss: 4.8473 - acc: 0.01 - ETA: 50s - loss: 4.8475 - acc: 0.01 - ETA: 48s - loss: 4.8474 - acc: 0.01 - ETA: 46s - loss: 4.8474 - acc: 0.01 - ETA: 45s - loss: 4.8463 - acc: 0.01 - ETA: 43s - loss: 4.8464 - acc: 0.01 - ETA: 41s - loss: 4.8461 - acc: 0.01 - ETA: 39s - loss: 4.8460 - acc: 0.01 - ETA: 37s - loss: 4.8460 - acc: 0.01 - ETA: 35s - loss: 4.8459 - acc: 0.01 - ETA: 34s - loss: 4.8464 - acc: 0.01 - ETA: 32s - loss: 4.8469 - acc: 0.01 - ETA: 30s - loss: 4.8472 - acc: 0.01 - ETA: 28s - loss: 4.8472 - acc: 0.01 - ETA: 26s - loss: 4.8471 - acc: 0.01 - ETA: 24s - loss: 4.8474 - acc: 0.01 - ETA: 23s - loss: 4.8469 - acc: 0.01 - ETA: 21s - loss: 4.8465 - acc: 0.01 - ETA: 19s - loss: 4.8468 - acc: 0.01 - ETA: 17s - loss: 4.8467 - acc: 0.01 - ETA: 15s - loss: 4.8459 - acc: 0.01 - ETA: 13s - loss: 4.8457 - acc: 0.01 - ETA: 12s - loss: 4.8456 - acc: 0.01 - ETA: 10s - loss: 4.8453 - acc: 0.01 - ETA: 8s - loss: 4.8448 - acc: 0.0144 - ETA: 6s - loss: 4.8458 - acc: 0.014 - ETA: 4s - loss: 4.8455 - acc: 0.014 - ETA: 2s - loss: 4.8449 - acc: 0.014 - ETA: 1s - loss: 4.8453 - acc: 0.0141Epoch 00003: val_loss improved from 4.85314 to 4.82116, saving model to saved_models/weights.best.from_scratch.hdf5\n",
      "6680/6680 [==============================] - 253s - loss: 4.8449 - acc: 0.0141 - val_loss: 4.8212 - val_acc: 0.0228\n",
      "Epoch 5/5\n"
     ]
    },
    {
     "name": "stdout",
     "output_type": "stream",
     "text": [
      "6650/6680 [============================>.] - ETA: 234s - loss: 4.8594 - acc: 0.0000e+0 - ETA: 236s - loss: 4.8589 - acc: 0.0000e+0 - ETA: 239s - loss: 4.8585 - acc: 0.0000e+0 - ETA: 232s - loss: 4.8523 - acc: 0.0050    - ETA: 230s - loss: 4.8440 - acc: 0.012 - ETA: 228s - loss: 4.8324 - acc: 0.010 - ETA: 225s - loss: 4.8317 - acc: 0.011 - ETA: 223s - loss: 4.8346 - acc: 0.012 - ETA: 221s - loss: 4.8345 - acc: 0.011 - ETA: 219s - loss: 4.8345 - acc: 0.012 - ETA: 217s - loss: 4.8306 - acc: 0.010 - ETA: 215s - loss: 4.8263 - acc: 0.010 - ETA: 213s - loss: 4.8260 - acc: 0.009 - ETA: 211s - loss: 4.8238 - acc: 0.010 - ETA: 210s - loss: 4.8248 - acc: 0.009 - ETA: 208s - loss: 4.8263 - acc: 0.008 - ETA: 206s - loss: 4.8209 - acc: 0.010 - ETA: 205s - loss: 4.8229 - acc: 0.011 - ETA: 203s - loss: 4.8213 - acc: 0.011 - ETA: 201s - loss: 4.8232 - acc: 0.012 - ETA: 199s - loss: 4.8237 - acc: 0.013 - ETA: 197s - loss: 4.8247 - acc: 0.012 - ETA: 195s - loss: 4.8252 - acc: 0.012 - ETA: 194s - loss: 4.8267 - acc: 0.012 - ETA: 192s - loss: 4.8284 - acc: 0.012 - ETA: 190s - loss: 4.8277 - acc: 0.012 - ETA: 188s - loss: 4.8257 - acc: 0.013 - ETA: 186s - loss: 4.8221 - acc: 0.014 - ETA: 185s - loss: 4.8262 - acc: 0.013 - ETA: 183s - loss: 4.8259 - acc: 0.013 - ETA: 181s - loss: 4.8260 - acc: 0.012 - ETA: 179s - loss: 4.8252 - acc: 0.013 - ETA: 177s - loss: 4.8249 - acc: 0.012 - ETA: 175s - loss: 4.8247 - acc: 0.013 - ETA: 174s - loss: 4.8271 - acc: 0.013 - ETA: 172s - loss: 4.8273 - acc: 0.013 - ETA: 170s - loss: 4.8271 - acc: 0.014 - ETA: 168s - loss: 4.8270 - acc: 0.014 - ETA: 167s - loss: 4.8272 - acc: 0.014 - ETA: 165s - loss: 4.8261 - acc: 0.014 - ETA: 163s - loss: 4.8242 - acc: 0.014 - ETA: 161s - loss: 4.8268 - acc: 0.014 - ETA: 160s - loss: 4.8274 - acc: 0.014 - ETA: 158s - loss: 4.8267 - acc: 0.014 - ETA: 156s - loss: 4.8248 - acc: 0.014 - ETA: 155s - loss: 4.8254 - acc: 0.013 - ETA: 153s - loss: 4.8252 - acc: 0.014 - ETA: 151s - loss: 4.8246 - acc: 0.015 - ETA: 149s - loss: 4.8259 - acc: 0.015 - ETA: 147s - loss: 4.8266 - acc: 0.015 - ETA: 146s - loss: 4.8254 - acc: 0.015 - ETA: 144s - loss: 4.8256 - acc: 0.015 - ETA: 142s - loss: 4.8268 - acc: 0.014 - ETA: 140s - loss: 4.8268 - acc: 0.014 - ETA: 139s - loss: 4.8257 - acc: 0.014 - ETA: 137s - loss: 4.8259 - acc: 0.015 - ETA: 135s - loss: 4.8254 - acc: 0.014 - ETA: 133s - loss: 4.8245 - acc: 0.015 - ETA: 132s - loss: 4.8236 - acc: 0.015 - ETA: 130s - loss: 4.8240 - acc: 0.015 - ETA: 128s - loss: 4.8235 - acc: 0.015 - ETA: 126s - loss: 4.8236 - acc: 0.015 - ETA: 125s - loss: 4.8240 - acc: 0.015 - ETA: 123s - loss: 4.8236 - acc: 0.015 - ETA: 121s - loss: 4.8229 - acc: 0.015 - ETA: 119s - loss: 4.8228 - acc: 0.015 - ETA: 118s - loss: 4.8230 - acc: 0.015 - ETA: 116s - loss: 4.8234 - acc: 0.015 - ETA: 114s - loss: 4.8227 - acc: 0.016 - ETA: 112s - loss: 4.8239 - acc: 0.016 - ETA: 110s - loss: 4.8224 - acc: 0.016 - ETA: 109s - loss: 4.8226 - acc: 0.016 - ETA: 107s - loss: 4.8226 - acc: 0.016 - ETA: 105s - loss: 4.8225 - acc: 0.016 - ETA: 103s - loss: 4.8222 - acc: 0.016 - ETA: 102s - loss: 4.8224 - acc: 0.016 - ETA: 100s - loss: 4.8224 - acc: 0.016 - ETA: 98s - loss: 4.8229 - acc: 0.016 - ETA: 96s - loss: 4.8226 - acc: 0.01 - ETA: 95s - loss: 4.8222 - acc: 0.01 - ETA: 93s - loss: 4.8224 - acc: 0.01 - ETA: 92s - loss: 4.8210 - acc: 0.01 - ETA: 90s - loss: 4.8216 - acc: 0.01 - ETA: 88s - loss: 4.8218 - acc: 0.01 - ETA: 86s - loss: 4.8210 - acc: 0.01 - ETA: 85s - loss: 4.8213 - acc: 0.01 - ETA: 83s - loss: 4.8203 - acc: 0.01 - ETA: 81s - loss: 4.8198 - acc: 0.01 - ETA: 80s - loss: 4.8205 - acc: 0.01 - ETA: 78s - loss: 4.8196 - acc: 0.01 - ETA: 76s - loss: 4.8200 - acc: 0.01 - ETA: 75s - loss: 4.8205 - acc: 0.01 - ETA: 73s - loss: 4.8200 - acc: 0.01 - ETA: 71s - loss: 4.8194 - acc: 0.01 - ETA: 69s - loss: 4.8191 - acc: 0.01 - ETA: 67s - loss: 4.8195 - acc: 0.01 - ETA: 65s - loss: 4.8192 - acc: 0.01 - ETA: 64s - loss: 4.8204 - acc: 0.01 - ETA: 62s - loss: 4.8212 - acc: 0.01 - ETA: 60s - loss: 4.8214 - acc: 0.01 - ETA: 58s - loss: 4.8216 - acc: 0.01 - ETA: 56s - loss: 4.8209 - acc: 0.01 - ETA: 55s - loss: 4.8211 - acc: 0.01 - ETA: 53s - loss: 4.8204 - acc: 0.01 - ETA: 51s - loss: 4.8208 - acc: 0.01 - ETA: 49s - loss: 4.8198 - acc: 0.01 - ETA: 47s - loss: 4.8203 - acc: 0.01 - ETA: 46s - loss: 4.8197 - acc: 0.01 - ETA: 44s - loss: 4.8197 - acc: 0.01 - ETA: 42s - loss: 4.8201 - acc: 0.01 - ETA: 40s - loss: 4.8196 - acc: 0.01 - ETA: 38s - loss: 4.8196 - acc: 0.01 - ETA: 36s - loss: 4.8199 - acc: 0.01 - ETA: 35s - loss: 4.8201 - acc: 0.01 - ETA: 33s - loss: 4.8197 - acc: 0.01 - ETA: 31s - loss: 4.8197 - acc: 0.01 - ETA: 29s - loss: 4.8201 - acc: 0.01 - ETA: 28s - loss: 4.8199 - acc: 0.01 - ETA: 26s - loss: 4.8190 - acc: 0.01 - ETA: 24s - loss: 4.8185 - acc: 0.01 - ETA: 22s - loss: 4.8187 - acc: 0.01 - ETA: 20s - loss: 4.8180 - acc: 0.01 - ETA: 19s - loss: 4.8191 - acc: 0.01 - ETA: 17s - loss: 4.8189 - acc: 0.01 - ETA: 15s - loss: 4.8187 - acc: 0.01 - ETA: 13s - loss: 4.8189 - acc: 0.01 - ETA: 11s - loss: 4.8188 - acc: 0.01 - ETA: 10s - loss: 4.8185 - acc: 0.01 - ETA: 8s - loss: 4.8181 - acc: 0.0150 - ETA: 6s - loss: 4.8179 - acc: 0.015 - ETA: 4s - loss: 4.8171 - acc: 0.015 - ETA: 2s - loss: 4.8180 - acc: 0.015 - ETA: 1s - loss: 4.8176 - acc: 0.0149Epoch 00004: val_loss improved from 4.82116 to 4.79760, saving model to saved_models/weights.best.from_scratch.hdf5\n",
      "6680/6680 [==============================] - 249s - loss: 4.8177 - acc: 0.0151 - val_loss: 4.7976 - val_acc: 0.0180\n"
     ]
    },
    {
     "data": {
      "text/plain": [
       "<keras.callbacks.History at 0x20ea293cfd0>"
      ]
     },
     "execution_count": 35,
     "metadata": {},
     "output_type": "execute_result"
    }
   ],
   "source": [
    "from keras.callbacks import ModelCheckpoint  \n",
    "\n",
    "### TODO: specify the number of epochs that you would like to use to train the model.\n",
    "\n",
    "epochs = 5\n",
    "\n",
    "### Do NOT modify the code below this line.\n",
    "\n",
    "checkpointer = ModelCheckpoint(filepath='saved_models/weights.best.from_scratch.hdf5', \n",
    "                               verbose=1, save_best_only=True)\n",
    "\n",
    "model.fit(train_tensors, train_targets, \n",
    "          validation_data=(valid_tensors, valid_targets),\n",
    "          epochs=epochs, batch_size=50, callbacks=[checkpointer], verbose=1)"
   ]
  },
  {
   "cell_type": "markdown",
   "metadata": {},
   "source": [
    "### Load the Model with the Best Validation Loss"
   ]
  },
  {
   "cell_type": "code",
   "execution_count": 36,
   "metadata": {},
   "outputs": [],
   "source": [
    "model.load_weights('saved_models/weights.best.from_scratch.hdf5')"
   ]
  },
  {
   "cell_type": "markdown",
   "metadata": {},
   "source": [
    "### Test the Model\n",
    "\n",
    "Try out your model on the test dataset of dog images.  Ensure that your test accuracy is greater than 1%."
   ]
  },
  {
   "cell_type": "code",
   "execution_count": 37,
   "metadata": {},
   "outputs": [
    {
     "name": "stdout",
     "output_type": "stream",
     "text": [
      "Test accuracy: 2.6316%\n"
     ]
    }
   ],
   "source": [
    "# get index of predicted dog breed for each image in test set\n",
    "dog_breed_predictions = [np.argmax(model.predict(np.expand_dims(tensor, axis=0))) for tensor in test_tensors]\n",
    "\n",
    "# report test accuracy\n",
    "test_accuracy = 100*np.sum(np.array(dog_breed_predictions)==np.argmax(test_targets, axis=1))/len(dog_breed_predictions)\n",
    "print('Test accuracy: %.4f%%' % test_accuracy)"
   ]
  },
  {
   "cell_type": "markdown",
   "metadata": {},
   "source": [
    "---\n",
    "<a id='step4'></a>\n",
    "## Step 4: Use a CNN to Classify Dog Breeds\n",
    "\n",
    "To reduce training time without sacrificing accuracy, we show you how to train a CNN using transfer learning.  In the following step, you will get a chance to use transfer learning to train your own CNN.\n",
    "\n",
    "### Obtain Bottleneck Features"
   ]
  },
  {
   "cell_type": "code",
   "execution_count": 38,
   "metadata": {},
   "outputs": [],
   "source": [
    "bottleneck_features = np.load('bottleneck_features/DogVGG16Data.npz')\n",
    "train_VGG16 = bottleneck_features['train']\n",
    "valid_VGG16 = bottleneck_features['valid']\n",
    "test_VGG16 = bottleneck_features['test']"
   ]
  },
  {
   "cell_type": "markdown",
   "metadata": {},
   "source": [
    "### Model Architecture\n",
    "\n",
    "The model uses the the pre-trained VGG-16 model as a fixed feature extractor, where the last convolutional output of VGG-16 is fed as input to our model.  We only add a global average pooling layer and a fully connected layer, where the latter contains one node for each dog category and is equipped with a softmax."
   ]
  },
  {
   "cell_type": "code",
   "execution_count": 39,
   "metadata": {},
   "outputs": [
    {
     "name": "stdout",
     "output_type": "stream",
     "text": [
      "_________________________________________________________________\n",
      "Layer (type)                 Output Shape              Param #   \n",
      "=================================================================\n",
      "global_average_pooling2d_8 ( (None, 512)               0         \n",
      "_________________________________________________________________\n",
      "dense_9 (Dense)              (None, 133)               68229     \n",
      "=================================================================\n",
      "Total params: 68,229.0\n",
      "Trainable params: 68,229.0\n",
      "Non-trainable params: 0.0\n",
      "_________________________________________________________________\n"
     ]
    }
   ],
   "source": [
    "VGG16_model = Sequential()\n",
    "VGG16_model.add(GlobalAveragePooling2D(input_shape=train_VGG16.shape[1:]))\n",
    "VGG16_model.add(Dense(133, activation='softmax'))\n",
    "\n",
    "VGG16_model.summary()"
   ]
  },
  {
   "cell_type": "markdown",
   "metadata": {},
   "source": [
    "### Compile the Model"
   ]
  },
  {
   "cell_type": "code",
   "execution_count": 40,
   "metadata": {},
   "outputs": [],
   "source": [
    "VGG16_model.compile(loss='categorical_crossentropy', optimizer='rmsprop', metrics=['accuracy'])"
   ]
  },
  {
   "cell_type": "markdown",
   "metadata": {},
   "source": [
    "### Train the Model"
   ]
  },
  {
   "cell_type": "code",
   "execution_count": 41,
   "metadata": {
    "scrolled": true
   },
   "outputs": [
    {
     "name": "stdout",
     "output_type": "stream",
     "text": [
      "Train on 6680 samples, validate on 835 samples\n",
      "Epoch 1/20\n",
      "6660/6680 [============================>.] - ETA: 77s - loss: 14.4242 - acc: 0.0000e+0 - ETA: 7s - loss: 14.6507 - acc: 0.0231    - ETA: 4s - loss: 14.7757 - acc: 0.02 - ETA: 3s - loss: 14.6149 - acc: 0.02 - ETA: 3s - loss: 14.6218 - acc: 0.02 - ETA: 2s - loss: 14.4643 - acc: 0.03 - ETA: 2s - loss: 14.3767 - acc: 0.04 - ETA: 2s - loss: 14.3078 - acc: 0.04 - ETA: 1s - loss: 14.2430 - acc: 0.04 - ETA: 1s - loss: 14.1537 - acc: 0.04 - ETA: 1s - loss: 14.0563 - acc: 0.04 - ETA: 1s - loss: 13.9518 - acc: 0.05 - ETA: 1s - loss: 13.8636 - acc: 0.05 - ETA: 1s - loss: 13.7604 - acc: 0.05 - ETA: 1s - loss: 13.6299 - acc: 0.06 - ETA: 1s - loss: 13.5176 - acc: 0.06 - ETA: 1s - loss: 13.4521 - acc: 0.06 - ETA: 1s - loss: 13.3554 - acc: 0.07 - ETA: 0s - loss: 13.2730 - acc: 0.07 - ETA: 0s - loss: 13.1789 - acc: 0.08 - ETA: 0s - loss: 13.1472 - acc: 0.08 - ETA: 0s - loss: 13.0469 - acc: 0.09 - ETA: 0s - loss: 12.9777 - acc: 0.09 - ETA: 0s - loss: 12.9021 - acc: 0.09 - ETA: 0s - loss: 12.8349 - acc: 0.10 - ETA: 0s - loss: 12.7635 - acc: 0.10 - ETA: 0s - loss: 12.7347 - acc: 0.10 - ETA: 0s - loss: 12.6783 - acc: 0.10 - ETA: 0s - loss: 12.6083 - acc: 0.11 - ETA: 0s - loss: 12.5348 - acc: 0.11 - ETA: 0s - loss: 12.5013 - acc: 0.12 - ETA: 0s - loss: 12.4486 - acc: 0.12 - ETA: 0s - loss: 12.4032 - acc: 0.1269Epoch 00000: val_loss improved from inf to 10.93756, saving model to saved_models/weights.best.VGG16.hdf5\n",
      "6680/6680 [==============================] - 2s - loss: 12.3899 - acc: 0.1280 - val_loss: 10.9376 - val_acc: 0.2144\n",
      "Epoch 2/20\n",
      "6640/6680 [============================>.] - ETA: 1s - loss: 9.7967 - acc: 0.350 - ETA: 1s - loss: 11.4517 - acc: 0.21 - ETA: 1s - loss: 11.1223 - acc: 0.23 - ETA: 1s - loss: 11.2944 - acc: 0.21 - ETA: 1s - loss: 10.9623 - acc: 0.22 - ETA: 1s - loss: 10.9762 - acc: 0.22 - ETA: 1s - loss: 10.8305 - acc: 0.23 - ETA: 1s - loss: 10.7907 - acc: 0.23 - ETA: 1s - loss: 10.8227 - acc: 0.23 - ETA: 1s - loss: 10.7113 - acc: 0.24 - ETA: 1s - loss: 10.6625 - acc: 0.24 - ETA: 1s - loss: 10.6559 - acc: 0.24 - ETA: 1s - loss: 10.6892 - acc: 0.24 - ETA: 1s - loss: 10.6311 - acc: 0.25 - ETA: 0s - loss: 10.5869 - acc: 0.25 - ETA: 0s - loss: 10.5380 - acc: 0.25 - ETA: 0s - loss: 10.4415 - acc: 0.26 - ETA: 0s - loss: 10.4443 - acc: 0.26 - ETA: 0s - loss: 10.4146 - acc: 0.26 - ETA: 0s - loss: 10.3799 - acc: 0.26 - ETA: 0s - loss: 10.3691 - acc: 0.26 - ETA: 0s - loss: 10.3662 - acc: 0.27 - ETA: 0s - loss: 10.3349 - acc: 0.27 - ETA: 0s - loss: 10.3210 - acc: 0.27 - ETA: 0s - loss: 10.3219 - acc: 0.27 - ETA: 0s - loss: 10.3200 - acc: 0.27 - ETA: 0s - loss: 10.3483 - acc: 0.27 - ETA: 0s - loss: 10.2974 - acc: 0.27 - ETA: 0s - loss: 10.2778 - acc: 0.28 - ETA: 0s - loss: 10.2659 - acc: 0.28 - ETA: 0s - loss: 10.2655 - acc: 0.28 - ETA: 0s - loss: 10.2825 - acc: 0.28 - ETA: 0s - loss: 10.2958 - acc: 0.2833Epoch 00001: val_loss improved from 10.93756 to 10.31645, saving model to saved_models/weights.best.VGG16.hdf5\n",
      "6680/6680 [==============================] - 1s - loss: 10.2975 - acc: 0.2832 - val_loss: 10.3164 - val_acc: 0.2814\n",
      "Epoch 3/20\n",
      "6480/6680 [============================>.] - ETA: 1s - loss: 9.1805 - acc: 0.400 - ETA: 1s - loss: 10.3968 - acc: 0.31 - ETA: 1s - loss: 10.4874 - acc: 0.30 - ETA: 1s - loss: 10.1092 - acc: 0.32 - ETA: 1s - loss: 10.1142 - acc: 0.32 - ETA: 1s - loss: 10.1942 - acc: 0.32 - ETA: 1s - loss: 10.0782 - acc: 0.32 - ETA: 1s - loss: 9.9297 - acc: 0.3405 - ETA: 1s - loss: 9.7731 - acc: 0.349 - ETA: 1s - loss: 9.7786 - acc: 0.348 - ETA: 1s - loss: 9.7829 - acc: 0.346 - ETA: 1s - loss: 9.7894 - acc: 0.344 - ETA: 0s - loss: 9.7454 - acc: 0.345 - ETA: 0s - loss: 9.7073 - acc: 0.347 - ETA: 0s - loss: 9.7639 - acc: 0.343 - ETA: 0s - loss: 9.7841 - acc: 0.342 - ETA: 0s - loss: 9.8298 - acc: 0.340 - ETA: 0s - loss: 9.8226 - acc: 0.341 - ETA: 0s - loss: 9.8171 - acc: 0.341 - ETA: 0s - loss: 9.8097 - acc: 0.342 - ETA: 0s - loss: 9.8510 - acc: 0.340 - ETA: 0s - loss: 9.8587 - acc: 0.340 - ETA: 0s - loss: 9.8836 - acc: 0.338 - ETA: 0s - loss: 9.8919 - acc: 0.338 - ETA: 0s - loss: 9.9233 - acc: 0.336 - ETA: 0s - loss: 9.8825 - acc: 0.339 - ETA: 0s - loss: 9.8699 - acc: 0.340 - ETA: 0s - loss: 9.9122 - acc: 0.338 - ETA: 0s - loss: 9.8941 - acc: 0.339 - ETA: 0s - loss: 9.8986 - acc: 0.339 - ETA: 0s - loss: 9.9204 - acc: 0.3386Epoch 00002: val_loss improved from 10.31645 to 10.20370, saving model to saved_models/weights.best.VGG16.hdf5\n",
      "6680/6680 [==============================] - 1s - loss: 9.9207 - acc: 0.3389 - val_loss: 10.2037 - val_acc: 0.3174\n",
      "Epoch 4/20\n",
      "6540/6680 [============================>.] - ETA: 1s - loss: 11.4614 - acc: 0.20 - ETA: 1s - loss: 9.6817 - acc: 0.3577 - ETA: 1s - loss: 9.6228 - acc: 0.370 - ETA: 1s - loss: 9.7135 - acc: 0.365 - ETA: 1s - loss: 9.7699 - acc: 0.360 - ETA: 1s - loss: 9.6807 - acc: 0.364 - ETA: 1s - loss: 9.6904 - acc: 0.365 - ETA: 1s - loss: 9.6079 - acc: 0.371 - ETA: 1s - loss: 9.5117 - acc: 0.375 - ETA: 1s - loss: 9.5597 - acc: 0.372 - ETA: 1s - loss: 9.5449 - acc: 0.374 - ETA: 1s - loss: 9.5912 - acc: 0.372 - ETA: 1s - loss: 9.5791 - acc: 0.372 - ETA: 0s - loss: 9.6163 - acc: 0.369 - ETA: 0s - loss: 9.6570 - acc: 0.365 - ETA: 0s - loss: 9.6655 - acc: 0.364 - ETA: 0s - loss: 9.6992 - acc: 0.361 - ETA: 0s - loss: 9.6810 - acc: 0.363 - ETA: 0s - loss: 9.6862 - acc: 0.363 - ETA: 0s - loss: 9.6464 - acc: 0.366 - ETA: 0s - loss: 9.6470 - acc: 0.366 - ETA: 0s - loss: 9.7116 - acc: 0.361 - ETA: 0s - loss: 9.6992 - acc: 0.362 - ETA: 0s - loss: 9.7447 - acc: 0.360 - ETA: 0s - loss: 9.7519 - acc: 0.359 - ETA: 0s - loss: 9.7757 - acc: 0.358 - ETA: 0s - loss: 9.7737 - acc: 0.358 - ETA: 0s - loss: 9.7704 - acc: 0.359 - ETA: 0s - loss: 9.7709 - acc: 0.359 - ETA: 0s - loss: 9.7648 - acc: 0.359 - ETA: 0s - loss: 9.7515 - acc: 0.360 - ETA: 0s - loss: 9.7707 - acc: 0.3595Epoch 00003: val_loss improved from 10.20370 to 10.07325, saving model to saved_models/weights.best.VGG16.hdf5\n",
      "6680/6680 [==============================] - 1s - loss: 9.7931 - acc: 0.3581 - val_loss: 10.0732 - val_acc: 0.3114\n",
      "Epoch 5/20\n",
      "6580/6680 [============================>.] - ETA: 1s - loss: 6.5247 - acc: 0.550 - ETA: 1s - loss: 9.4755 - acc: 0.384 - ETA: 1s - loss: 9.7147 - acc: 0.379 - ETA: 1s - loss: 9.7664 - acc: 0.376 - ETA: 1s - loss: 9.6741 - acc: 0.381 - ETA: 1s - loss: 9.4187 - acc: 0.392 - ETA: 1s - loss: 9.3838 - acc: 0.392 - ETA: 1s - loss: 9.3952 - acc: 0.391 - ETA: 1s - loss: 9.4339 - acc: 0.387 - ETA: 1s - loss: 9.5003 - acc: 0.382 - ETA: 1s - loss: 9.4051 - acc: 0.389 - ETA: 1s - loss: 9.4632 - acc: 0.386 - ETA: 1s - loss: 9.4346 - acc: 0.388 - ETA: 0s - loss: 9.3652 - acc: 0.391 - ETA: 0s - loss: 9.4659 - acc: 0.386 - ETA: 0s - loss: 9.4794 - acc: 0.385 - ETA: 0s - loss: 9.5171 - acc: 0.382 - ETA: 0s - loss: 9.5333 - acc: 0.382 - ETA: 0s - loss: 9.5155 - acc: 0.383 - ETA: 0s - loss: 9.4712 - acc: 0.386 - ETA: 0s - loss: 9.4902 - acc: 0.383 - ETA: 0s - loss: 9.4720 - acc: 0.384 - ETA: 0s - loss: 9.5130 - acc: 0.381 - ETA: 0s - loss: 9.5403 - acc: 0.380 - ETA: 0s - loss: 9.5347 - acc: 0.380 - ETA: 0s - loss: 9.5592 - acc: 0.379 - ETA: 0s - loss: 9.5410 - acc: 0.379 - ETA: 0s - loss: 9.5710 - acc: 0.377 - ETA: 0s - loss: 9.5962 - acc: 0.376 - ETA: 0s - loss: 9.5759 - acc: 0.376 - ETA: 0s - loss: 9.5639 - acc: 0.377 - ETA: 0s - loss: 9.5742 - acc: 0.3764Epoch 00004: val_loss improved from 10.07325 to 9.90868, saving model to saved_models/weights.best.VGG16.hdf5\n",
      "6680/6680 [==============================] - 1s - loss: 9.5737 - acc: 0.3760 - val_loss: 9.9087 - val_acc: 0.3269\n",
      "Epoch 6/20\n",
      "6460/6680 [============================>.] - ETA: 1s - loss: 11.5438 - acc: 0.25 - ETA: 1s - loss: 9.3665 - acc: 0.3958 - ETA: 1s - loss: 9.2245 - acc: 0.400 - ETA: 1s - loss: 9.4813 - acc: 0.389 - ETA: 1s - loss: 9.6369 - acc: 0.380 - ETA: 1s - loss: 9.8496 - acc: 0.367 - ETA: 1s - loss: 9.6526 - acc: 0.380 - ETA: 1s - loss: 9.6500 - acc: 0.378 - ETA: 1s - loss: 9.6816 - acc: 0.376 - ETA: 1s - loss: 9.6624 - acc: 0.377 - ETA: 1s - loss: 9.6313 - acc: 0.381 - ETA: 1s - loss: 9.6178 - acc: 0.382 - ETA: 1s - loss: 9.6017 - acc: 0.383 - ETA: 0s - loss: 9.6068 - acc: 0.381 - ETA: 0s - loss: 9.5409 - acc: 0.386 - ETA: 0s - loss: 9.5097 - acc: 0.387 - ETA: 0s - loss: 9.5411 - acc: 0.386 - ETA: 0s - loss: 9.5539 - acc: 0.385 - ETA: 0s - loss: 9.5374 - acc: 0.386 - ETA: 0s - loss: 9.4954 - acc: 0.389 - ETA: 0s - loss: 9.4928 - acc: 0.389 - ETA: 0s - loss: 9.5258 - acc: 0.387 - ETA: 0s - loss: 9.5293 - acc: 0.387 - ETA: 0s - loss: 9.5527 - acc: 0.386 - ETA: 0s - loss: 9.5729 - acc: 0.385 - ETA: 0s - loss: 9.5282 - acc: 0.387 - ETA: 0s - loss: 9.4847 - acc: 0.389 - ETA: 0s - loss: 9.4495 - acc: 0.392 - ETA: 0s - loss: 9.4190 - acc: 0.393 - ETA: 0s - loss: 9.4408 - acc: 0.392 - ETA: 0s - loss: 9.4380 - acc: 0.3921Epoch 00005: val_loss improved from 9.90868 to 9.88517, saving model to saved_models/weights.best.VGG16.hdf5\n",
      "6680/6680 [==============================] - 1s - loss: 9.4185 - acc: 0.3927 - val_loss: 9.8852 - val_acc: 0.3198\n",
      "Epoch 7/20\n",
      "6660/6680 [============================>.] - ETA: 1s - loss: 8.8691 - acc: 0.450 - ETA: 1s - loss: 9.9849 - acc: 0.361 - ETA: 1s - loss: 9.8251 - acc: 0.370 - ETA: 1s - loss: 9.5754 - acc: 0.386 - ETA: 1s - loss: 9.4004 - acc: 0.394 - ETA: 1s - loss: 9.3308 - acc: 0.400 - ETA: 1s - loss: 9.3050 - acc: 0.403 - ETA: 1s - loss: 9.2097 - acc: 0.408 - ETA: 1s - loss: 9.2375 - acc: 0.406 - ETA: 0s - loss: 9.1783 - acc: 0.411 - ETA: 0s - loss: 9.1815 - acc: 0.412 - ETA: 0s - loss: 9.1567 - acc: 0.413 - ETA: 0s - loss: 9.1819 - acc: 0.410 - ETA: 0s - loss: 9.1584 - acc: 0.412 - ETA: 0s - loss: 9.1939 - acc: 0.410 - ETA: 0s - loss: 9.2000 - acc: 0.408 - ETA: 0s - loss: 9.2615 - acc: 0.404 - ETA: 0s - loss: 9.2717 - acc: 0.403 - ETA: 0s - loss: 9.2906 - acc: 0.403 - ETA: 0s - loss: 9.2606 - acc: 0.405 - ETA: 0s - loss: 9.2699 - acc: 0.405 - ETA: 0s - loss: 9.3103 - acc: 0.403 - ETA: 0s - loss: 9.3148 - acc: 0.403 - ETA: 0s - loss: 9.2831 - acc: 0.404 - ETA: 0s - loss: 9.2810 - acc: 0.404 - ETA: 0s - loss: 9.2880 - acc: 0.404 - ETA: 0s - loss: 9.3109 - acc: 0.402 - ETA: 0s - loss: 9.2933 - acc: 0.404 - ETA: 0s - loss: 9.2856 - acc: 0.4050Epoch 00006: val_loss improved from 9.88517 to 9.75081, saving model to saved_models/weights.best.VGG16.hdf5\n",
      "6680/6680 [==============================] - 1s - loss: 9.2825 - acc: 0.4051 - val_loss: 9.7508 - val_acc: 0.3341\n",
      "Epoch 8/20\n",
      "6600/6680 [============================>.] - ETA: 1s - loss: 9.6709 - acc: 0.400 - ETA: 1s - loss: 9.9763 - acc: 0.365 - ETA: 1s - loss: 9.8095 - acc: 0.380 - ETA: 1s - loss: 9.5159 - acc: 0.400 - ETA: 1s - loss: 9.4670 - acc: 0.403 - ETA: 1s - loss: 9.5684 - acc: 0.394 - ETA: 1s - loss: 9.6157 - acc: 0.389 - ETA: 1s - loss: 9.4382 - acc: 0.400 - ETA: 1s - loss: 9.4464 - acc: 0.400 - ETA: 1s - loss: 9.4883 - acc: 0.398 - ETA: 0s - loss: 9.4440 - acc: 0.400 - ETA: 0s - loss: 9.4186 - acc: 0.402 - ETA: 0s - loss: 9.4283 - acc: 0.401 - ETA: 0s - loss: 9.4083 - acc: 0.403 - ETA: 0s - loss: 9.3347 - acc: 0.407 - ETA: 0s - loss: 9.3682 - acc: 0.405 - ETA: 0s - loss: 9.3622 - acc: 0.405 - ETA: 0s - loss: 9.3252 - acc: 0.408 - ETA: 0s - loss: 9.3307 - acc: 0.407 - ETA: 0s - loss: 9.3350 - acc: 0.407 - ETA: 0s - loss: 9.3238 - acc: 0.408 - ETA: 0s - loss: 9.3114 - acc: 0.408 - ETA: 0s - loss: 9.3235 - acc: 0.408 - ETA: 0s - loss: 9.2941 - acc: 0.410 - ETA: 0s - loss: 9.3159 - acc: 0.408 - ETA: 0s - loss: 9.2831 - acc: 0.410 - ETA: 0s - loss: 9.2497 - acc: 0.412 - ETA: 0s - loss: 9.2344 - acc: 0.413 - ETA: 0s - loss: 9.2355 - acc: 0.4135Epoch 00007: val_loss improved from 9.75081 to 9.70676, saving model to saved_models/weights.best.VGG16.hdf5\n",
      "6680/6680 [==============================] - 1s - loss: 9.2388 - acc: 0.4132 - val_loss: 9.7068 - val_acc: 0.3401\n",
      "Epoch 9/20\n",
      "6600/6680 [============================>.] - ETA: 1s - loss: 8.8660 - acc: 0.450 - ETA: 1s - loss: 9.6047 - acc: 0.404 - ETA: 1s - loss: 9.0200 - acc: 0.436 - ETA: 1s - loss: 9.3212 - acc: 0.418 - ETA: 1s - loss: 9.2503 - acc: 0.421 - ETA: 1s - loss: 9.3647 - acc: 0.415 - ETA: 1s - loss: 9.3098 - acc: 0.418 - ETA: 1s - loss: 9.2989 - acc: 0.417 - ETA: 1s - loss: 9.3334 - acc: 0.415 - ETA: 1s - loss: 9.2827 - acc: 0.418 - ETA: 1s - loss: 9.2722 - acc: 0.419 - ETA: 1s - loss: 9.2668 - acc: 0.419 - ETA: 1s - loss: 9.2235 - acc: 0.422 - ETA: 0s - loss: 9.1906 - acc: 0.424 - ETA: 0s - loss: 9.1483 - acc: 0.426 - ETA: 0s - loss: 9.1073 - acc: 0.428 - ETA: 0s - loss: 9.1366 - acc: 0.426 - ETA: 0s - loss: 9.1956 - acc: 0.422 - ETA: 0s - loss: 9.2016 - acc: 0.421 - ETA: 0s - loss: 9.1506 - acc: 0.424 - ETA: 0s - loss: 9.1337 - acc: 0.424 - ETA: 0s - loss: 9.1074 - acc: 0.425 - ETA: 0s - loss: 9.1394 - acc: 0.424 - ETA: 0s - loss: 9.1414 - acc: 0.423 - ETA: 0s - loss: 9.1204 - acc: 0.424 - ETA: 0s - loss: 9.1191 - acc: 0.424 - ETA: 0s - loss: 9.0962 - acc: 0.425 - ETA: 0s - loss: 9.1070 - acc: 0.424 - ETA: 0s - loss: 9.1159 - acc: 0.424 - ETA: 0s - loss: 9.1278 - acc: 0.422 - ETA: 0s - loss: 9.1459 - acc: 0.4214Epoch 00008: val_loss improved from 9.70676 to 9.60305, saving model to saved_models/weights.best.VGG16.hdf5\n",
      "6680/6680 [==============================] - 1s - loss: 9.1537 - acc: 0.4210 - val_loss: 9.6031 - val_acc: 0.3521\n",
      "Epoch 10/20\n",
      "6620/6680 [============================>.] - ETA: 1s - loss: 4.8443 - acc: 0.700 - ETA: 1s - loss: 8.9508 - acc: 0.433 - ETA: 1s - loss: 8.9168 - acc: 0.434 - ETA: 1s - loss: 8.8882 - acc: 0.435 - ETA: 1s - loss: 8.8726 - acc: 0.437 - ETA: 1s - loss: 8.9149 - acc: 0.436 - ETA: 1s - loss: 9.0217 - acc: 0.431 - ETA: 1s - loss: 8.9443 - acc: 0.434 - ETA: 1s - loss: 8.9705 - acc: 0.433 - ETA: 1s - loss: 8.9693 - acc: 0.434 - ETA: 1s - loss: 8.9703 - acc: 0.432 - ETA: 1s - loss: 9.0220 - acc: 0.428 - ETA: 0s - loss: 9.0486 - acc: 0.427 - ETA: 0s - loss: 9.0566 - acc: 0.426 - ETA: 0s - loss: 9.0779 - acc: 0.424 - ETA: 0s - loss: 9.1612 - acc: 0.420 - ETA: 0s - loss: 9.1766 - acc: 0.419 - ETA: 0s - loss: 9.1849 - acc: 0.418 - ETA: 0s - loss: 9.1217 - acc: 0.422 - ETA: 0s - loss: 9.0876 - acc: 0.423 - ETA: 0s - loss: 9.1055 - acc: 0.422 - ETA: 0s - loss: 9.0802 - acc: 0.423 - ETA: 0s - loss: 9.0685 - acc: 0.423 - ETA: 0s - loss: 9.0728 - acc: 0.423 - ETA: 0s - loss: 9.0534 - acc: 0.424 - ETA: 0s - loss: 9.0504 - acc: 0.423 - ETA: 0s - loss: 9.0524 - acc: 0.423 - ETA: 0s - loss: 9.0346 - acc: 0.424 - ETA: 0s - loss: 9.0314 - acc: 0.424 - ETA: 0s - loss: 9.0588 - acc: 0.421 - ETA: 0s - loss: 9.0625 - acc: 0.4219Epoch 00009: val_loss improved from 9.60305 to 9.40749, saving model to saved_models/weights.best.VGG16.hdf5\n",
      "6680/6680 [==============================] - 1s - loss: 9.0559 - acc: 0.4225 - val_loss: 9.4075 - val_acc: 0.3629\n",
      "Epoch 11/20\n"
     ]
    },
    {
     "name": "stdout",
     "output_type": "stream",
     "text": [
      "6600/6680 [============================>.] - ETA: 1s - loss: 4.1966 - acc: 0.650 - ETA: 1s - loss: 8.1058 - acc: 0.483 - ETA: 1s - loss: 8.5078 - acc: 0.463 - ETA: 1s - loss: 8.7697 - acc: 0.447 - ETA: 1s - loss: 9.0187 - acc: 0.431 - ETA: 1s - loss: 8.9889 - acc: 0.433 - ETA: 1s - loss: 8.9169 - acc: 0.437 - ETA: 1s - loss: 8.8226 - acc: 0.444 - ETA: 1s - loss: 8.8351 - acc: 0.443 - ETA: 1s - loss: 8.8353 - acc: 0.442 - ETA: 1s - loss: 8.9250 - acc: 0.435 - ETA: 1s - loss: 8.9103 - acc: 0.436 - ETA: 0s - loss: 9.0063 - acc: 0.430 - ETA: 0s - loss: 8.9994 - acc: 0.431 - ETA: 0s - loss: 8.9950 - acc: 0.430 - ETA: 0s - loss: 9.0320 - acc: 0.427 - ETA: 0s - loss: 9.0513 - acc: 0.426 - ETA: 0s - loss: 9.0038 - acc: 0.428 - ETA: 0s - loss: 8.9697 - acc: 0.430 - ETA: 0s - loss: 8.9963 - acc: 0.429 - ETA: 0s - loss: 9.0157 - acc: 0.428 - ETA: 0s - loss: 9.0308 - acc: 0.428 - ETA: 0s - loss: 9.0055 - acc: 0.429 - ETA: 0s - loss: 8.9688 - acc: 0.432 - ETA: 0s - loss: 8.9576 - acc: 0.433 - ETA: 0s - loss: 8.9568 - acc: 0.433 - ETA: 0s - loss: 8.9624 - acc: 0.433 - ETA: 0s - loss: 8.9861 - acc: 0.432 - ETA: 0s - loss: 8.9750 - acc: 0.432 - ETA: 0s - loss: 8.9560 - acc: 0.433 - ETA: 0s - loss: 8.9426 - acc: 0.4345Epoch 00010: val_loss did not improve\n",
      "6680/6680 [==============================] - 1s - loss: 8.9340 - acc: 0.4349 - val_loss: 9.4450 - val_acc: 0.3725\n",
      "Epoch 12/20\n",
      "6560/6680 [============================>.] - ETA: 1s - loss: 8.8670 - acc: 0.450 - ETA: 1s - loss: 8.9417 - acc: 0.438 - ETA: 1s - loss: 8.9091 - acc: 0.441 - ETA: 1s - loss: 8.8961 - acc: 0.444 - ETA: 1s - loss: 9.0241 - acc: 0.436 - ETA: 1s - loss: 9.0896 - acc: 0.431 - ETA: 1s - loss: 8.9648 - acc: 0.438 - ETA: 1s - loss: 8.9836 - acc: 0.436 - ETA: 1s - loss: 8.9871 - acc: 0.436 - ETA: 1s - loss: 8.8625 - acc: 0.443 - ETA: 0s - loss: 8.8414 - acc: 0.445 - ETA: 0s - loss: 8.8360 - acc: 0.444 - ETA: 0s - loss: 8.9202 - acc: 0.438 - ETA: 0s - loss: 8.9182 - acc: 0.438 - ETA: 0s - loss: 8.8888 - acc: 0.439 - ETA: 0s - loss: 8.8991 - acc: 0.439 - ETA: 0s - loss: 8.8975 - acc: 0.439 - ETA: 0s - loss: 8.9012 - acc: 0.439 - ETA: 0s - loss: 8.9024 - acc: 0.438 - ETA: 0s - loss: 8.9142 - acc: 0.437 - ETA: 0s - loss: 8.8889 - acc: 0.439 - ETA: 0s - loss: 8.8410 - acc: 0.441 - ETA: 0s - loss: 8.8399 - acc: 0.442 - ETA: 0s - loss: 8.8454 - acc: 0.441 - ETA: 0s - loss: 8.8654 - acc: 0.440 - ETA: 0s - loss: 8.8872 - acc: 0.438 - ETA: 0s - loss: 8.9051 - acc: 0.437 - ETA: 0s - loss: 8.8729 - acc: 0.439 - ETA: 0s - loss: 8.8713 - acc: 0.4395Epoch 00011: val_loss improved from 9.40749 to 9.40342, saving model to saved_models/weights.best.VGG16.hdf5\n",
      "6680/6680 [==============================] - 1s - loss: 8.8721 - acc: 0.4394 - val_loss: 9.4034 - val_acc: 0.3557\n",
      "Epoch 13/20\n",
      "6640/6680 [============================>.] - ETA: 2s - loss: 8.2415 - acc: 0.400 - ETA: 1s - loss: 8.2353 - acc: 0.475 - ETA: 1s - loss: 8.6142 - acc: 0.452 - ETA: 1s - loss: 8.5369 - acc: 0.456 - ETA: 1s - loss: 8.7076 - acc: 0.446 - ETA: 1s - loss: 8.6297 - acc: 0.451 - ETA: 1s - loss: 8.5538 - acc: 0.458 - ETA: 1s - loss: 8.5912 - acc: 0.457 - ETA: 1s - loss: 8.5784 - acc: 0.458 - ETA: 1s - loss: 8.6658 - acc: 0.454 - ETA: 1s - loss: 8.7247 - acc: 0.450 - ETA: 0s - loss: 8.6706 - acc: 0.453 - ETA: 0s - loss: 8.8052 - acc: 0.445 - ETA: 0s - loss: 8.7544 - acc: 0.449 - ETA: 0s - loss: 8.7888 - acc: 0.445 - ETA: 0s - loss: 8.7633 - acc: 0.447 - ETA: 0s - loss: 8.7760 - acc: 0.447 - ETA: 0s - loss: 8.7779 - acc: 0.446 - ETA: 0s - loss: 8.7741 - acc: 0.447 - ETA: 0s - loss: 8.7649 - acc: 0.447 - ETA: 0s - loss: 8.7460 - acc: 0.448 - ETA: 0s - loss: 8.7588 - acc: 0.447 - ETA: 0s - loss: 8.7400 - acc: 0.449 - ETA: 0s - loss: 8.7682 - acc: 0.447 - ETA: 0s - loss: 8.7597 - acc: 0.448 - ETA: 0s - loss: 8.7534 - acc: 0.448 - ETA: 0s - loss: 8.7672 - acc: 0.447 - ETA: 0s - loss: 8.7803 - acc: 0.446 - ETA: 0s - loss: 8.8074 - acc: 0.444 - ETA: 0s - loss: 8.8067 - acc: 0.4443Epoch 00012: val_loss improved from 9.40342 to 9.27171, saving model to saved_models/weights.best.VGG16.hdf5\n",
      "6680/6680 [==============================] - 1s - loss: 8.8023 - acc: 0.4446 - val_loss: 9.2717 - val_acc: 0.3641\n",
      "Epoch 14/20\n",
      "6640/6680 [============================>.] - ETA: 1s - loss: 8.0591 - acc: 0.500 - ETA: 1s - loss: 8.5532 - acc: 0.466 - ETA: 1s - loss: 8.8764 - acc: 0.444 - ETA: 1s - loss: 8.7660 - acc: 0.445 - ETA: 1s - loss: 8.8464 - acc: 0.440 - ETA: 1s - loss: 8.7339 - acc: 0.449 - ETA: 1s - loss: 8.5308 - acc: 0.462 - ETA: 1s - loss: 8.7159 - acc: 0.451 - ETA: 1s - loss: 8.6049 - acc: 0.455 - ETA: 1s - loss: 8.6298 - acc: 0.454 - ETA: 0s - loss: 8.6334 - acc: 0.454 - ETA: 0s - loss: 8.6347 - acc: 0.453 - ETA: 0s - loss: 8.6607 - acc: 0.451 - ETA: 0s - loss: 8.6733 - acc: 0.451 - ETA: 0s - loss: 8.7102 - acc: 0.448 - ETA: 0s - loss: 8.7072 - acc: 0.449 - ETA: 0s - loss: 8.7396 - acc: 0.447 - ETA: 0s - loss: 8.7598 - acc: 0.446 - ETA: 0s - loss: 8.7348 - acc: 0.448 - ETA: 0s - loss: 8.7396 - acc: 0.448 - ETA: 0s - loss: 8.7266 - acc: 0.449 - ETA: 0s - loss: 8.7192 - acc: 0.450 - ETA: 0s - loss: 8.7242 - acc: 0.449 - ETA: 0s - loss: 8.7410 - acc: 0.447 - ETA: 0s - loss: 8.7487 - acc: 0.447 - ETA: 0s - loss: 8.7352 - acc: 0.448 - ETA: 0s - loss: 8.7027 - acc: 0.449 - ETA: 0s - loss: 8.6736 - acc: 0.451 - ETA: 0s - loss: 8.6878 - acc: 0.449 - ETA: 0s - loss: 8.7136 - acc: 0.448 - ETA: 0s - loss: 8.7311 - acc: 0.4476Epoch 00013: val_loss did not improve\n",
      "6680/6680 [==============================] - 1s - loss: 8.7250 - acc: 0.4479 - val_loss: 9.2884 - val_acc: 0.3677\n",
      "Epoch 15/20\n",
      "6640/6680 [============================>.] - ETA: 1s - loss: 6.4473 - acc: 0.600 - ETA: 1s - loss: 8.9580 - acc: 0.434 - ETA: 1s - loss: 9.2189 - acc: 0.420 - ETA: 1s - loss: 9.5161 - acc: 0.402 - ETA: 1s - loss: 9.3063 - acc: 0.416 - ETA: 1s - loss: 9.1618 - acc: 0.425 - ETA: 1s - loss: 9.1786 - acc: 0.422 - ETA: 1s - loss: 9.1243 - acc: 0.425 - ETA: 1s - loss: 9.0851 - acc: 0.427 - ETA: 1s - loss: 8.9836 - acc: 0.435 - ETA: 1s - loss: 8.8734 - acc: 0.442 - ETA: 0s - loss: 8.8410 - acc: 0.445 - ETA: 0s - loss: 8.8282 - acc: 0.445 - ETA: 0s - loss: 8.8390 - acc: 0.444 - ETA: 0s - loss: 8.8114 - acc: 0.446 - ETA: 0s - loss: 8.7582 - acc: 0.450 - ETA: 0s - loss: 8.7492 - acc: 0.451 - ETA: 0s - loss: 8.7776 - acc: 0.449 - ETA: 0s - loss: 8.7981 - acc: 0.448 - ETA: 0s - loss: 8.8493 - acc: 0.444 - ETA: 0s - loss: 8.8143 - acc: 0.446 - ETA: 0s - loss: 8.8305 - acc: 0.445 - ETA: 0s - loss: 8.8291 - acc: 0.445 - ETA: 0s - loss: 8.8087 - acc: 0.447 - ETA: 0s - loss: 8.8012 - acc: 0.447 - ETA: 0s - loss: 8.7818 - acc: 0.448 - ETA: 0s - loss: 8.7427 - acc: 0.451 - ETA: 0s - loss: 8.7356 - acc: 0.451 - ETA: 0s - loss: 8.7224 - acc: 0.452 - ETA: 0s - loss: 8.7019 - acc: 0.452 - ETA: 0s - loss: 8.6979 - acc: 0.4532Epoch 00014: val_loss improved from 9.27171 to 9.19524, saving model to saved_models/weights.best.VGG16.hdf5\n",
      "6680/6680 [==============================] - 1s - loss: 8.6965 - acc: 0.4533 - val_loss: 9.1952 - val_acc: 0.3772\n",
      "Epoch 16/20\n",
      "6600/6680 [============================>.] - ETA: 1s - loss: 4.0301 - acc: 0.750 - ETA: 1s - loss: 8.0595 - acc: 0.500 - ETA: 1s - loss: 8.4680 - acc: 0.470 - ETA: 1s - loss: 8.3542 - acc: 0.475 - ETA: 1s - loss: 8.2085 - acc: 0.483 - ETA: 1s - loss: 8.2939 - acc: 0.480 - ETA: 1s - loss: 8.3675 - acc: 0.475 - ETA: 1s - loss: 8.4012 - acc: 0.474 - ETA: 1s - loss: 8.5210 - acc: 0.467 - ETA: 1s - loss: 8.5411 - acc: 0.466 - ETA: 1s - loss: 8.5949 - acc: 0.462 - ETA: 1s - loss: 8.5808 - acc: 0.463 - ETA: 1s - loss: 8.5679 - acc: 0.464 - ETA: 0s - loss: 8.5735 - acc: 0.463 - ETA: 0s - loss: 8.5806 - acc: 0.462 - ETA: 0s - loss: 8.5624 - acc: 0.463 - ETA: 0s - loss: 8.5325 - acc: 0.464 - ETA: 0s - loss: 8.5639 - acc: 0.463 - ETA: 0s - loss: 8.6121 - acc: 0.460 - ETA: 0s - loss: 8.6215 - acc: 0.460 - ETA: 0s - loss: 8.6238 - acc: 0.459 - ETA: 0s - loss: 8.6821 - acc: 0.455 - ETA: 0s - loss: 8.6637 - acc: 0.456 - ETA: 0s - loss: 8.6660 - acc: 0.456 - ETA: 0s - loss: 8.6641 - acc: 0.456 - ETA: 0s - loss: 8.6544 - acc: 0.457 - ETA: 0s - loss: 8.6878 - acc: 0.454 - ETA: 0s - loss: 8.7066 - acc: 0.453 - ETA: 0s - loss: 8.7145 - acc: 0.452 - ETA: 0s - loss: 8.6987 - acc: 0.452 - ETA: 0s - loss: 8.6689 - acc: 0.454 - ETA: 0s - loss: 8.6447 - acc: 0.4553Epoch 00015: val_loss did not improve\n",
      "6680/6680 [==============================] - 1s - loss: 8.6549 - acc: 0.4546 - val_loss: 9.1953 - val_acc: 0.3641\n",
      "Epoch 17/20\n",
      "6640/6680 [============================>.] - ETA: 1s - loss: 7.2548 - acc: 0.550 - ETA: 1s - loss: 8.7423 - acc: 0.438 - ETA: 1s - loss: 8.3443 - acc: 0.466 - ETA: 1s - loss: 8.5512 - acc: 0.455 - ETA: 1s - loss: 8.3755 - acc: 0.464 - ETA: 1s - loss: 8.5296 - acc: 0.456 - ETA: 1s - loss: 8.5392 - acc: 0.455 - ETA: 1s - loss: 8.4907 - acc: 0.459 - ETA: 1s - loss: 8.5085 - acc: 0.459 - ETA: 1s - loss: 8.5800 - acc: 0.454 - ETA: 0s - loss: 8.5593 - acc: 0.456 - ETA: 0s - loss: 8.5792 - acc: 0.455 - ETA: 0s - loss: 8.5921 - acc: 0.454 - ETA: 0s - loss: 8.5714 - acc: 0.455 - ETA: 0s - loss: 8.5434 - acc: 0.456 - ETA: 0s - loss: 8.4571 - acc: 0.461 - ETA: 0s - loss: 8.5525 - acc: 0.456 - ETA: 0s - loss: 8.5758 - acc: 0.454 - ETA: 0s - loss: 8.5710 - acc: 0.455 - ETA: 0s - loss: 8.5546 - acc: 0.456 - ETA: 0s - loss: 8.5357 - acc: 0.457 - ETA: 0s - loss: 8.5310 - acc: 0.458 - ETA: 0s - loss: 8.5284 - acc: 0.458 - ETA: 0s - loss: 8.4883 - acc: 0.460 - ETA: 0s - loss: 8.4763 - acc: 0.461 - ETA: 0s - loss: 8.4991 - acc: 0.460 - ETA: 0s - loss: 8.4921 - acc: 0.461 - ETA: 0s - loss: 8.4968 - acc: 0.460 - ETA: 0s - loss: 8.4964 - acc: 0.4604Epoch 00016: val_loss improved from 9.19524 to 9.15774, saving model to saved_models/weights.best.VGG16.hdf5\n",
      "6680/6680 [==============================] - 1s - loss: 8.4861 - acc: 0.4611 - val_loss: 9.1577 - val_acc: 0.3737\n",
      "Epoch 18/20\n",
      "6640/6680 [============================>.] - ETA: 1s - loss: 8.3073 - acc: 0.450 - ETA: 1s - loss: 7.2080 - acc: 0.541 - ETA: 1s - loss: 8.1784 - acc: 0.475 - ETA: 1s - loss: 8.2245 - acc: 0.471 - ETA: 1s - loss: 8.3567 - acc: 0.467 - ETA: 1s - loss: 8.4170 - acc: 0.461 - ETA: 1s - loss: 8.4440 - acc: 0.459 - ETA: 1s - loss: 8.4805 - acc: 0.456 - ETA: 1s - loss: 8.4916 - acc: 0.455 - ETA: 1s - loss: 8.3848 - acc: 0.462 - ETA: 0s - loss: 8.2678 - acc: 0.469 - ETA: 0s - loss: 8.2927 - acc: 0.469 - ETA: 0s - loss: 8.2467 - acc: 0.472 - ETA: 0s - loss: 8.2329 - acc: 0.473 - ETA: 0s - loss: 8.1689 - acc: 0.476 - ETA: 0s - loss: 8.2160 - acc: 0.474 - ETA: 0s - loss: 8.2197 - acc: 0.473 - ETA: 0s - loss: 8.2231 - acc: 0.473 - ETA: 0s - loss: 8.2610 - acc: 0.471 - ETA: 0s - loss: 8.2368 - acc: 0.472 - ETA: 0s - loss: 8.2688 - acc: 0.470 - ETA: 0s - loss: 8.2689 - acc: 0.470 - ETA: 0s - loss: 8.2697 - acc: 0.470 - ETA: 0s - loss: 8.2673 - acc: 0.470 - ETA: 0s - loss: 8.2514 - acc: 0.471 - ETA: 0s - loss: 8.2549 - acc: 0.470 - ETA: 0s - loss: 8.2541 - acc: 0.470 - ETA: 0s - loss: 8.2233 - acc: 0.472 - ETA: 0s - loss: 8.2430 - acc: 0.4703Epoch 00017: val_loss improved from 9.15774 to 8.80875, saving model to saved_models/weights.best.VGG16.hdf5\n",
      "6680/6680 [==============================] - 1s - loss: 8.2456 - acc: 0.4702 - val_loss: 8.8088 - val_acc: 0.3928\n",
      "Epoch 19/20\n",
      "6540/6680 [============================>.] - ETA: 1s - loss: 8.7238 - acc: 0.400 - ETA: 1s - loss: 8.6088 - acc: 0.445 - ETA: 1s - loss: 8.4441 - acc: 0.458 - ETA: 1s - loss: 8.1452 - acc: 0.475 - ETA: 1s - loss: 8.1449 - acc: 0.472 - ETA: 1s - loss: 8.1188 - acc: 0.473 - ETA: 1s - loss: 8.0612 - acc: 0.475 - ETA: 1s - loss: 8.1304 - acc: 0.472 - ETA: 1s - loss: 8.0730 - acc: 0.476 - ETA: 1s - loss: 8.0994 - acc: 0.475 - ETA: 1s - loss: 8.0867 - acc: 0.477 - ETA: 0s - loss: 8.1243 - acc: 0.475 - ETA: 0s - loss: 8.1902 - acc: 0.472 - ETA: 0s - loss: 8.2080 - acc: 0.471 - ETA: 0s - loss: 8.1343 - acc: 0.476 - ETA: 0s - loss: 8.1688 - acc: 0.475 - ETA: 0s - loss: 8.2053 - acc: 0.473 - ETA: 0s - loss: 8.2034 - acc: 0.472 - ETA: 0s - loss: 8.1572 - acc: 0.475 - ETA: 0s - loss: 8.1013 - acc: 0.478 - ETA: 0s - loss: 8.1011 - acc: 0.479 - ETA: 0s - loss: 8.0661 - acc: 0.481 - ETA: 0s - loss: 8.0725 - acc: 0.481 - ETA: 0s - loss: 8.0609 - acc: 0.483 - ETA: 0s - loss: 8.0314 - acc: 0.485 - ETA: 0s - loss: 8.0394 - acc: 0.484 - ETA: 0s - loss: 8.0111 - acc: 0.486 - ETA: 0s - loss: 8.0075 - acc: 0.486 - ETA: 0s - loss: 8.0157 - acc: 0.486 - ETA: 0s - loss: 8.0347 - acc: 0.4850Epoch 00018: val_loss improved from 8.80875 to 8.65667, saving model to saved_models/weights.best.VGG16.hdf5\n",
      "6680/6680 [==============================] - 1s - loss: 8.0459 - acc: 0.4844 - val_loss: 8.6567 - val_acc: 0.4120\n",
      "Epoch 20/20\n",
      "6560/6680 [============================>.] - ETA: 1s - loss: 7.2534 - acc: 0.550 - ETA: 1s - loss: 8.3089 - acc: 0.479 - ETA: 1s - loss: 8.0704 - acc: 0.489 - ETA: 1s - loss: 8.2166 - acc: 0.479 - ETA: 1s - loss: 8.2310 - acc: 0.473 - ETA: 1s - loss: 8.0369 - acc: 0.485 - ETA: 1s - loss: 8.0136 - acc: 0.487 - ETA: 1s - loss: 7.9001 - acc: 0.495 - ETA: 1s - loss: 7.9225 - acc: 0.493 - ETA: 1s - loss: 7.9529 - acc: 0.493 - ETA: 1s - loss: 7.9528 - acc: 0.493 - ETA: 1s - loss: 7.9496 - acc: 0.492 - ETA: 0s - loss: 7.9352 - acc: 0.493 - ETA: 0s - loss: 7.8993 - acc: 0.494 - ETA: 0s - loss: 7.9345 - acc: 0.493 - ETA: 0s - loss: 8.0085 - acc: 0.489 - ETA: 0s - loss: 7.9773 - acc: 0.491 - ETA: 0s - loss: 7.9079 - acc: 0.495 - ETA: 0s - loss: 7.9085 - acc: 0.495 - ETA: 0s - loss: 7.8941 - acc: 0.496 - ETA: 0s - loss: 7.9062 - acc: 0.494 - ETA: 0s - loss: 7.9053 - acc: 0.493 - ETA: 0s - loss: 7.8834 - acc: 0.495 - ETA: 0s - loss: 7.8975 - acc: 0.494 - ETA: 0s - loss: 7.8615 - acc: 0.495 - ETA: 0s - loss: 7.8690 - acc: 0.494 - ETA: 0s - loss: 7.8537 - acc: 0.495 - ETA: 0s - loss: 7.8553 - acc: 0.495 - ETA: 0s - loss: 7.8689 - acc: 0.494 - ETA: 0s - loss: 7.8726 - acc: 0.494 - ETA: 0s - loss: 7.8866 - acc: 0.4931Epoch 00019: val_loss improved from 8.65667 to 8.42148, saving model to saved_models/weights.best.VGG16.hdf5\n",
      "6680/6680 [==============================] - 1s - loss: 7.8843 - acc: 0.4930 - val_loss: 8.4215 - val_acc: 0.4144\n"
     ]
    },
    {
     "data": {
      "text/plain": [
       "<keras.callbacks.History at 0x20ea2bb7f60>"
      ]
     },
     "execution_count": 41,
     "metadata": {},
     "output_type": "execute_result"
    }
   ],
   "source": [
    "checkpointer = ModelCheckpoint(filepath='saved_models/weights.best.VGG16.hdf5', \n",
    "                               verbose=1, save_best_only=True)\n",
    "\n",
    "VGG16_model.fit(train_VGG16, train_targets, \n",
    "          validation_data=(valid_VGG16, valid_targets),\n",
    "          epochs=20, batch_size=20, callbacks=[checkpointer], verbose=1)"
   ]
  },
  {
   "cell_type": "markdown",
   "metadata": {},
   "source": [
    "### Load the Model with the Best Validation Loss"
   ]
  },
  {
   "cell_type": "code",
   "execution_count": 42,
   "metadata": {},
   "outputs": [],
   "source": [
    "VGG16_model.load_weights('saved_models/weights.best.VGG16.hdf5')"
   ]
  },
  {
   "cell_type": "markdown",
   "metadata": {},
   "source": [
    "### Test the Model\n",
    "\n",
    "Now, we can use the CNN to test how well it identifies breed within our test dataset of dog images.  We print the test accuracy below."
   ]
  },
  {
   "cell_type": "code",
   "execution_count": 43,
   "metadata": {},
   "outputs": [
    {
     "name": "stdout",
     "output_type": "stream",
     "text": [
      "Test accuracy: 41.1483%\n"
     ]
    }
   ],
   "source": [
    "# get index of predicted dog breed for each image in test set\n",
    "VGG16_predictions = [np.argmax(VGG16_model.predict(np.expand_dims(feature, axis=0))) for feature in test_VGG16]\n",
    "\n",
    "# report test accuracy\n",
    "test_accuracy = 100*np.sum(np.array(VGG16_predictions)==np.argmax(test_targets, axis=1))/len(VGG16_predictions)\n",
    "print('Test accuracy: %.4f%%' % test_accuracy)"
   ]
  },
  {
   "cell_type": "markdown",
   "metadata": {},
   "source": [
    "### Predict Dog Breed with the Model"
   ]
  },
  {
   "cell_type": "code",
   "execution_count": 37,
   "metadata": {},
   "outputs": [],
   "source": [
    "from extract_bottleneck_features import *\n",
    "\n",
    "def VGG16_predict_breed(img_path):\n",
    "    # extract bottleneck features\n",
    "    bottleneck_feature = extract_VGG16(path_to_tensor(img_path))\n",
    "    # obtain predicted vector\n",
    "    predicted_vector = VGG16_model.predict(bottleneck_feature)\n",
    "    # return dog breed that is predicted by the model\n",
    "    return dog_names[np.argmax(predicted_vector)]"
   ]
  },
  {
   "cell_type": "markdown",
   "metadata": {},
   "source": [
    "---\n",
    "<a id='step5'></a>\n",
    "## Step 5: Create a CNN to Classify Dog Breeds (using Transfer Learning)\n",
    "\n",
    "You will now use transfer learning to create a CNN that can identify dog breed from images.  Your CNN must attain at least 60% accuracy on the test set.\n",
    "\n",
    "In Step 4, we used transfer learning to create a CNN using VGG-16 bottleneck features.  In this section, you must use the bottleneck features from a different pre-trained model.  To make things easier for you, we have pre-computed the features for all of the networks that are currently available in Keras:\n",
    "- [VGG-19](https://s3-us-west-1.amazonaws.com/udacity-aind/dog-project/DogVGG19Data.npz) bottleneck features\n",
    "- [ResNet-50](https://s3-us-west-1.amazonaws.com/udacity-aind/dog-project/DogResnet50Data.npz) bottleneck features\n",
    "- [Inception](https://s3-us-west-1.amazonaws.com/udacity-aind/dog-project/DogInceptionV3Data.npz) bottleneck features\n",
    "- [Xception](https://s3-us-west-1.amazonaws.com/udacity-aind/dog-project/DogXceptionData.npz) bottleneck features\n",
    "\n",
    "The files are encoded as such:\n",
    "\n",
    "    Dog{network}Data.npz\n",
    "    \n",
    "where `{network}`, in the above filename, can be one of `VGG19`, `Resnet50`, `InceptionV3`, or `Xception`.  Pick one of the above architectures, download the corresponding bottleneck features, and store the downloaded file in the `bottleneck_features/` folder in the repository.\n",
    "\n",
    "### (IMPLEMENTATION) Obtain Bottleneck Features\n",
    "\n",
    "In the code block below, extract the bottleneck features corresponding to the train, test, and validation sets by running the following:\n",
    "\n",
    "    bottleneck_features = np.load('bottleneck_features/Dog{network}Data.npz')\n",
    "    train_{network} = bottleneck_features['train']\n",
    "    valid_{network} = bottleneck_features['valid']\n",
    "    test_{network} = bottleneck_features['test']"
   ]
  },
  {
   "cell_type": "code",
   "execution_count": 11,
   "metadata": {},
   "outputs": [],
   "source": [
    "### TODO: Obtain bottleneck features from another pre-trained CNN.\n",
    "bottleneck_features = np.load('bottleneck_features/DogXceptionData.npz')\n",
    "train_Xception = bottleneck_features['train']\n",
    "valid_Xception = bottleneck_features['valid']\n",
    "test_Xception = bottleneck_features['test']"
   ]
  },
  {
   "cell_type": "markdown",
   "metadata": {},
   "source": [
    "### (IMPLEMENTATION) Model Architecture\n",
    "\n",
    "Create a CNN to classify dog breed.  At the end of your code cell block, summarize the layers of your model by executing the line:\n",
    "    \n",
    "        <your model's name>.summary()\n",
    "   \n",
    "__Question 5:__ Outline the steps you took to get to your final CNN architecture and your reasoning at each step.  Describe why you think the architecture is suitable for the current problem.\n",
    "\n",
    "__Answer:__ We started with the Xception model and the output is being fed to a global average pooling layer, which is further connected to a dense layer. The Xception model is pretrained with data from ImageNet, it is highly likely that the first few convolution layer is capable of identifying simple features (e.g. lines, shapes) within an image, which should be relevant to our task. I believe one dense layer would be sufficient provided that our dog images are possibly similar to subsets from ImageNet. The dense layer has 133 nodes which correspond to the number of dog categories of interest."
   ]
  },
  {
   "cell_type": "code",
   "execution_count": 12,
   "metadata": {},
   "outputs": [
    {
     "name": "stdout",
     "output_type": "stream",
     "text": [
      "_________________________________________________________________\n",
      "Layer (type)                 Output Shape              Param #   \n",
      "=================================================================\n",
      "global_average_pooling2d_2 ( (None, 2048)              0         \n",
      "_________________________________________________________________\n",
      "dense_2 (Dense)              (None, 133)               272517    \n",
      "=================================================================\n",
      "Total params: 272,517.0\n",
      "Trainable params: 272,517.0\n",
      "Non-trainable params: 0.0\n",
      "_________________________________________________________________\n"
     ]
    }
   ],
   "source": [
    "### TODO: Define your architecture.\n",
    "Xception_model = Sequential()\n",
    "Xception_model.add(GlobalAveragePooling2D(input_shape=train_Xception.shape[1:]))\n",
    "Xception_model.add(Dense(133, activation='softmax'))\n",
    "\n",
    "Xception_model.summary()"
   ]
  },
  {
   "cell_type": "markdown",
   "metadata": {},
   "source": [
    "### (IMPLEMENTATION) Compile the Model"
   ]
  },
  {
   "cell_type": "code",
   "execution_count": 48,
   "metadata": {},
   "outputs": [],
   "source": [
    "### TODO: Compile the model.\n",
    "Xception_model.compile(loss='categorical_crossentropy', optimizer='rmsprop', metrics=['accuracy'])"
   ]
  },
  {
   "cell_type": "markdown",
   "metadata": {},
   "source": [
    "### (IMPLEMENTATION) Train the Model\n",
    "\n",
    "Train your model in the code cell below.  Use model checkpointing to save the model that attains the best validation loss.  \n",
    "\n",
    "You are welcome to [augment the training data](https://blog.keras.io/building-powerful-image-classification-models-using-very-little-data.html), but this is not a requirement. "
   ]
  },
  {
   "cell_type": "code",
   "execution_count": 49,
   "metadata": {
    "scrolled": true
   },
   "outputs": [
    {
     "name": "stdout",
     "output_type": "stream",
     "text": [
      "Train on 6680 samples, validate on 835 samples\n",
      "Epoch 1/20\n",
      "6600/6680 [============================>.] - ETA: 81s - loss: 5.0702 - acc: 0.05 - ETA: 20s - loss: 4.9133 - acc: 0.07 - ETA: 14s - loss: 4.7058 - acc: 0.10 - ETA: 11s - loss: 4.5643 - acc: 0.16 - ETA: 9s - loss: 4.2989 - acc: 0.2156 - ETA: 8s - loss: 4.1149 - acc: 0.237 - ETA: 7s - loss: 3.9385 - acc: 0.270 - ETA: 7s - loss: 3.7996 - acc: 0.289 - ETA: 6s - loss: 3.6525 - acc: 0.309 - ETA: 6s - loss: 3.4978 - acc: 0.330 - ETA: 5s - loss: 3.3436 - acc: 0.348 - ETA: 5s - loss: 3.1977 - acc: 0.377 - ETA: 5s - loss: 3.0799 - acc: 0.395 - ETA: 5s - loss: 2.9577 - acc: 0.414 - ETA: 5s - loss: 2.8262 - acc: 0.436 - ETA: 4s - loss: 2.7267 - acc: 0.449 - ETA: 4s - loss: 2.6273 - acc: 0.467 - ETA: 4s - loss: 2.5367 - acc: 0.485 - ETA: 4s - loss: 2.4553 - acc: 0.498 - ETA: 4s - loss: 2.3818 - acc: 0.510 - ETA: 4s - loss: 2.3159 - acc: 0.518 - ETA: 4s - loss: 2.2542 - acc: 0.530 - ETA: 4s - loss: 2.1962 - acc: 0.536 - ETA: 3s - loss: 2.1302 - acc: 0.547 - ETA: 3s - loss: 2.0802 - acc: 0.556 - ETA: 3s - loss: 2.0278 - acc: 0.566 - ETA: 3s - loss: 1.9856 - acc: 0.573 - ETA: 3s - loss: 1.9464 - acc: 0.580 - ETA: 3s - loss: 1.9171 - acc: 0.585 - ETA: 3s - loss: 1.8796 - acc: 0.591 - ETA: 3s - loss: 1.8400 - acc: 0.599 - ETA: 3s - loss: 1.8046 - acc: 0.605 - ETA: 3s - loss: 1.7692 - acc: 0.610 - ETA: 3s - loss: 1.7420 - acc: 0.614 - ETA: 3s - loss: 1.7190 - acc: 0.618 - ETA: 3s - loss: 1.6878 - acc: 0.623 - ETA: 2s - loss: 1.6577 - acc: 0.630 - ETA: 2s - loss: 1.6302 - acc: 0.632 - ETA: 2s - loss: 1.6107 - acc: 0.635 - ETA: 2s - loss: 1.5859 - acc: 0.638 - ETA: 2s - loss: 1.5515 - acc: 0.644 - ETA: 2s - loss: 1.5306 - acc: 0.648 - ETA: 2s - loss: 1.5110 - acc: 0.651 - ETA: 2s - loss: 1.4918 - acc: 0.654 - ETA: 2s - loss: 1.4763 - acc: 0.657 - ETA: 2s - loss: 1.4576 - acc: 0.660 - ETA: 2s - loss: 1.4429 - acc: 0.662 - ETA: 2s - loss: 1.4279 - acc: 0.663 - ETA: 2s - loss: 1.4137 - acc: 0.665 - ETA: 2s - loss: 1.3993 - acc: 0.667 - ETA: 2s - loss: 1.3839 - acc: 0.671 - ETA: 2s - loss: 1.3655 - acc: 0.675 - ETA: 1s - loss: 1.3481 - acc: 0.679 - ETA: 1s - loss: 1.3374 - acc: 0.679 - ETA: 1s - loss: 1.3285 - acc: 0.681 - ETA: 1s - loss: 1.3221 - acc: 0.681 - ETA: 1s - loss: 1.3119 - acc: 0.683 - ETA: 1s - loss: 1.3012 - acc: 0.686 - ETA: 1s - loss: 1.2902 - acc: 0.687 - ETA: 1s - loss: 1.2763 - acc: 0.691 - ETA: 1s - loss: 1.2629 - acc: 0.693 - ETA: 1s - loss: 1.2512 - acc: 0.695 - ETA: 1s - loss: 1.2362 - acc: 0.698 - ETA: 1s - loss: 1.2206 - acc: 0.702 - ETA: 1s - loss: 1.2093 - acc: 0.704 - ETA: 1s - loss: 1.2007 - acc: 0.705 - ETA: 1s - loss: 1.1890 - acc: 0.708 - ETA: 1s - loss: 1.1792 - acc: 0.710 - ETA: 0s - loss: 1.1700 - acc: 0.711 - ETA: 0s - loss: 1.1606 - acc: 0.713 - ETA: 0s - loss: 1.1540 - acc: 0.715 - ETA: 0s - loss: 1.1449 - acc: 0.717 - ETA: 0s - loss: 1.1349 - acc: 0.718 - ETA: 0s - loss: 1.1275 - acc: 0.720 - ETA: 0s - loss: 1.1189 - acc: 0.722 - ETA: 0s - loss: 1.1112 - acc: 0.724 - ETA: 0s - loss: 1.1022 - acc: 0.726 - ETA: 0s - loss: 1.0943 - acc: 0.726 - ETA: 0s - loss: 1.0875 - acc: 0.728 - ETA: 0s - loss: 1.0834 - acc: 0.729 - ETA: 0s - loss: 1.0786 - acc: 0.730 - ETA: 0s - loss: 1.0730 - acc: 0.731 - ETA: 0s - loss: 1.0701 - acc: 0.731 - ETA: 0s - loss: 1.0671 - acc: 0.731 - ETA: 0s - loss: 1.0614 - acc: 0.732 - ETA: 0s - loss: 1.0538 - acc: 0.7341Epoch 00000: val_loss improved from inf to 0.52909, saving model to saved_models/weights.best.Xception.hdf5\n",
      "6680/6680 [==============================] - 5s - loss: 1.0499 - acc: 0.7346 - val_loss: 0.5291 - val_acc: 0.8275\n",
      "Epoch 2/20\n",
      "6640/6680 [============================>.] - ETA: 3s - loss: 0.7151 - acc: 0.750 - ETA: 3s - loss: 0.3880 - acc: 0.883 - ETA: 4s - loss: 0.4719 - acc: 0.855 - ETA: 4s - loss: 0.4296 - acc: 0.869 - ETA: 4s - loss: 0.4283 - acc: 0.865 - ETA: 4s - loss: 0.4564 - acc: 0.862 - ETA: 4s - loss: 0.4231 - acc: 0.868 - ETA: 4s - loss: 0.4096 - acc: 0.873 - ETA: 4s - loss: 0.4009 - acc: 0.875 - ETA: 4s - loss: 0.4101 - acc: 0.875 - ETA: 4s - loss: 0.4311 - acc: 0.865 - ETA: 4s - loss: 0.4334 - acc: 0.858 - ETA: 4s - loss: 0.4329 - acc: 0.857 - ETA: 3s - loss: 0.4183 - acc: 0.861 - ETA: 3s - loss: 0.4154 - acc: 0.861 - ETA: 3s - loss: 0.4139 - acc: 0.861 - ETA: 3s - loss: 0.4080 - acc: 0.861 - ETA: 3s - loss: 0.4061 - acc: 0.862 - ETA: 3s - loss: 0.4014 - acc: 0.864 - ETA: 3s - loss: 0.4021 - acc: 0.863 - ETA: 3s - loss: 0.3994 - acc: 0.865 - ETA: 3s - loss: 0.3933 - acc: 0.868 - ETA: 3s - loss: 0.3890 - acc: 0.869 - ETA: 3s - loss: 0.3903 - acc: 0.867 - ETA: 3s - loss: 0.3963 - acc: 0.865 - ETA: 3s - loss: 0.3986 - acc: 0.864 - ETA: 3s - loss: 0.4001 - acc: 0.863 - ETA: 3s - loss: 0.4008 - acc: 0.862 - ETA: 3s - loss: 0.4038 - acc: 0.862 - ETA: 3s - loss: 0.4014 - acc: 0.864 - ETA: 3s - loss: 0.3967 - acc: 0.866 - ETA: 2s - loss: 0.4012 - acc: 0.864 - ETA: 2s - loss: 0.4026 - acc: 0.865 - ETA: 2s - loss: 0.4034 - acc: 0.864 - ETA: 2s - loss: 0.4011 - acc: 0.865 - ETA: 2s - loss: 0.3966 - acc: 0.868 - ETA: 2s - loss: 0.3944 - acc: 0.869 - ETA: 2s - loss: 0.3939 - acc: 0.869 - ETA: 2s - loss: 0.3910 - acc: 0.869 - ETA: 2s - loss: 0.3933 - acc: 0.869 - ETA: 2s - loss: 0.3974 - acc: 0.867 - ETA: 2s - loss: 0.3975 - acc: 0.869 - ETA: 2s - loss: 0.3987 - acc: 0.870 - ETA: 2s - loss: 0.3931 - acc: 0.871 - ETA: 2s - loss: 0.3929 - acc: 0.872 - ETA: 2s - loss: 0.3936 - acc: 0.871 - ETA: 2s - loss: 0.3927 - acc: 0.872 - ETA: 2s - loss: 0.3930 - acc: 0.872 - ETA: 1s - loss: 0.3908 - acc: 0.872 - ETA: 1s - loss: 0.3905 - acc: 0.872 - ETA: 1s - loss: 0.3880 - acc: 0.872 - ETA: 1s - loss: 0.3897 - acc: 0.872 - ETA: 1s - loss: 0.3872 - acc: 0.874 - ETA: 1s - loss: 0.3896 - acc: 0.872 - ETA: 1s - loss: 0.3886 - acc: 0.873 - ETA: 1s - loss: 0.3885 - acc: 0.873 - ETA: 1s - loss: 0.3922 - acc: 0.872 - ETA: 1s - loss: 0.3915 - acc: 0.872 - ETA: 1s - loss: 0.3910 - acc: 0.873 - ETA: 1s - loss: 0.3913 - acc: 0.872 - ETA: 1s - loss: 0.3896 - acc: 0.873 - ETA: 1s - loss: 0.3924 - acc: 0.872 - ETA: 1s - loss: 0.3929 - acc: 0.872 - ETA: 1s - loss: 0.3946 - acc: 0.871 - ETA: 1s - loss: 0.3949 - acc: 0.872 - ETA: 0s - loss: 0.3961 - acc: 0.872 - ETA: 0s - loss: 0.3966 - acc: 0.872 - ETA: 0s - loss: 0.3966 - acc: 0.872 - ETA: 0s - loss: 0.3959 - acc: 0.872 - ETA: 0s - loss: 0.3961 - acc: 0.872 - ETA: 0s - loss: 0.3961 - acc: 0.872 - ETA: 0s - loss: 0.3959 - acc: 0.871 - ETA: 0s - loss: 0.3957 - acc: 0.872 - ETA: 0s - loss: 0.3942 - acc: 0.872 - ETA: 0s - loss: 0.3939 - acc: 0.872 - ETA: 0s - loss: 0.3951 - acc: 0.872 - ETA: 0s - loss: 0.3921 - acc: 0.873 - ETA: 0s - loss: 0.3910 - acc: 0.874 - ETA: 0s - loss: 0.3918 - acc: 0.874 - ETA: 0s - loss: 0.3916 - acc: 0.873 - ETA: 0s - loss: 0.3926 - acc: 0.873 - ETA: 0s - loss: 0.3921 - acc: 0.8735Epoch 00001: val_loss improved from 0.52909 to 0.46906, saving model to saved_models/weights.best.Xception.hdf5\n",
      "6680/6680 [==============================] - 4s - loss: 0.3935 - acc: 0.8729 - val_loss: 0.4691 - val_acc: 0.8551\n",
      "Epoch 3/20\n",
      "6640/6680 [============================>.] - ETA: 6s - loss: 0.5524 - acc: 0.900 - ETA: 5s - loss: 0.3926 - acc: 0.900 - ETA: 5s - loss: 0.3250 - acc: 0.912 - ETA: 5s - loss: 0.3180 - acc: 0.918 - ETA: 5s - loss: 0.3272 - acc: 0.896 - ETA: 5s - loss: 0.3482 - acc: 0.889 - ETA: 4s - loss: 0.3571 - acc: 0.889 - ETA: 4s - loss: 0.3559 - acc: 0.890 - ETA: 4s - loss: 0.3705 - acc: 0.887 - ETA: 4s - loss: 0.3581 - acc: 0.890 - ETA: 4s - loss: 0.3632 - acc: 0.886 - ETA: 4s - loss: 0.3630 - acc: 0.890 - ETA: 4s - loss: 0.3483 - acc: 0.892 - ETA: 4s - loss: 0.3450 - acc: 0.890 - ETA: 4s - loss: 0.3288 - acc: 0.897 - ETA: 4s - loss: 0.3185 - acc: 0.900 - ETA: 4s - loss: 0.3260 - acc: 0.897 - ETA: 4s - loss: 0.3165 - acc: 0.900 - ETA: 4s - loss: 0.3182 - acc: 0.900 - ETA: 4s - loss: 0.3156 - acc: 0.900 - ETA: 3s - loss: 0.3165 - acc: 0.900 - ETA: 3s - loss: 0.3217 - acc: 0.900 - ETA: 3s - loss: 0.3200 - acc: 0.898 - ETA: 3s - loss: 0.3091 - acc: 0.902 - ETA: 3s - loss: 0.3117 - acc: 0.900 - ETA: 3s - loss: 0.3103 - acc: 0.901 - ETA: 3s - loss: 0.3125 - acc: 0.900 - ETA: 3s - loss: 0.3107 - acc: 0.900 - ETA: 3s - loss: 0.3079 - acc: 0.901 - ETA: 3s - loss: 0.3063 - acc: 0.902 - ETA: 3s - loss: 0.3076 - acc: 0.902 - ETA: 3s - loss: 0.3087 - acc: 0.900 - ETA: 3s - loss: 0.3140 - acc: 0.898 - ETA: 3s - loss: 0.3128 - acc: 0.898 - ETA: 3s - loss: 0.3164 - acc: 0.897 - ETA: 2s - loss: 0.3185 - acc: 0.896 - ETA: 2s - loss: 0.3170 - acc: 0.896 - ETA: 2s - loss: 0.3140 - acc: 0.898 - ETA: 2s - loss: 0.3118 - acc: 0.899 - ETA: 2s - loss: 0.3115 - acc: 0.899 - ETA: 2s - loss: 0.3097 - acc: 0.900 - ETA: 2s - loss: 0.3120 - acc: 0.899 - ETA: 2s - loss: 0.3143 - acc: 0.899 - ETA: 2s - loss: 0.3159 - acc: 0.899 - ETA: 2s - loss: 0.3155 - acc: 0.900 - ETA: 2s - loss: 0.3166 - acc: 0.900 - ETA: 2s - loss: 0.3171 - acc: 0.900 - ETA: 2s - loss: 0.3186 - acc: 0.900 - ETA: 2s - loss: 0.3185 - acc: 0.899 - ETA: 2s - loss: 0.3184 - acc: 0.900 - ETA: 2s - loss: 0.3174 - acc: 0.900 - ETA: 2s - loss: 0.3148 - acc: 0.901 - ETA: 2s - loss: 0.3146 - acc: 0.900 - ETA: 1s - loss: 0.3162 - acc: 0.900 - ETA: 1s - loss: 0.3154 - acc: 0.900 - ETA: 1s - loss: 0.3164 - acc: 0.900 - ETA: 1s - loss: 0.3184 - acc: 0.899 - ETA: 1s - loss: 0.3192 - acc: 0.898 - ETA: 1s - loss: 0.3194 - acc: 0.898 - ETA: 1s - loss: 0.3184 - acc: 0.899 - ETA: 1s - loss: 0.3177 - acc: 0.899 - ETA: 1s - loss: 0.3177 - acc: 0.898 - ETA: 1s - loss: 0.3198 - acc: 0.898 - ETA: 1s - loss: 0.3174 - acc: 0.899 - ETA: 1s - loss: 0.3161 - acc: 0.900 - ETA: 1s - loss: 0.3144 - acc: 0.900 - ETA: 1s - loss: 0.3213 - acc: 0.900 - ETA: 1s - loss: 0.3191 - acc: 0.900 - ETA: 1s - loss: 0.3176 - acc: 0.900 - ETA: 1s - loss: 0.3163 - acc: 0.901 - ETA: 1s - loss: 0.3146 - acc: 0.901 - ETA: 1s - loss: 0.3139 - acc: 0.901 - ETA: 0s - loss: 0.3135 - acc: 0.901 - ETA: 0s - loss: 0.3151 - acc: 0.901 - ETA: 0s - loss: 0.3150 - acc: 0.900 - ETA: 0s - loss: 0.3159 - acc: 0.900 - ETA: 0s - loss: 0.3143 - acc: 0.901 - ETA: 0s - loss: 0.3151 - acc: 0.900 - ETA: 0s - loss: 0.3164 - acc: 0.900 - ETA: 0s - loss: 0.3166 - acc: 0.900 - ETA: 0s - loss: 0.3174 - acc: 0.899 - ETA: 0s - loss: 0.3166 - acc: 0.899 - ETA: 0s - loss: 0.3168 - acc: 0.899 - ETA: 0s - loss: 0.3176 - acc: 0.899 - ETA: 0s - loss: 0.3205 - acc: 0.898 - ETA: 0s - loss: 0.3216 - acc: 0.898 - ETA: 0s - loss: 0.3208 - acc: 0.898 - ETA: 0s - loss: 0.3251 - acc: 0.897 - ETA: 0s - loss: 0.3260 - acc: 0.8973Epoch 00002: val_loss did not improve\n",
      "6680/6680 [==============================] - 5s - loss: 0.3256 - acc: 0.8975 - val_loss: 0.4703 - val_acc: 0.8539\n",
      "Epoch 4/20\n",
      "6620/6680 [============================>.] - ETA: 3s - loss: 0.0648 - acc: 1.000 - ETA: 4s - loss: 0.1360 - acc: 0.970 - ETA: 4s - loss: 0.1511 - acc: 0.966 - ETA: 4s - loss: 0.1982 - acc: 0.950 - ETA: 4s - loss: 0.1859 - acc: 0.952 - ETA: 4s - loss: 0.2227 - acc: 0.940 - ETA: 4s - loss: 0.2187 - acc: 0.942 - ETA: 4s - loss: 0.2232 - acc: 0.939 - ETA: 4s - loss: 0.2471 - acc: 0.931 - ETA: 4s - loss: 0.2587 - acc: 0.928 - ETA: 4s - loss: 0.2685 - acc: 0.928 - ETA: 4s - loss: 0.2597 - acc: 0.930 - ETA: 4s - loss: 0.2698 - acc: 0.929 - ETA: 3s - loss: 0.2843 - acc: 0.919 - ETA: 3s - loss: 0.2790 - acc: 0.921 - ETA: 3s - loss: 0.2730 - acc: 0.923 - ETA: 3s - loss: 0.2665 - acc: 0.923 - ETA: 3s - loss: 0.2718 - acc: 0.923 - ETA: 3s - loss: 0.2729 - acc: 0.923 - ETA: 3s - loss: 0.2775 - acc: 0.920 - ETA: 3s - loss: 0.2746 - acc: 0.921 - ETA: 3s - loss: 0.2799 - acc: 0.919 - ETA: 3s - loss: 0.2824 - acc: 0.917 - ETA: 3s - loss: 0.2788 - acc: 0.917 - ETA: 3s - loss: 0.2749 - acc: 0.917 - ETA: 3s - loss: 0.2735 - acc: 0.917 - ETA: 3s - loss: 0.2718 - acc: 0.917 - ETA: 2s - loss: 0.2685 - acc: 0.918 - ETA: 2s - loss: 0.2692 - acc: 0.917 - ETA: 2s - loss: 0.2665 - acc: 0.918 - ETA: 2s - loss: 0.2647 - acc: 0.918 - ETA: 2s - loss: 0.2648 - acc: 0.916 - ETA: 2s - loss: 0.2626 - acc: 0.917 - ETA: 2s - loss: 0.2636 - acc: 0.918 - ETA: 2s - loss: 0.2637 - acc: 0.917 - ETA: 2s - loss: 0.2650 - acc: 0.917 - ETA: 2s - loss: 0.2640 - acc: 0.917 - ETA: 2s - loss: 0.2591 - acc: 0.919 - ETA: 2s - loss: 0.2605 - acc: 0.918 - ETA: 2s - loss: 0.2572 - acc: 0.919 - ETA: 2s - loss: 0.2569 - acc: 0.919 - ETA: 2s - loss: 0.2563 - acc: 0.920 - ETA: 2s - loss: 0.2601 - acc: 0.918 - ETA: 2s - loss: 0.2587 - acc: 0.919 - ETA: 2s - loss: 0.2571 - acc: 0.919 - ETA: 2s - loss: 0.2550 - acc: 0.920 - ETA: 1s - loss: 0.2529 - acc: 0.920 - ETA: 1s - loss: 0.2534 - acc: 0.920 - ETA: 1s - loss: 0.2570 - acc: 0.920 - ETA: 1s - loss: 0.2578 - acc: 0.919 - ETA: 1s - loss: 0.2561 - acc: 0.919 - ETA: 1s - loss: 0.2556 - acc: 0.920 - ETA: 1s - loss: 0.2538 - acc: 0.921 - ETA: 1s - loss: 0.2560 - acc: 0.920 - ETA: 1s - loss: 0.2578 - acc: 0.921 - ETA: 1s - loss: 0.2558 - acc: 0.921 - ETA: 1s - loss: 0.2593 - acc: 0.921 - ETA: 1s - loss: 0.2576 - acc: 0.921 - ETA: 1s - loss: 0.2575 - acc: 0.921 - ETA: 1s - loss: 0.2587 - acc: 0.919 - ETA: 1s - loss: 0.2591 - acc: 0.919 - ETA: 1s - loss: 0.2595 - acc: 0.919 - ETA: 1s - loss: 0.2585 - acc: 0.919 - ETA: 1s - loss: 0.2636 - acc: 0.917 - ETA: 0s - loss: 0.2643 - acc: 0.917 - ETA: 0s - loss: 0.2660 - acc: 0.917 - ETA: 0s - loss: 0.2667 - acc: 0.916 - ETA: 0s - loss: 0.2673 - acc: 0.916 - ETA: 0s - loss: 0.2679 - acc: 0.916 - ETA: 0s - loss: 0.2673 - acc: 0.916 - ETA: 0s - loss: 0.2676 - acc: 0.916 - ETA: 0s - loss: 0.2677 - acc: 0.915 - ETA: 0s - loss: 0.2691 - acc: 0.915 - ETA: 0s - loss: 0.2681 - acc: 0.916 - ETA: 0s - loss: 0.2678 - acc: 0.916 - ETA: 0s - loss: 0.2673 - acc: 0.915 - ETA: 0s - loss: 0.2660 - acc: 0.916 - ETA: 0s - loss: 0.2676 - acc: 0.915 - ETA: 0s - loss: 0.2679 - acc: 0.915 - ETA: 0s - loss: 0.2667 - acc: 0.915 - ETA: 0s - loss: 0.2672 - acc: 0.915 - ETA: 0s - loss: 0.2693 - acc: 0.9150Epoch 00003: val_loss did not improve\n",
      "6680/6680 [==============================] - 4s - loss: 0.2696 - acc: 0.9147 - val_loss: 0.4905 - val_acc: 0.8515\n",
      "Epoch 5/20\n"
     ]
    },
    {
     "name": "stdout",
     "output_type": "stream",
     "text": [
      "6600/6680 [============================>.] - ETA: 3s - loss: 0.1583 - acc: 0.950 - ETA: 4s - loss: 0.1594 - acc: 0.960 - ETA: 4s - loss: 0.1840 - acc: 0.944 - ETA: 4s - loss: 0.2383 - acc: 0.930 - ETA: 4s - loss: 0.2314 - acc: 0.929 - ETA: 4s - loss: 0.2300 - acc: 0.923 - ETA: 4s - loss: 0.2475 - acc: 0.920 - ETA: 4s - loss: 0.2446 - acc: 0.919 - ETA: 4s - loss: 0.2518 - acc: 0.919 - ETA: 4s - loss: 0.2418 - acc: 0.923 - ETA: 3s - loss: 0.2371 - acc: 0.926 - ETA: 3s - loss: 0.2338 - acc: 0.929 - ETA: 3s - loss: 0.2274 - acc: 0.930 - ETA: 3s - loss: 0.2419 - acc: 0.924 - ETA: 3s - loss: 0.2340 - acc: 0.926 - ETA: 3s - loss: 0.2312 - acc: 0.925 - ETA: 3s - loss: 0.2317 - acc: 0.925 - ETA: 3s - loss: 0.2287 - acc: 0.926 - ETA: 3s - loss: 0.2250 - acc: 0.928 - ETA: 3s - loss: 0.2184 - acc: 0.930 - ETA: 3s - loss: 0.2166 - acc: 0.930 - ETA: 3s - loss: 0.2148 - acc: 0.930 - ETA: 3s - loss: 0.2178 - acc: 0.930 - ETA: 3s - loss: 0.2255 - acc: 0.929 - ETA: 3s - loss: 0.2286 - acc: 0.929 - ETA: 3s - loss: 0.2255 - acc: 0.930 - ETA: 3s - loss: 0.2253 - acc: 0.931 - ETA: 2s - loss: 0.2290 - acc: 0.930 - ETA: 2s - loss: 0.2266 - acc: 0.931 - ETA: 2s - loss: 0.2364 - acc: 0.926 - ETA: 2s - loss: 0.2406 - acc: 0.926 - ETA: 2s - loss: 0.2381 - acc: 0.927 - ETA: 2s - loss: 0.2358 - acc: 0.927 - ETA: 2s - loss: 0.2392 - acc: 0.926 - ETA: 2s - loss: 0.2391 - acc: 0.925 - ETA: 2s - loss: 0.2363 - acc: 0.927 - ETA: 2s - loss: 0.2347 - acc: 0.927 - ETA: 2s - loss: 0.2359 - acc: 0.927 - ETA: 2s - loss: 0.2387 - acc: 0.926 - ETA: 2s - loss: 0.2401 - acc: 0.925 - ETA: 2s - loss: 0.2445 - acc: 0.925 - ETA: 2s - loss: 0.2434 - acc: 0.925 - ETA: 2s - loss: 0.2443 - acc: 0.925 - ETA: 1s - loss: 0.2403 - acc: 0.926 - ETA: 1s - loss: 0.2398 - acc: 0.927 - ETA: 1s - loss: 0.2408 - acc: 0.925 - ETA: 1s - loss: 0.2423 - acc: 0.925 - ETA: 1s - loss: 0.2433 - acc: 0.924 - ETA: 1s - loss: 0.2440 - acc: 0.924 - ETA: 1s - loss: 0.2428 - acc: 0.924 - ETA: 1s - loss: 0.2439 - acc: 0.923 - ETA: 1s - loss: 0.2459 - acc: 0.924 - ETA: 1s - loss: 0.2449 - acc: 0.924 - ETA: 1s - loss: 0.2429 - acc: 0.924 - ETA: 1s - loss: 0.2446 - acc: 0.923 - ETA: 1s - loss: 0.2431 - acc: 0.923 - ETA: 1s - loss: 0.2407 - acc: 0.924 - ETA: 1s - loss: 0.2402 - acc: 0.924 - ETA: 1s - loss: 0.2379 - acc: 0.925 - ETA: 1s - loss: 0.2379 - acc: 0.924 - ETA: 1s - loss: 0.2370 - acc: 0.924 - ETA: 0s - loss: 0.2380 - acc: 0.924 - ETA: 0s - loss: 0.2383 - acc: 0.924 - ETA: 0s - loss: 0.2381 - acc: 0.924 - ETA: 0s - loss: 0.2384 - acc: 0.924 - ETA: 0s - loss: 0.2384 - acc: 0.924 - ETA: 0s - loss: 0.2387 - acc: 0.924 - ETA: 0s - loss: 0.2388 - acc: 0.924 - ETA: 0s - loss: 0.2397 - acc: 0.923 - ETA: 0s - loss: 0.2408 - acc: 0.923 - ETA: 0s - loss: 0.2414 - acc: 0.923 - ETA: 0s - loss: 0.2432 - acc: 0.923 - ETA: 0s - loss: 0.2421 - acc: 0.923 - ETA: 0s - loss: 0.2450 - acc: 0.923 - ETA: 0s - loss: 0.2448 - acc: 0.922 - ETA: 0s - loss: 0.2441 - acc: 0.922 - ETA: 0s - loss: 0.2443 - acc: 0.923 - ETA: 0s - loss: 0.2446 - acc: 0.922 - ETA: 0s - loss: 0.2430 - acc: 0.9235Epoch 00004: val_loss did not improve\n",
      "6680/6680 [==============================] - 4s - loss: 0.2418 - acc: 0.9237 - val_loss: 0.5112 - val_acc: 0.8551\n",
      "Epoch 6/20\n",
      "6600/6680 [============================>.] - ETA: 4s - loss: 0.1436 - acc: 0.950 - ETA: 4s - loss: 0.1347 - acc: 0.970 - ETA: 4s - loss: 0.2433 - acc: 0.944 - ETA: 4s - loss: 0.2049 - acc: 0.946 - ETA: 4s - loss: 0.1820 - acc: 0.950 - ETA: 4s - loss: 0.1728 - acc: 0.950 - ETA: 4s - loss: 0.1551 - acc: 0.956 - ETA: 4s - loss: 0.1659 - acc: 0.946 - ETA: 4s - loss: 0.1679 - acc: 0.947 - ETA: 3s - loss: 0.1653 - acc: 0.946 - ETA: 3s - loss: 0.1786 - acc: 0.942 - ETA: 3s - loss: 0.1893 - acc: 0.940 - ETA: 3s - loss: 0.1954 - acc: 0.938 - ETA: 3s - loss: 0.2025 - acc: 0.936 - ETA: 3s - loss: 0.2016 - acc: 0.935 - ETA: 3s - loss: 0.2031 - acc: 0.934 - ETA: 3s - loss: 0.2022 - acc: 0.934 - ETA: 3s - loss: 0.1982 - acc: 0.935 - ETA: 3s - loss: 0.1991 - acc: 0.935 - ETA: 3s - loss: 0.1916 - acc: 0.938 - ETA: 3s - loss: 0.1904 - acc: 0.939 - ETA: 3s - loss: 0.1911 - acc: 0.937 - ETA: 3s - loss: 0.1871 - acc: 0.939 - ETA: 3s - loss: 0.1851 - acc: 0.939 - ETA: 3s - loss: 0.1837 - acc: 0.939 - ETA: 3s - loss: 0.1841 - acc: 0.939 - ETA: 2s - loss: 0.1800 - acc: 0.940 - ETA: 2s - loss: 0.1811 - acc: 0.940 - ETA: 2s - loss: 0.1787 - acc: 0.940 - ETA: 2s - loss: 0.1769 - acc: 0.941 - ETA: 2s - loss: 0.1746 - acc: 0.942 - ETA: 2s - loss: 0.1734 - acc: 0.943 - ETA: 2s - loss: 0.1721 - acc: 0.943 - ETA: 2s - loss: 0.1819 - acc: 0.942 - ETA: 2s - loss: 0.1844 - acc: 0.941 - ETA: 2s - loss: 0.1884 - acc: 0.940 - ETA: 2s - loss: 0.1910 - acc: 0.939 - ETA: 2s - loss: 0.1943 - acc: 0.938 - ETA: 2s - loss: 0.1961 - acc: 0.936 - ETA: 2s - loss: 0.1979 - acc: 0.936 - ETA: 2s - loss: 0.1974 - acc: 0.936 - ETA: 2s - loss: 0.1963 - acc: 0.937 - ETA: 2s - loss: 0.1947 - acc: 0.937 - ETA: 2s - loss: 0.1964 - acc: 0.936 - ETA: 2s - loss: 0.1962 - acc: 0.937 - ETA: 1s - loss: 0.1972 - acc: 0.936 - ETA: 1s - loss: 0.1976 - acc: 0.936 - ETA: 1s - loss: 0.1980 - acc: 0.936 - ETA: 1s - loss: 0.2022 - acc: 0.935 - ETA: 1s - loss: 0.2052 - acc: 0.935 - ETA: 1s - loss: 0.2058 - acc: 0.935 - ETA: 1s - loss: 0.2064 - acc: 0.935 - ETA: 1s - loss: 0.2060 - acc: 0.934 - ETA: 1s - loss: 0.2075 - acc: 0.934 - ETA: 1s - loss: 0.2089 - acc: 0.934 - ETA: 1s - loss: 0.2064 - acc: 0.935 - ETA: 1s - loss: 0.2081 - acc: 0.935 - ETA: 1s - loss: 0.2084 - acc: 0.934 - ETA: 1s - loss: 0.2084 - acc: 0.934 - ETA: 1s - loss: 0.2115 - acc: 0.933 - ETA: 1s - loss: 0.2099 - acc: 0.933 - ETA: 1s - loss: 0.2106 - acc: 0.933 - ETA: 1s - loss: 0.2097 - acc: 0.934 - ETA: 0s - loss: 0.2088 - acc: 0.934 - ETA: 0s - loss: 0.2097 - acc: 0.933 - ETA: 0s - loss: 0.2085 - acc: 0.934 - ETA: 0s - loss: 0.2080 - acc: 0.934 - ETA: 0s - loss: 0.2073 - acc: 0.935 - ETA: 0s - loss: 0.2079 - acc: 0.935 - ETA: 0s - loss: 0.2102 - acc: 0.934 - ETA: 0s - loss: 0.2107 - acc: 0.934 - ETA: 0s - loss: 0.2132 - acc: 0.933 - ETA: 0s - loss: 0.2129 - acc: 0.933 - ETA: 0s - loss: 0.2116 - acc: 0.933 - ETA: 0s - loss: 0.2113 - acc: 0.933 - ETA: 0s - loss: 0.2130 - acc: 0.933 - ETA: 0s - loss: 0.2131 - acc: 0.933 - ETA: 0s - loss: 0.2141 - acc: 0.933 - ETA: 0s - loss: 0.2134 - acc: 0.933 - ETA: 0s - loss: 0.2140 - acc: 0.933 - ETA: 0s - loss: 0.2122 - acc: 0.9335Epoch 00005: val_loss did not improve\n",
      "6680/6680 [==============================] - 4s - loss: 0.2125 - acc: 0.9332 - val_loss: 0.5035 - val_acc: 0.8587\n",
      "Epoch 7/20\n",
      "6600/6680 [============================>.] - ETA: 3s - loss: 0.3345 - acc: 0.900 - ETA: 4s - loss: 0.1732 - acc: 0.940 - ETA: 4s - loss: 0.1576 - acc: 0.938 - ETA: 4s - loss: 0.1534 - acc: 0.938 - ETA: 4s - loss: 0.1344 - acc: 0.950 - ETA: 4s - loss: 0.1638 - acc: 0.938 - ETA: 4s - loss: 0.1801 - acc: 0.930 - ETA: 4s - loss: 0.1812 - acc: 0.934 - ETA: 4s - loss: 0.1788 - acc: 0.936 - ETA: 4s - loss: 0.1780 - acc: 0.940 - ETA: 3s - loss: 0.1730 - acc: 0.941 - ETA: 3s - loss: 0.1862 - acc: 0.940 - ETA: 3s - loss: 0.1936 - acc: 0.939 - ETA: 3s - loss: 0.1945 - acc: 0.940 - ETA: 3s - loss: 0.1898 - acc: 0.940 - ETA: 3s - loss: 0.1946 - acc: 0.936 - ETA: 3s - loss: 0.2063 - acc: 0.934 - ETA: 3s - loss: 0.2070 - acc: 0.934 - ETA: 3s - loss: 0.1982 - acc: 0.937 - ETA: 3s - loss: 0.1914 - acc: 0.939 - ETA: 3s - loss: 0.1915 - acc: 0.939 - ETA: 3s - loss: 0.1885 - acc: 0.939 - ETA: 3s - loss: 0.1832 - acc: 0.941 - ETA: 3s - loss: 0.1861 - acc: 0.940 - ETA: 3s - loss: 0.1857 - acc: 0.940 - ETA: 3s - loss: 0.1823 - acc: 0.940 - ETA: 3s - loss: 0.1860 - acc: 0.939 - ETA: 2s - loss: 0.1890 - acc: 0.938 - ETA: 2s - loss: 0.1921 - acc: 0.938 - ETA: 2s - loss: 0.1911 - acc: 0.938 - ETA: 2s - loss: 0.1890 - acc: 0.938 - ETA: 2s - loss: 0.1889 - acc: 0.937 - ETA: 2s - loss: 0.1887 - acc: 0.937 - ETA: 2s - loss: 0.1884 - acc: 0.938 - ETA: 2s - loss: 0.1910 - acc: 0.938 - ETA: 2s - loss: 0.1934 - acc: 0.937 - ETA: 2s - loss: 0.1964 - acc: 0.937 - ETA: 2s - loss: 0.1971 - acc: 0.937 - ETA: 2s - loss: 0.1949 - acc: 0.937 - ETA: 2s - loss: 0.1936 - acc: 0.938 - ETA: 2s - loss: 0.1937 - acc: 0.938 - ETA: 2s - loss: 0.1931 - acc: 0.938 - ETA: 2s - loss: 0.1907 - acc: 0.939 - ETA: 2s - loss: 0.1923 - acc: 0.938 - ETA: 2s - loss: 0.1899 - acc: 0.939 - ETA: 2s - loss: 0.1881 - acc: 0.940 - ETA: 1s - loss: 0.1858 - acc: 0.941 - ETA: 1s - loss: 0.1843 - acc: 0.941 - ETA: 1s - loss: 0.1841 - acc: 0.942 - ETA: 1s - loss: 0.1839 - acc: 0.942 - ETA: 1s - loss: 0.1830 - acc: 0.942 - ETA: 1s - loss: 0.1861 - acc: 0.942 - ETA: 1s - loss: 0.1880 - acc: 0.942 - ETA: 1s - loss: 0.1872 - acc: 0.942 - ETA: 1s - loss: 0.1867 - acc: 0.943 - ETA: 1s - loss: 0.1849 - acc: 0.943 - ETA: 1s - loss: 0.1827 - acc: 0.944 - ETA: 1s - loss: 0.1817 - acc: 0.944 - ETA: 1s - loss: 0.1824 - acc: 0.944 - ETA: 1s - loss: 0.1815 - acc: 0.944 - ETA: 1s - loss: 0.1810 - acc: 0.945 - ETA: 1s - loss: 0.1835 - acc: 0.944 - ETA: 1s - loss: 0.1856 - acc: 0.944 - ETA: 1s - loss: 0.1867 - acc: 0.943 - ETA: 0s - loss: 0.1861 - acc: 0.942 - ETA: 0s - loss: 0.1873 - acc: 0.942 - ETA: 0s - loss: 0.1864 - acc: 0.942 - ETA: 0s - loss: 0.1866 - acc: 0.942 - ETA: 0s - loss: 0.1912 - acc: 0.942 - ETA: 0s - loss: 0.1956 - acc: 0.941 - ETA: 0s - loss: 0.1938 - acc: 0.941 - ETA: 0s - loss: 0.1923 - acc: 0.941 - ETA: 0s - loss: 0.1932 - acc: 0.941 - ETA: 0s - loss: 0.1940 - acc: 0.941 - ETA: 0s - loss: 0.1945 - acc: 0.941 - ETA: 0s - loss: 0.1945 - acc: 0.940 - ETA: 0s - loss: 0.1949 - acc: 0.940 - ETA: 0s - loss: 0.1957 - acc: 0.940 - ETA: 0s - loss: 0.1957 - acc: 0.940 - ETA: 0s - loss: 0.1940 - acc: 0.940 - ETA: 0s - loss: 0.1950 - acc: 0.9405Epoch 00006: val_loss did not improve\n",
      "6680/6680 [==============================] - 4s - loss: 0.1951 - acc: 0.9407 - val_loss: 0.5337 - val_acc: 0.8491\n",
      "Epoch 8/20\n",
      "6620/6680 [============================>.] - ETA: 4s - loss: 0.2372 - acc: 0.950 - ETA: 4s - loss: 0.1021 - acc: 0.970 - ETA: 4s - loss: 0.1682 - acc: 0.938 - ETA: 4s - loss: 0.1672 - acc: 0.938 - ETA: 4s - loss: 0.1466 - acc: 0.947 - ETA: 4s - loss: 0.1294 - acc: 0.952 - ETA: 4s - loss: 0.1352 - acc: 0.950 - ETA: 4s - loss: 0.1577 - acc: 0.946 - ETA: 4s - loss: 0.1693 - acc: 0.948 - ETA: 4s - loss: 0.1607 - acc: 0.950 - ETA: 3s - loss: 0.1519 - acc: 0.952 - ETA: 3s - loss: 0.1524 - acc: 0.950 - ETA: 3s - loss: 0.1496 - acc: 0.951 - ETA: 3s - loss: 0.1623 - acc: 0.950 - ETA: 3s - loss: 0.1596 - acc: 0.950 - ETA: 3s - loss: 0.1618 - acc: 0.950 - ETA: 3s - loss: 0.1591 - acc: 0.952 - ETA: 3s - loss: 0.1558 - acc: 0.954 - ETA: 3s - loss: 0.1565 - acc: 0.954 - ETA: 3s - loss: 0.1563 - acc: 0.953 - ETA: 3s - loss: 0.1567 - acc: 0.954 - ETA: 3s - loss: 0.1579 - acc: 0.954 - ETA: 3s - loss: 0.1558 - acc: 0.953 - ETA: 3s - loss: 0.1552 - acc: 0.953 - ETA: 3s - loss: 0.1528 - acc: 0.953 - ETA: 3s - loss: 0.1555 - acc: 0.953 - ETA: 3s - loss: 0.1525 - acc: 0.953 - ETA: 3s - loss: 0.1504 - acc: 0.954 - ETA: 2s - loss: 0.1517 - acc: 0.953 - ETA: 2s - loss: 0.1491 - acc: 0.955 - ETA: 2s - loss: 0.1515 - acc: 0.953 - ETA: 2s - loss: 0.1592 - acc: 0.953 - ETA: 2s - loss: 0.1582 - acc: 0.953 - ETA: 2s - loss: 0.1635 - acc: 0.951 - ETA: 2s - loss: 0.1640 - acc: 0.951 - ETA: 2s - loss: 0.1640 - acc: 0.951 - ETA: 2s - loss: 0.1604 - acc: 0.952 - ETA: 2s - loss: 0.1589 - acc: 0.953 - ETA: 2s - loss: 0.1615 - acc: 0.952 - ETA: 2s - loss: 0.1615 - acc: 0.953 - ETA: 2s - loss: 0.1604 - acc: 0.953 - ETA: 2s - loss: 0.1607 - acc: 0.953 - ETA: 2s - loss: 0.1595 - acc: 0.954 - ETA: 2s - loss: 0.1622 - acc: 0.953 - ETA: 2s - loss: 0.1594 - acc: 0.954 - ETA: 2s - loss: 0.1608 - acc: 0.953 - ETA: 1s - loss: 0.1634 - acc: 0.951 - ETA: 1s - loss: 0.1649 - acc: 0.950 - ETA: 1s - loss: 0.1671 - acc: 0.949 - ETA: 1s - loss: 0.1687 - acc: 0.948 - ETA: 1s - loss: 0.1668 - acc: 0.949 - ETA: 1s - loss: 0.1698 - acc: 0.948 - ETA: 1s - loss: 0.1707 - acc: 0.948 - ETA: 1s - loss: 0.1708 - acc: 0.948 - ETA: 1s - loss: 0.1740 - acc: 0.948 - ETA: 1s - loss: 0.1719 - acc: 0.949 - ETA: 1s - loss: 0.1721 - acc: 0.949 - ETA: 1s - loss: 0.1720 - acc: 0.949 - ETA: 1s - loss: 0.1710 - acc: 0.949 - ETA: 1s - loss: 0.1711 - acc: 0.948 - ETA: 1s - loss: 0.1705 - acc: 0.948 - ETA: 1s - loss: 0.1684 - acc: 0.949 - ETA: 1s - loss: 0.1664 - acc: 0.950 - ETA: 1s - loss: 0.1667 - acc: 0.950 - ETA: 0s - loss: 0.1652 - acc: 0.950 - ETA: 0s - loss: 0.1651 - acc: 0.950 - ETA: 0s - loss: 0.1664 - acc: 0.949 - ETA: 0s - loss: 0.1658 - acc: 0.950 - ETA: 0s - loss: 0.1649 - acc: 0.950 - ETA: 0s - loss: 0.1644 - acc: 0.950 - ETA: 0s - loss: 0.1635 - acc: 0.950 - ETA: 0s - loss: 0.1638 - acc: 0.950 - ETA: 0s - loss: 0.1629 - acc: 0.950 - ETA: 0s - loss: 0.1657 - acc: 0.950 - ETA: 0s - loss: 0.1657 - acc: 0.949 - ETA: 0s - loss: 0.1684 - acc: 0.949 - ETA: 0s - loss: 0.1692 - acc: 0.949 - ETA: 0s - loss: 0.1709 - acc: 0.948 - ETA: 0s - loss: 0.1726 - acc: 0.948 - ETA: 0s - loss: 0.1730 - acc: 0.948 - ETA: 0s - loss: 0.1721 - acc: 0.948 - ETA: 0s - loss: 0.1751 - acc: 0.9480Epoch 00007: val_loss did not improve\n",
      "6680/6680 [==============================] - 4s - loss: 0.1743 - acc: 0.9482 - val_loss: 0.5340 - val_acc: 0.8635\n",
      "Epoch 9/20\n"
     ]
    },
    {
     "name": "stdout",
     "output_type": "stream",
     "text": [
      "6640/6680 [============================>.] - ETA: 3s - loss: 0.0432 - acc: 1.000 - ETA: 4s - loss: 0.1009 - acc: 0.980 - ETA: 4s - loss: 0.1014 - acc: 0.970 - ETA: 4s - loss: 0.1249 - acc: 0.960 - ETA: 4s - loss: 0.1157 - acc: 0.961 - ETA: 4s - loss: 0.1155 - acc: 0.961 - ETA: 4s - loss: 0.1050 - acc: 0.963 - ETA: 4s - loss: 0.1100 - acc: 0.958 - ETA: 4s - loss: 0.1219 - acc: 0.955 - ETA: 4s - loss: 0.1226 - acc: 0.955 - ETA: 4s - loss: 0.1246 - acc: 0.952 - ETA: 4s - loss: 0.1218 - acc: 0.953 - ETA: 4s - loss: 0.1171 - acc: 0.955 - ETA: 4s - loss: 0.1175 - acc: 0.955 - ETA: 4s - loss: 0.1117 - acc: 0.958 - ETA: 3s - loss: 0.1078 - acc: 0.960 - ETA: 3s - loss: 0.1091 - acc: 0.960 - ETA: 3s - loss: 0.1058 - acc: 0.961 - ETA: 3s - loss: 0.1046 - acc: 0.962 - ETA: 3s - loss: 0.1013 - acc: 0.963 - ETA: 3s - loss: 0.1061 - acc: 0.961 - ETA: 3s - loss: 0.1042 - acc: 0.962 - ETA: 3s - loss: 0.1045 - acc: 0.963 - ETA: 3s - loss: 0.1018 - acc: 0.964 - ETA: 3s - loss: 0.1088 - acc: 0.962 - ETA: 3s - loss: 0.1132 - acc: 0.961 - ETA: 3s - loss: 0.1122 - acc: 0.961 - ETA: 3s - loss: 0.1131 - acc: 0.961 - ETA: 3s - loss: 0.1127 - acc: 0.961 - ETA: 3s - loss: 0.1115 - acc: 0.961 - ETA: 3s - loss: 0.1110 - acc: 0.961 - ETA: 3s - loss: 0.1110 - acc: 0.961 - ETA: 3s - loss: 0.1099 - acc: 0.962 - ETA: 3s - loss: 0.1112 - acc: 0.961 - ETA: 3s - loss: 0.1125 - acc: 0.961 - ETA: 2s - loss: 0.1101 - acc: 0.962 - ETA: 2s - loss: 0.1097 - acc: 0.962 - ETA: 2s - loss: 0.1118 - acc: 0.961 - ETA: 2s - loss: 0.1189 - acc: 0.960 - ETA: 2s - loss: 0.1175 - acc: 0.961 - ETA: 2s - loss: 0.1166 - acc: 0.961 - ETA: 2s - loss: 0.1184 - acc: 0.960 - ETA: 2s - loss: 0.1210 - acc: 0.959 - ETA: 2s - loss: 0.1246 - acc: 0.958 - ETA: 2s - loss: 0.1287 - acc: 0.957 - ETA: 2s - loss: 0.1303 - acc: 0.957 - ETA: 2s - loss: 0.1300 - acc: 0.957 - ETA: 2s - loss: 0.1295 - acc: 0.958 - ETA: 2s - loss: 0.1300 - acc: 0.958 - ETA: 2s - loss: 0.1304 - acc: 0.957 - ETA: 1s - loss: 0.1315 - acc: 0.957 - ETA: 1s - loss: 0.1298 - acc: 0.957 - ETA: 1s - loss: 0.1303 - acc: 0.956 - ETA: 1s - loss: 0.1303 - acc: 0.956 - ETA: 1s - loss: 0.1315 - acc: 0.956 - ETA: 1s - loss: 0.1374 - acc: 0.954 - ETA: 1s - loss: 0.1421 - acc: 0.954 - ETA: 1s - loss: 0.1427 - acc: 0.954 - ETA: 1s - loss: 0.1452 - acc: 0.954 - ETA: 1s - loss: 0.1473 - acc: 0.953 - ETA: 1s - loss: 0.1495 - acc: 0.953 - ETA: 1s - loss: 0.1506 - acc: 0.952 - ETA: 1s - loss: 0.1511 - acc: 0.952 - ETA: 1s - loss: 0.1510 - acc: 0.952 - ETA: 0s - loss: 0.1501 - acc: 0.952 - ETA: 0s - loss: 0.1490 - acc: 0.953 - ETA: 0s - loss: 0.1513 - acc: 0.952 - ETA: 0s - loss: 0.1546 - acc: 0.952 - ETA: 0s - loss: 0.1541 - acc: 0.952 - ETA: 0s - loss: 0.1540 - acc: 0.952 - ETA: 0s - loss: 0.1538 - acc: 0.952 - ETA: 0s - loss: 0.1561 - acc: 0.952 - ETA: 0s - loss: 0.1563 - acc: 0.951 - ETA: 0s - loss: 0.1553 - acc: 0.951 - ETA: 0s - loss: 0.1543 - acc: 0.952 - ETA: 0s - loss: 0.1532 - acc: 0.952 - ETA: 0s - loss: 0.1536 - acc: 0.952 - ETA: 0s - loss: 0.1556 - acc: 0.952 - ETA: 0s - loss: 0.1554 - acc: 0.9521Epoch 00008: val_loss did not improve\n",
      "6680/6680 [==============================] - 4s - loss: 0.1562 - acc: 0.9519 - val_loss: 0.5812 - val_acc: 0.8647\n",
      "Epoch 10/20\n",
      "6640/6680 [============================>.] - ETA: 3s - loss: 0.3678 - acc: 0.900 - ETA: 4s - loss: 0.2455 - acc: 0.940 - ETA: 4s - loss: 0.1681 - acc: 0.961 - ETA: 3s - loss: 0.1151 - acc: 0.975 - ETA: 3s - loss: 0.1150 - acc: 0.968 - ETA: 3s - loss: 0.1175 - acc: 0.965 - ETA: 3s - loss: 0.1112 - acc: 0.968 - ETA: 3s - loss: 0.1116 - acc: 0.971 - ETA: 3s - loss: 0.1190 - acc: 0.966 - ETA: 3s - loss: 0.1162 - acc: 0.967 - ETA: 3s - loss: 0.1166 - acc: 0.967 - ETA: 3s - loss: 0.1205 - acc: 0.963 - ETA: 3s - loss: 0.1210 - acc: 0.962 - ETA: 3s - loss: 0.1321 - acc: 0.960 - ETA: 3s - loss: 0.1333 - acc: 0.960 - ETA: 3s - loss: 0.1328 - acc: 0.960 - ETA: 3s - loss: 0.1301 - acc: 0.960 - ETA: 3s - loss: 0.1331 - acc: 0.958 - ETA: 3s - loss: 0.1298 - acc: 0.958 - ETA: 3s - loss: 0.1384 - acc: 0.957 - ETA: 3s - loss: 0.1345 - acc: 0.957 - ETA: 3s - loss: 0.1301 - acc: 0.958 - ETA: 3s - loss: 0.1304 - acc: 0.958 - ETA: 3s - loss: 0.1301 - acc: 0.959 - ETA: 2s - loss: 0.1314 - acc: 0.958 - ETA: 2s - loss: 0.1338 - acc: 0.958 - ETA: 2s - loss: 0.1321 - acc: 0.958 - ETA: 2s - loss: 0.1278 - acc: 0.960 - ETA: 2s - loss: 0.1279 - acc: 0.960 - ETA: 2s - loss: 0.1284 - acc: 0.960 - ETA: 2s - loss: 0.1313 - acc: 0.959 - ETA: 2s - loss: 0.1285 - acc: 0.960 - ETA: 2s - loss: 0.1287 - acc: 0.959 - ETA: 2s - loss: 0.1277 - acc: 0.960 - ETA: 2s - loss: 0.1254 - acc: 0.961 - ETA: 2s - loss: 0.1250 - acc: 0.961 - ETA: 2s - loss: 0.1308 - acc: 0.959 - ETA: 2s - loss: 0.1287 - acc: 0.960 - ETA: 2s - loss: 0.1294 - acc: 0.960 - ETA: 2s - loss: 0.1307 - acc: 0.960 - ETA: 1s - loss: 0.1291 - acc: 0.960 - ETA: 1s - loss: 0.1284 - acc: 0.960 - ETA: 1s - loss: 0.1307 - acc: 0.959 - ETA: 1s - loss: 0.1325 - acc: 0.958 - ETA: 1s - loss: 0.1341 - acc: 0.958 - ETA: 1s - loss: 0.1328 - acc: 0.958 - ETA: 1s - loss: 0.1319 - acc: 0.958 - ETA: 1s - loss: 0.1325 - acc: 0.958 - ETA: 1s - loss: 0.1348 - acc: 0.957 - ETA: 1s - loss: 0.1370 - acc: 0.957 - ETA: 1s - loss: 0.1366 - acc: 0.956 - ETA: 1s - loss: 0.1370 - acc: 0.956 - ETA: 1s - loss: 0.1367 - acc: 0.956 - ETA: 1s - loss: 0.1375 - acc: 0.956 - ETA: 1s - loss: 0.1402 - acc: 0.955 - ETA: 1s - loss: 0.1404 - acc: 0.955 - ETA: 1s - loss: 0.1390 - acc: 0.956 - ETA: 0s - loss: 0.1371 - acc: 0.956 - ETA: 0s - loss: 0.1412 - acc: 0.956 - ETA: 0s - loss: 0.1425 - acc: 0.955 - ETA: 0s - loss: 0.1421 - acc: 0.955 - ETA: 0s - loss: 0.1423 - acc: 0.955 - ETA: 0s - loss: 0.1419 - acc: 0.955 - ETA: 0s - loss: 0.1429 - acc: 0.954 - ETA: 0s - loss: 0.1433 - acc: 0.954 - ETA: 0s - loss: 0.1458 - acc: 0.953 - ETA: 0s - loss: 0.1469 - acc: 0.953 - ETA: 0s - loss: 0.1462 - acc: 0.953 - ETA: 0s - loss: 0.1466 - acc: 0.953 - ETA: 0s - loss: 0.1463 - acc: 0.953 - ETA: 0s - loss: 0.1478 - acc: 0.953 - ETA: 0s - loss: 0.1485 - acc: 0.952 - ETA: 0s - loss: 0.1504 - acc: 0.952 - ETA: 0s - loss: 0.1498 - acc: 0.952 - ETA: 0s - loss: 0.1493 - acc: 0.9532Epoch 00009: val_loss did not improve\n",
      "6680/6680 [==============================] - 4s - loss: 0.1496 - acc: 0.9531 - val_loss: 0.5740 - val_acc: 0.8575\n",
      "Epoch 11/20\n",
      "6640/6680 [============================>.] - ETA: 4s - loss: 0.1451 - acc: 0.900 - ETA: 4s - loss: 0.1097 - acc: 0.940 - ETA: 4s - loss: 0.0930 - acc: 0.950 - ETA: 4s - loss: 0.1202 - acc: 0.946 - ETA: 4s - loss: 0.1404 - acc: 0.944 - ETA: 4s - loss: 0.1282 - acc: 0.945 - ETA: 4s - loss: 0.1123 - acc: 0.951 - ETA: 3s - loss: 0.1144 - acc: 0.954 - ETA: 3s - loss: 0.1079 - acc: 0.958 - ETA: 3s - loss: 0.1019 - acc: 0.962 - ETA: 3s - loss: 0.1088 - acc: 0.960 - ETA: 3s - loss: 0.1057 - acc: 0.962 - ETA: 3s - loss: 0.0994 - acc: 0.964 - ETA: 3s - loss: 0.1039 - acc: 0.961 - ETA: 3s - loss: 0.1080 - acc: 0.960 - ETA: 3s - loss: 0.1096 - acc: 0.961 - ETA: 3s - loss: 0.1085 - acc: 0.961 - ETA: 3s - loss: 0.1096 - acc: 0.961 - ETA: 3s - loss: 0.1091 - acc: 0.962 - ETA: 3s - loss: 0.1129 - acc: 0.963 - ETA: 2s - loss: 0.1121 - acc: 0.963 - ETA: 2s - loss: 0.1114 - acc: 0.963 - ETA: 2s - loss: 0.1140 - acc: 0.963 - ETA: 2s - loss: 0.1169 - acc: 0.963 - ETA: 2s - loss: 0.1151 - acc: 0.963 - ETA: 2s - loss: 0.1167 - acc: 0.963 - ETA: 2s - loss: 0.1177 - acc: 0.963 - ETA: 2s - loss: 0.1221 - acc: 0.963 - ETA: 2s - loss: 0.1252 - acc: 0.963 - ETA: 2s - loss: 0.1253 - acc: 0.961 - ETA: 2s - loss: 0.1264 - acc: 0.961 - ETA: 2s - loss: 0.1270 - acc: 0.961 - ETA: 2s - loss: 0.1288 - acc: 0.960 - ETA: 2s - loss: 0.1270 - acc: 0.961 - ETA: 2s - loss: 0.1250 - acc: 0.961 - ETA: 2s - loss: 0.1221 - acc: 0.962 - ETA: 2s - loss: 0.1223 - acc: 0.961 - ETA: 1s - loss: 0.1260 - acc: 0.960 - ETA: 1s - loss: 0.1317 - acc: 0.958 - ETA: 1s - loss: 0.1303 - acc: 0.958 - ETA: 1s - loss: 0.1291 - acc: 0.959 - ETA: 1s - loss: 0.1291 - acc: 0.959 - ETA: 1s - loss: 0.1275 - acc: 0.959 - ETA: 1s - loss: 0.1292 - acc: 0.958 - ETA: 1s - loss: 0.1274 - acc: 0.959 - ETA: 1s - loss: 0.1259 - acc: 0.959 - ETA: 1s - loss: 0.1266 - acc: 0.959 - ETA: 1s - loss: 0.1288 - acc: 0.958 - ETA: 1s - loss: 0.1286 - acc: 0.958 - ETA: 1s - loss: 0.1293 - acc: 0.958 - ETA: 1s - loss: 0.1284 - acc: 0.958 - ETA: 1s - loss: 0.1336 - acc: 0.957 - ETA: 1s - loss: 0.1330 - acc: 0.958 - ETA: 1s - loss: 0.1319 - acc: 0.958 - ETA: 1s - loss: 0.1328 - acc: 0.958 - ETA: 1s - loss: 0.1343 - acc: 0.957 - ETA: 1s - loss: 0.1354 - acc: 0.957 - ETA: 1s - loss: 0.1356 - acc: 0.957 - ETA: 1s - loss: 0.1349 - acc: 0.957 - ETA: 0s - loss: 0.1339 - acc: 0.957 - ETA: 0s - loss: 0.1325 - acc: 0.958 - ETA: 0s - loss: 0.1340 - acc: 0.957 - ETA: 0s - loss: 0.1340 - acc: 0.957 - ETA: 0s - loss: 0.1332 - acc: 0.957 - ETA: 0s - loss: 0.1326 - acc: 0.957 - ETA: 0s - loss: 0.1314 - acc: 0.958 - ETA: 0s - loss: 0.1341 - acc: 0.957 - ETA: 0s - loss: 0.1366 - acc: 0.958 - ETA: 0s - loss: 0.1356 - acc: 0.958 - ETA: 0s - loss: 0.1350 - acc: 0.958 - ETA: 0s - loss: 0.1338 - acc: 0.958 - ETA: 0s - loss: 0.1334 - acc: 0.958 - ETA: 0s - loss: 0.1327 - acc: 0.958 - ETA: 0s - loss: 0.1318 - acc: 0.959 - ETA: 0s - loss: 0.1310 - acc: 0.959 - ETA: 0s - loss: 0.1317 - acc: 0.959 - ETA: 0s - loss: 0.1317 - acc: 0.959 - ETA: 0s - loss: 0.1320 - acc: 0.959 - ETA: 0s - loss: 0.1339 - acc: 0.959 - ETA: 0s - loss: 0.1333 - acc: 0.9590Epoch 00010: val_loss did not improve\n",
      "6680/6680 [==============================] - 4s - loss: 0.1330 - acc: 0.9590 - val_loss: 0.5943 - val_acc: 0.8491\n",
      "Epoch 12/20\n",
      "6660/6680 [============================>.] - ETA: 4s - loss: 0.0216 - acc: 1.000 - ETA: 5s - loss: 0.0503 - acc: 0.990 - ETA: 5s - loss: 0.0449 - acc: 0.987 - ETA: 5s - loss: 0.0401 - acc: 0.987 - ETA: 5s - loss: 0.0580 - acc: 0.976 - ETA: 5s - loss: 0.0643 - acc: 0.976 - ETA: 5s - loss: 0.0629 - acc: 0.976 - ETA: 4s - loss: 0.0682 - acc: 0.975 - ETA: 4s - loss: 0.0694 - acc: 0.975 - ETA: 4s - loss: 0.0634 - acc: 0.978 - ETA: 4s - loss: 0.0716 - acc: 0.975 - ETA: 4s - loss: 0.0871 - acc: 0.972 - ETA: 4s - loss: 0.0834 - acc: 0.972 - ETA: 4s - loss: 0.0943 - acc: 0.969 - ETA: 4s - loss: 0.0930 - acc: 0.969 - ETA: 4s - loss: 0.0889 - acc: 0.970 - ETA: 4s - loss: 0.0919 - acc: 0.970 - ETA: 4s - loss: 0.0921 - acc: 0.970 - ETA: 4s - loss: 0.0941 - acc: 0.968 - ETA: 4s - loss: 0.0940 - acc: 0.968 - ETA: 3s - loss: 0.0962 - acc: 0.968 - ETA: 3s - loss: 0.0987 - acc: 0.967 - ETA: 3s - loss: 0.0961 - acc: 0.966 - ETA: 3s - loss: 0.1021 - acc: 0.965 - ETA: 3s - loss: 0.1057 - acc: 0.964 - ETA: 3s - loss: 0.1104 - acc: 0.963 - ETA: 3s - loss: 0.1174 - acc: 0.962 - ETA: 3s - loss: 0.1164 - acc: 0.962 - ETA: 3s - loss: 0.1198 - acc: 0.959 - ETA: 3s - loss: 0.1201 - acc: 0.960 - ETA: 3s - loss: 0.1207 - acc: 0.960 - ETA: 3s - loss: 0.1188 - acc: 0.960 - ETA: 2s - loss: 0.1243 - acc: 0.959 - ETA: 2s - loss: 0.1232 - acc: 0.960 - ETA: 2s - loss: 0.1249 - acc: 0.959 - ETA: 2s - loss: 0.1218 - acc: 0.960 - ETA: 2s - loss: 0.1238 - acc: 0.960 - ETA: 2s - loss: 0.1218 - acc: 0.960 - ETA: 2s - loss: 0.1213 - acc: 0.961 - ETA: 2s - loss: 0.1206 - acc: 0.961 - ETA: 2s - loss: 0.1209 - acc: 0.961 - ETA: 2s - loss: 0.1187 - acc: 0.961 - ETA: 2s - loss: 0.1192 - acc: 0.961 - ETA: 2s - loss: 0.1236 - acc: 0.960 - ETA: 2s - loss: 0.1227 - acc: 0.960 - ETA: 2s - loss: 0.1256 - acc: 0.960 - ETA: 2s - loss: 0.1242 - acc: 0.961 - ETA: 2s - loss: 0.1242 - acc: 0.960 - ETA: 1s - loss: 0.1219 - acc: 0.961 - ETA: 1s - loss: 0.1214 - acc: 0.961 - ETA: 1s - loss: 0.1199 - acc: 0.961 - ETA: 1s - loss: 0.1198 - acc: 0.961 - ETA: 1s - loss: 0.1211 - acc: 0.961 - ETA: 1s - loss: 0.1209 - acc: 0.961 - ETA: 1s - loss: 0.1213 - acc: 0.961 - ETA: 1s - loss: 0.1212 - acc: 0.961 - ETA: 1s - loss: 0.1229 - acc: 0.961 - ETA: 1s - loss: 0.1219 - acc: 0.961 - ETA: 1s - loss: 0.1223 - acc: 0.961 - ETA: 1s - loss: 0.1227 - acc: 0.961 - ETA: 1s - loss: 0.1243 - acc: 0.960 - ETA: 1s - loss: 0.1250 - acc: 0.960 - ETA: 1s - loss: 0.1234 - acc: 0.961 - ETA: 1s - loss: 0.1233 - acc: 0.961 - ETA: 1s - loss: 0.1259 - acc: 0.961 - ETA: 0s - loss: 0.1266 - acc: 0.961 - ETA: 0s - loss: 0.1261 - acc: 0.961 - ETA: 0s - loss: 0.1255 - acc: 0.961 - ETA: 0s - loss: 0.1252 - acc: 0.961 - ETA: 0s - loss: 0.1238 - acc: 0.962 - ETA: 0s - loss: 0.1227 - acc: 0.962 - ETA: 0s - loss: 0.1216 - acc: 0.962 - ETA: 0s - loss: 0.1221 - acc: 0.962 - ETA: 0s - loss: 0.1214 - acc: 0.962 - ETA: 0s - loss: 0.1201 - acc: 0.962 - ETA: 0s - loss: 0.1222 - acc: 0.962 - ETA: 0s - loss: 0.1216 - acc: 0.962 - ETA: 0s - loss: 0.1219 - acc: 0.962 - ETA: 0s - loss: 0.1214 - acc: 0.962 - ETA: 0s - loss: 0.1220 - acc: 0.962 - ETA: 0s - loss: 0.1216 - acc: 0.962 - ETA: 0s - loss: 0.1226 - acc: 0.961 - ETA: 0s - loss: 0.1219 - acc: 0.9619Epoch 00011: val_loss did not improve\n",
      "6680/6680 [==============================] - 5s - loss: 0.1222 - acc: 0.9618 - val_loss: 0.5834 - val_acc: 0.8491\n",
      "Epoch 13/20\n"
     ]
    },
    {
     "name": "stdout",
     "output_type": "stream",
     "text": [
      "6600/6680 [============================>.] - ETA: 4s - loss: 0.0183 - acc: 1.000 - ETA: 4s - loss: 0.0459 - acc: 0.980 - ETA: 4s - loss: 0.0831 - acc: 0.961 - ETA: 4s - loss: 0.0699 - acc: 0.969 - ETA: 4s - loss: 0.0784 - acc: 0.964 - ETA: 4s - loss: 0.1274 - acc: 0.961 - ETA: 4s - loss: 0.1190 - acc: 0.964 - ETA: 4s - loss: 0.1064 - acc: 0.967 - ETA: 4s - loss: 0.0970 - acc: 0.971 - ETA: 4s - loss: 0.1000 - acc: 0.968 - ETA: 4s - loss: 0.1082 - acc: 0.965 - ETA: 4s - loss: 0.1044 - acc: 0.967 - ETA: 4s - loss: 0.1050 - acc: 0.964 - ETA: 4s - loss: 0.1090 - acc: 0.965 - ETA: 3s - loss: 0.1062 - acc: 0.965 - ETA: 3s - loss: 0.1081 - acc: 0.966 - ETA: 3s - loss: 0.1070 - acc: 0.966 - ETA: 3s - loss: 0.1070 - acc: 0.966 - ETA: 3s - loss: 0.1064 - acc: 0.966 - ETA: 3s - loss: 0.1064 - acc: 0.965 - ETA: 3s - loss: 0.1048 - acc: 0.965 - ETA: 3s - loss: 0.1082 - acc: 0.964 - ETA: 3s - loss: 0.1043 - acc: 0.965 - ETA: 3s - loss: 0.1018 - acc: 0.965 - ETA: 3s - loss: 0.0998 - acc: 0.965 - ETA: 3s - loss: 0.0973 - acc: 0.966 - ETA: 3s - loss: 0.0942 - acc: 0.967 - ETA: 2s - loss: 0.0935 - acc: 0.968 - ETA: 2s - loss: 0.0937 - acc: 0.967 - ETA: 2s - loss: 0.0933 - acc: 0.967 - ETA: 2s - loss: 0.0929 - acc: 0.967 - ETA: 2s - loss: 0.0944 - acc: 0.966 - ETA: 2s - loss: 0.0970 - acc: 0.965 - ETA: 2s - loss: 0.0988 - acc: 0.964 - ETA: 2s - loss: 0.1014 - acc: 0.964 - ETA: 2s - loss: 0.1003 - acc: 0.964 - ETA: 2s - loss: 0.0987 - acc: 0.964 - ETA: 2s - loss: 0.1000 - acc: 0.964 - ETA: 2s - loss: 0.1048 - acc: 0.964 - ETA: 2s - loss: 0.1050 - acc: 0.964 - ETA: 2s - loss: 0.1080 - acc: 0.964 - ETA: 2s - loss: 0.1081 - acc: 0.964 - ETA: 2s - loss: 0.1089 - acc: 0.964 - ETA: 2s - loss: 0.1133 - acc: 0.964 - ETA: 2s - loss: 0.1168 - acc: 0.963 - ETA: 1s - loss: 0.1152 - acc: 0.964 - ETA: 1s - loss: 0.1143 - acc: 0.964 - ETA: 1s - loss: 0.1123 - acc: 0.965 - ETA: 1s - loss: 0.1121 - acc: 0.965 - ETA: 1s - loss: 0.1121 - acc: 0.965 - ETA: 1s - loss: 0.1130 - acc: 0.964 - ETA: 1s - loss: 0.1144 - acc: 0.964 - ETA: 1s - loss: 0.1139 - acc: 0.964 - ETA: 1s - loss: 0.1151 - acc: 0.963 - ETA: 1s - loss: 0.1145 - acc: 0.963 - ETA: 1s - loss: 0.1156 - acc: 0.964 - ETA: 1s - loss: 0.1172 - acc: 0.963 - ETA: 1s - loss: 0.1184 - acc: 0.963 - ETA: 1s - loss: 0.1213 - acc: 0.963 - ETA: 1s - loss: 0.1199 - acc: 0.963 - ETA: 1s - loss: 0.1188 - acc: 0.964 - ETA: 0s - loss: 0.1176 - acc: 0.964 - ETA: 0s - loss: 0.1167 - acc: 0.965 - ETA: 0s - loss: 0.1183 - acc: 0.964 - ETA: 0s - loss: 0.1174 - acc: 0.964 - ETA: 0s - loss: 0.1173 - acc: 0.964 - ETA: 0s - loss: 0.1186 - acc: 0.964 - ETA: 0s - loss: 0.1174 - acc: 0.964 - ETA: 0s - loss: 0.1164 - acc: 0.965 - ETA: 0s - loss: 0.1153 - acc: 0.965 - ETA: 0s - loss: 0.1143 - acc: 0.965 - ETA: 0s - loss: 0.1139 - acc: 0.965 - ETA: 0s - loss: 0.1139 - acc: 0.965 - ETA: 0s - loss: 0.1145 - acc: 0.965 - ETA: 0s - loss: 0.1152 - acc: 0.965 - ETA: 0s - loss: 0.1144 - acc: 0.965 - ETA: 0s - loss: 0.1141 - acc: 0.965 - ETA: 0s - loss: 0.1154 - acc: 0.964 - ETA: 0s - loss: 0.1146 - acc: 0.9650Epoch 00012: val_loss did not improve\n",
      "6680/6680 [==============================] - 4s - loss: 0.1155 - acc: 0.9650 - val_loss: 0.6026 - val_acc: 0.8587\n",
      "Epoch 14/20\n",
      "6620/6680 [============================>.] - ETA: 3s - loss: 0.1066 - acc: 0.950 - ETA: 4s - loss: 0.0747 - acc: 0.970 - ETA: 4s - loss: 0.1296 - acc: 0.962 - ETA: 4s - loss: 0.1223 - acc: 0.958 - ETA: 4s - loss: 0.1507 - acc: 0.946 - ETA: 4s - loss: 0.1328 - acc: 0.952 - ETA: 4s - loss: 0.1209 - acc: 0.954 - ETA: 4s - loss: 0.1099 - acc: 0.958 - ETA: 4s - loss: 0.1060 - acc: 0.957 - ETA: 4s - loss: 0.1127 - acc: 0.955 - ETA: 4s - loss: 0.1027 - acc: 0.960 - ETA: 4s - loss: 0.1015 - acc: 0.961 - ETA: 4s - loss: 0.0955 - acc: 0.964 - ETA: 3s - loss: 0.0923 - acc: 0.965 - ETA: 3s - loss: 0.0873 - acc: 0.967 - ETA: 3s - loss: 0.0861 - acc: 0.968 - ETA: 3s - loss: 0.0901 - acc: 0.968 - ETA: 3s - loss: 0.0915 - acc: 0.967 - ETA: 3s - loss: 0.0883 - acc: 0.968 - ETA: 3s - loss: 0.0915 - acc: 0.969 - ETA: 3s - loss: 0.0921 - acc: 0.969 - ETA: 3s - loss: 0.0937 - acc: 0.969 - ETA: 3s - loss: 0.0904 - acc: 0.970 - ETA: 3s - loss: 0.0896 - acc: 0.971 - ETA: 3s - loss: 0.0906 - acc: 0.970 - ETA: 3s - loss: 0.0901 - acc: 0.971 - ETA: 3s - loss: 0.0888 - acc: 0.970 - ETA: 3s - loss: 0.0869 - acc: 0.971 - ETA: 3s - loss: 0.0846 - acc: 0.972 - ETA: 3s - loss: 0.0893 - acc: 0.972 - ETA: 3s - loss: 0.0927 - acc: 0.971 - ETA: 2s - loss: 0.0913 - acc: 0.972 - ETA: 2s - loss: 0.0892 - acc: 0.973 - ETA: 2s - loss: 0.0910 - acc: 0.972 - ETA: 2s - loss: 0.0901 - acc: 0.973 - ETA: 2s - loss: 0.0882 - acc: 0.973 - ETA: 2s - loss: 0.0881 - acc: 0.973 - ETA: 2s - loss: 0.0878 - acc: 0.973 - ETA: 2s - loss: 0.0888 - acc: 0.973 - ETA: 2s - loss: 0.0913 - acc: 0.972 - ETA: 2s - loss: 0.0897 - acc: 0.973 - ETA: 2s - loss: 0.0880 - acc: 0.973 - ETA: 2s - loss: 0.0872 - acc: 0.973 - ETA: 2s - loss: 0.0861 - acc: 0.974 - ETA: 2s - loss: 0.0879 - acc: 0.973 - ETA: 2s - loss: 0.0921 - acc: 0.972 - ETA: 2s - loss: 0.0908 - acc: 0.973 - ETA: 2s - loss: 0.0950 - acc: 0.972 - ETA: 2s - loss: 0.0961 - acc: 0.972 - ETA: 1s - loss: 0.0959 - acc: 0.972 - ETA: 1s - loss: 0.0966 - acc: 0.971 - ETA: 1s - loss: 0.0966 - acc: 0.971 - ETA: 1s - loss: 0.0975 - acc: 0.970 - ETA: 1s - loss: 0.0980 - acc: 0.970 - ETA: 1s - loss: 0.0965 - acc: 0.971 - ETA: 1s - loss: 0.0954 - acc: 0.971 - ETA: 1s - loss: 0.0955 - acc: 0.971 - ETA: 1s - loss: 0.0959 - acc: 0.970 - ETA: 1s - loss: 0.0963 - acc: 0.970 - ETA: 1s - loss: 0.1005 - acc: 0.969 - ETA: 1s - loss: 0.1015 - acc: 0.969 - ETA: 1s - loss: 0.1025 - acc: 0.969 - ETA: 1s - loss: 0.1019 - acc: 0.969 - ETA: 1s - loss: 0.1040 - acc: 0.968 - ETA: 1s - loss: 0.1041 - acc: 0.968 - ETA: 1s - loss: 0.1071 - acc: 0.967 - ETA: 0s - loss: 0.1071 - acc: 0.968 - ETA: 0s - loss: 0.1063 - acc: 0.968 - ETA: 0s - loss: 0.1055 - acc: 0.968 - ETA: 0s - loss: 0.1063 - acc: 0.968 - ETA: 0s - loss: 0.1053 - acc: 0.968 - ETA: 0s - loss: 0.1055 - acc: 0.968 - ETA: 0s - loss: 0.1052 - acc: 0.968 - ETA: 0s - loss: 0.1072 - acc: 0.968 - ETA: 0s - loss: 0.1062 - acc: 0.968 - ETA: 0s - loss: 0.1070 - acc: 0.967 - ETA: 0s - loss: 0.1071 - acc: 0.967 - ETA: 0s - loss: 0.1076 - acc: 0.967 - ETA: 0s - loss: 0.1084 - acc: 0.967 - ETA: 0s - loss: 0.1074 - acc: 0.967 - ETA: 0s - loss: 0.1071 - acc: 0.967 - ETA: 0s - loss: 0.1072 - acc: 0.967 - ETA: 0s - loss: 0.1071 - acc: 0.9672Epoch 00013: val_loss did not improve\n",
      "6680/6680 [==============================] - 4s - loss: 0.1075 - acc: 0.9672 - val_loss: 0.6223 - val_acc: 0.8527\n",
      "Epoch 15/20\n",
      "6600/6680 [============================>.] - ETA: 7s - loss: 0.1607 - acc: 0.950 - ETA: 5s - loss: 0.0673 - acc: 0.980 - ETA: 4s - loss: 0.0500 - acc: 0.983 - ETA: 4s - loss: 0.0458 - acc: 0.984 - ETA: 4s - loss: 0.0507 - acc: 0.983 - ETA: 4s - loss: 0.0512 - acc: 0.981 - ETA: 4s - loss: 0.0763 - acc: 0.975 - ETA: 4s - loss: 0.0793 - acc: 0.972 - ETA: 3s - loss: 0.0932 - acc: 0.969 - ETA: 3s - loss: 0.0856 - acc: 0.972 - ETA: 3s - loss: 0.0864 - acc: 0.971 - ETA: 3s - loss: 0.0870 - acc: 0.970 - ETA: 3s - loss: 0.0861 - acc: 0.970 - ETA: 3s - loss: 0.0907 - acc: 0.970 - ETA: 3s - loss: 0.0873 - acc: 0.971 - ETA: 3s - loss: 0.0857 - acc: 0.972 - ETA: 3s - loss: 0.0845 - acc: 0.973 - ETA: 3s - loss: 0.0934 - acc: 0.973 - ETA: 3s - loss: 0.0899 - acc: 0.974 - ETA: 3s - loss: 0.0866 - acc: 0.975 - ETA: 3s - loss: 0.0898 - acc: 0.974 - ETA: 3s - loss: 0.0928 - acc: 0.973 - ETA: 3s - loss: 0.0980 - acc: 0.971 - ETA: 2s - loss: 0.0960 - acc: 0.971 - ETA: 2s - loss: 0.0980 - acc: 0.970 - ETA: 2s - loss: 0.1016 - acc: 0.970 - ETA: 2s - loss: 0.1027 - acc: 0.970 - ETA: 2s - loss: 0.1013 - acc: 0.970 - ETA: 2s - loss: 0.1032 - acc: 0.970 - ETA: 2s - loss: 0.1059 - acc: 0.970 - ETA: 2s - loss: 0.1080 - acc: 0.970 - ETA: 2s - loss: 0.1103 - acc: 0.970 - ETA: 2s - loss: 0.1090 - acc: 0.970 - ETA: 2s - loss: 0.1063 - acc: 0.971 - ETA: 2s - loss: 0.1054 - acc: 0.971 - ETA: 2s - loss: 0.1060 - acc: 0.970 - ETA: 2s - loss: 0.1052 - acc: 0.970 - ETA: 2s - loss: 0.1045 - acc: 0.970 - ETA: 2s - loss: 0.1060 - acc: 0.969 - ETA: 2s - loss: 0.1060 - acc: 0.969 - ETA: 2s - loss: 0.1046 - acc: 0.969 - ETA: 2s - loss: 0.1059 - acc: 0.969 - ETA: 1s - loss: 0.1040 - acc: 0.969 - ETA: 1s - loss: 0.1029 - acc: 0.970 - ETA: 1s - loss: 0.1013 - acc: 0.970 - ETA: 1s - loss: 0.1038 - acc: 0.970 - ETA: 1s - loss: 0.1044 - acc: 0.970 - ETA: 1s - loss: 0.1047 - acc: 0.969 - ETA: 1s - loss: 0.1049 - acc: 0.968 - ETA: 1s - loss: 0.1039 - acc: 0.968 - ETA: 1s - loss: 0.1027 - acc: 0.969 - ETA: 1s - loss: 0.1023 - acc: 0.969 - ETA: 1s - loss: 0.1011 - acc: 0.969 - ETA: 1s - loss: 0.1013 - acc: 0.969 - ETA: 1s - loss: 0.1019 - acc: 0.968 - ETA: 1s - loss: 0.1013 - acc: 0.969 - ETA: 1s - loss: 0.1019 - acc: 0.968 - ETA: 1s - loss: 0.1043 - acc: 0.968 - ETA: 1s - loss: 0.1050 - acc: 0.968 - ETA: 1s - loss: 0.1039 - acc: 0.968 - ETA: 0s - loss: 0.1031 - acc: 0.968 - ETA: 0s - loss: 0.1037 - acc: 0.968 - ETA: 0s - loss: 0.1029 - acc: 0.968 - ETA: 0s - loss: 0.1020 - acc: 0.969 - ETA: 0s - loss: 0.1017 - acc: 0.969 - ETA: 0s - loss: 0.1012 - acc: 0.969 - ETA: 0s - loss: 0.1001 - acc: 0.969 - ETA: 0s - loss: 0.1024 - acc: 0.969 - ETA: 0s - loss: 0.1014 - acc: 0.970 - ETA: 0s - loss: 0.1006 - acc: 0.970 - ETA: 0s - loss: 0.1001 - acc: 0.970 - ETA: 0s - loss: 0.0992 - acc: 0.970 - ETA: 0s - loss: 0.0983 - acc: 0.970 - ETA: 0s - loss: 0.0990 - acc: 0.970 - ETA: 0s - loss: 0.1003 - acc: 0.969 - ETA: 0s - loss: 0.0994 - acc: 0.970 - ETA: 0s - loss: 0.0984 - acc: 0.970 - ETA: 0s - loss: 0.0990 - acc: 0.9705Epoch 00014: val_loss did not improve\n",
      "6680/6680 [==============================] - 4s - loss: 0.1002 - acc: 0.9702 - val_loss: 0.6457 - val_acc: 0.8431\n",
      "Epoch 16/20\n",
      "6600/6680 [============================>.] - ETA: 3s - loss: 0.0425 - acc: 1.000 - ETA: 4s - loss: 0.0357 - acc: 0.980 - ETA: 4s - loss: 0.0401 - acc: 0.983 - ETA: 4s - loss: 0.0991 - acc: 0.975 - ETA: 3s - loss: 0.1293 - acc: 0.973 - ETA: 3s - loss: 0.1269 - acc: 0.972 - ETA: 3s - loss: 0.1223 - acc: 0.969 - ETA: 3s - loss: 0.1160 - acc: 0.969 - ETA: 3s - loss: 0.1117 - acc: 0.968 - ETA: 3s - loss: 0.1062 - acc: 0.969 - ETA: 3s - loss: 0.1036 - acc: 0.968 - ETA: 3s - loss: 0.1008 - acc: 0.968 - ETA: 3s - loss: 0.1022 - acc: 0.968 - ETA: 3s - loss: 0.1018 - acc: 0.968 - ETA: 3s - loss: 0.1031 - acc: 0.968 - ETA: 3s - loss: 0.1005 - acc: 0.968 - ETA: 3s - loss: 0.0962 - acc: 0.970 - ETA: 3s - loss: 0.0942 - acc: 0.970 - ETA: 3s - loss: 0.0905 - acc: 0.971 - ETA: 3s - loss: 0.0868 - acc: 0.972 - ETA: 3s - loss: 0.0841 - acc: 0.973 - ETA: 3s - loss: 0.0823 - acc: 0.973 - ETA: 2s - loss: 0.0804 - acc: 0.974 - ETA: 2s - loss: 0.0795 - acc: 0.974 - ETA: 2s - loss: 0.0780 - acc: 0.974 - ETA: 2s - loss: 0.0777 - acc: 0.974 - ETA: 2s - loss: 0.0770 - acc: 0.974 - ETA: 2s - loss: 0.0760 - acc: 0.974 - ETA: 2s - loss: 0.0789 - acc: 0.974 - ETA: 2s - loss: 0.0777 - acc: 0.975 - ETA: 2s - loss: 0.0819 - acc: 0.974 - ETA: 2s - loss: 0.0809 - acc: 0.974 - ETA: 2s - loss: 0.0800 - acc: 0.975 - ETA: 2s - loss: 0.0846 - acc: 0.974 - ETA: 2s - loss: 0.0836 - acc: 0.975 - ETA: 2s - loss: 0.0864 - acc: 0.974 - ETA: 2s - loss: 0.0894 - acc: 0.974 - ETA: 2s - loss: 0.0883 - acc: 0.974 - ETA: 2s - loss: 0.0901 - acc: 0.974 - ETA: 2s - loss: 0.0894 - acc: 0.974 - ETA: 2s - loss: 0.0880 - acc: 0.974 - ETA: 1s - loss: 0.0871 - acc: 0.974 - ETA: 1s - loss: 0.0865 - acc: 0.973 - ETA: 1s - loss: 0.0853 - acc: 0.974 - ETA: 1s - loss: 0.0863 - acc: 0.974 - ETA: 1s - loss: 0.0884 - acc: 0.973 - ETA: 1s - loss: 0.0893 - acc: 0.973 - ETA: 1s - loss: 0.0886 - acc: 0.973 - ETA: 1s - loss: 0.0932 - acc: 0.972 - ETA: 1s - loss: 0.0931 - acc: 0.972 - ETA: 1s - loss: 0.0923 - acc: 0.972 - ETA: 1s - loss: 0.0915 - acc: 0.972 - ETA: 1s - loss: 0.0912 - acc: 0.972 - ETA: 1s - loss: 0.0931 - acc: 0.972 - ETA: 1s - loss: 0.0943 - acc: 0.972 - ETA: 1s - loss: 0.0934 - acc: 0.972 - ETA: 1s - loss: 0.0927 - acc: 0.972 - ETA: 1s - loss: 0.0930 - acc: 0.972 - ETA: 1s - loss: 0.0929 - acc: 0.971 - ETA: 1s - loss: 0.0917 - acc: 0.972 - ETA: 0s - loss: 0.0918 - acc: 0.971 - ETA: 0s - loss: 0.0908 - acc: 0.971 - ETA: 0s - loss: 0.0910 - acc: 0.971 - ETA: 0s - loss: 0.0912 - acc: 0.971 - ETA: 0s - loss: 0.0909 - acc: 0.971 - ETA: 0s - loss: 0.0932 - acc: 0.971 - ETA: 0s - loss: 0.0952 - acc: 0.971 - ETA: 0s - loss: 0.0942 - acc: 0.971 - ETA: 0s - loss: 0.0931 - acc: 0.972 - ETA: 0s - loss: 0.0925 - acc: 0.972 - ETA: 0s - loss: 0.0944 - acc: 0.971 - ETA: 0s - loss: 0.0937 - acc: 0.972 - ETA: 0s - loss: 0.0943 - acc: 0.971 - ETA: 0s - loss: 0.0932 - acc: 0.972 - ETA: 0s - loss: 0.0923 - acc: 0.972 - ETA: 0s - loss: 0.0918 - acc: 0.972 - ETA: 0s - loss: 0.0922 - acc: 0.972 - ETA: 0s - loss: 0.0931 - acc: 0.9721Epoch 00015: val_loss did not improve\n",
      "6680/6680 [==============================] - 4s - loss: 0.0937 - acc: 0.9719 - val_loss: 0.6427 - val_acc: 0.8563\n",
      "Epoch 17/20\n"
     ]
    },
    {
     "name": "stdout",
     "output_type": "stream",
     "text": [
      "6620/6680 [============================>.] - ETA: 4s - loss: 0.0090 - acc: 1.000 - ETA: 4s - loss: 0.1261 - acc: 0.970 - ETA: 4s - loss: 0.1022 - acc: 0.972 - ETA: 4s - loss: 0.0972 - acc: 0.973 - ETA: 4s - loss: 0.0772 - acc: 0.979 - ETA: 4s - loss: 0.0655 - acc: 0.983 - ETA: 4s - loss: 0.0676 - acc: 0.980 - ETA: 4s - loss: 0.0752 - acc: 0.979 - ETA: 3s - loss: 0.0709 - acc: 0.979 - ETA: 3s - loss: 0.0801 - acc: 0.974 - ETA: 3s - loss: 0.0827 - acc: 0.973 - ETA: 3s - loss: 0.0777 - acc: 0.976 - ETA: 3s - loss: 0.0815 - acc: 0.973 - ETA: 3s - loss: 0.0792 - acc: 0.974 - ETA: 3s - loss: 0.0780 - acc: 0.974 - ETA: 3s - loss: 0.0824 - acc: 0.973 - ETA: 3s - loss: 0.0795 - acc: 0.974 - ETA: 3s - loss: 0.0764 - acc: 0.975 - ETA: 3s - loss: 0.0779 - acc: 0.975 - ETA: 3s - loss: 0.0758 - acc: 0.975 - ETA: 3s - loss: 0.0776 - acc: 0.974 - ETA: 3s - loss: 0.0904 - acc: 0.973 - ETA: 3s - loss: 0.0879 - acc: 0.974 - ETA: 3s - loss: 0.0863 - acc: 0.974 - ETA: 3s - loss: 0.0840 - acc: 0.975 - ETA: 2s - loss: 0.0814 - acc: 0.975 - ETA: 2s - loss: 0.0795 - acc: 0.976 - ETA: 2s - loss: 0.0774 - acc: 0.977 - ETA: 2s - loss: 0.0775 - acc: 0.977 - ETA: 2s - loss: 0.0770 - acc: 0.977 - ETA: 2s - loss: 0.0819 - acc: 0.975 - ETA: 2s - loss: 0.0829 - acc: 0.974 - ETA: 2s - loss: 0.0836 - acc: 0.974 - ETA: 2s - loss: 0.0874 - acc: 0.974 - ETA: 2s - loss: 0.0860 - acc: 0.974 - ETA: 2s - loss: 0.0894 - acc: 0.974 - ETA: 2s - loss: 0.0894 - acc: 0.973 - ETA: 2s - loss: 0.0880 - acc: 0.974 - ETA: 2s - loss: 0.0869 - acc: 0.974 - ETA: 2s - loss: 0.0855 - acc: 0.975 - ETA: 2s - loss: 0.0844 - acc: 0.975 - ETA: 2s - loss: 0.0834 - acc: 0.975 - ETA: 2s - loss: 0.0871 - acc: 0.975 - ETA: 2s - loss: 0.0868 - acc: 0.975 - ETA: 1s - loss: 0.0878 - acc: 0.974 - ETA: 1s - loss: 0.0872 - acc: 0.975 - ETA: 1s - loss: 0.0862 - acc: 0.975 - ETA: 1s - loss: 0.0860 - acc: 0.975 - ETA: 1s - loss: 0.0871 - acc: 0.974 - ETA: 1s - loss: 0.0879 - acc: 0.974 - ETA: 1s - loss: 0.0871 - acc: 0.974 - ETA: 1s - loss: 0.0875 - acc: 0.973 - ETA: 1s - loss: 0.0863 - acc: 0.974 - ETA: 1s - loss: 0.0855 - acc: 0.974 - ETA: 1s - loss: 0.0886 - acc: 0.974 - ETA: 1s - loss: 0.0897 - acc: 0.974 - ETA: 1s - loss: 0.0888 - acc: 0.974 - ETA: 1s - loss: 0.0878 - acc: 0.974 - ETA: 1s - loss: 0.0871 - acc: 0.974 - ETA: 1s - loss: 0.0880 - acc: 0.974 - ETA: 1s - loss: 0.0868 - acc: 0.974 - ETA: 1s - loss: 0.0857 - acc: 0.975 - ETA: 1s - loss: 0.0845 - acc: 0.975 - ETA: 1s - loss: 0.0857 - acc: 0.975 - ETA: 0s - loss: 0.0848 - acc: 0.975 - ETA: 0s - loss: 0.0860 - acc: 0.975 - ETA: 0s - loss: 0.0862 - acc: 0.975 - ETA: 0s - loss: 0.0868 - acc: 0.974 - ETA: 0s - loss: 0.0860 - acc: 0.975 - ETA: 0s - loss: 0.0855 - acc: 0.975 - ETA: 0s - loss: 0.0854 - acc: 0.974 - ETA: 0s - loss: 0.0848 - acc: 0.975 - ETA: 0s - loss: 0.0842 - acc: 0.975 - ETA: 0s - loss: 0.0831 - acc: 0.975 - ETA: 0s - loss: 0.0828 - acc: 0.975 - ETA: 0s - loss: 0.0854 - acc: 0.975 - ETA: 0s - loss: 0.0865 - acc: 0.975 - ETA: 0s - loss: 0.0859 - acc: 0.975 - ETA: 0s - loss: 0.0868 - acc: 0.975 - ETA: 0s - loss: 0.0877 - acc: 0.974 - ETA: 0s - loss: 0.0873 - acc: 0.9749Epoch 00016: val_loss did not improve\n",
      "6680/6680 [==============================] - 4s - loss: 0.0879 - acc: 0.9746 - val_loss: 0.6428 - val_acc: 0.8623\n",
      "Epoch 18/20\n",
      "6620/6680 [============================>.] - ETA: 3s - loss: 0.0153 - acc: 1.000 - ETA: 4s - loss: 0.0697 - acc: 0.970 - ETA: 4s - loss: 0.0606 - acc: 0.972 - ETA: 4s - loss: 0.0657 - acc: 0.973 - ETA: 4s - loss: 0.0785 - acc: 0.973 - ETA: 4s - loss: 0.0859 - acc: 0.971 - ETA: 4s - loss: 0.0779 - acc: 0.972 - ETA: 4s - loss: 0.0785 - acc: 0.972 - ETA: 4s - loss: 0.0788 - acc: 0.974 - ETA: 4s - loss: 0.0709 - acc: 0.977 - ETA: 4s - loss: 0.0647 - acc: 0.979 - ETA: 3s - loss: 0.0648 - acc: 0.979 - ETA: 3s - loss: 0.0726 - acc: 0.980 - ETA: 3s - loss: 0.0886 - acc: 0.980 - ETA: 3s - loss: 0.0879 - acc: 0.980 - ETA: 3s - loss: 0.0939 - acc: 0.979 - ETA: 3s - loss: 0.0891 - acc: 0.980 - ETA: 3s - loss: 0.0908 - acc: 0.979 - ETA: 3s - loss: 0.0909 - acc: 0.979 - ETA: 3s - loss: 0.0885 - acc: 0.980 - ETA: 3s - loss: 0.0851 - acc: 0.981 - ETA: 3s - loss: 0.0819 - acc: 0.981 - ETA: 3s - loss: 0.0827 - acc: 0.982 - ETA: 3s - loss: 0.0820 - acc: 0.981 - ETA: 3s - loss: 0.0833 - acc: 0.980 - ETA: 3s - loss: 0.0855 - acc: 0.978 - ETA: 3s - loss: 0.0862 - acc: 0.978 - ETA: 3s - loss: 0.0855 - acc: 0.979 - ETA: 2s - loss: 0.0842 - acc: 0.978 - ETA: 2s - loss: 0.0826 - acc: 0.979 - ETA: 2s - loss: 0.0808 - acc: 0.979 - ETA: 2s - loss: 0.0788 - acc: 0.980 - ETA: 2s - loss: 0.0780 - acc: 0.980 - ETA: 2s - loss: 0.0769 - acc: 0.980 - ETA: 2s - loss: 0.0803 - acc: 0.979 - ETA: 2s - loss: 0.0805 - acc: 0.979 - ETA: 2s - loss: 0.0815 - acc: 0.979 - ETA: 2s - loss: 0.0812 - acc: 0.979 - ETA: 2s - loss: 0.0831 - acc: 0.979 - ETA: 2s - loss: 0.0822 - acc: 0.979 - ETA: 2s - loss: 0.0828 - acc: 0.978 - ETA: 2s - loss: 0.0819 - acc: 0.979 - ETA: 2s - loss: 0.0822 - acc: 0.978 - ETA: 2s - loss: 0.0813 - acc: 0.978 - ETA: 2s - loss: 0.0821 - acc: 0.978 - ETA: 2s - loss: 0.0806 - acc: 0.978 - ETA: 1s - loss: 0.0805 - acc: 0.978 - ETA: 1s - loss: 0.0808 - acc: 0.978 - ETA: 1s - loss: 0.0800 - acc: 0.977 - ETA: 1s - loss: 0.0838 - acc: 0.976 - ETA: 1s - loss: 0.0858 - acc: 0.976 - ETA: 1s - loss: 0.0852 - acc: 0.975 - ETA: 1s - loss: 0.0850 - acc: 0.975 - ETA: 1s - loss: 0.0844 - acc: 0.975 - ETA: 1s - loss: 0.0833 - acc: 0.976 - ETA: 1s - loss: 0.0831 - acc: 0.976 - ETA: 1s - loss: 0.0837 - acc: 0.975 - ETA: 1s - loss: 0.0840 - acc: 0.975 - ETA: 1s - loss: 0.0843 - acc: 0.975 - ETA: 1s - loss: 0.0885 - acc: 0.974 - ETA: 1s - loss: 0.0871 - acc: 0.975 - ETA: 1s - loss: 0.0858 - acc: 0.975 - ETA: 1s - loss: 0.0856 - acc: 0.975 - ETA: 1s - loss: 0.0848 - acc: 0.976 - ETA: 0s - loss: 0.0851 - acc: 0.976 - ETA: 0s - loss: 0.0846 - acc: 0.976 - ETA: 0s - loss: 0.0841 - acc: 0.976 - ETA: 0s - loss: 0.0842 - acc: 0.975 - ETA: 0s - loss: 0.0848 - acc: 0.975 - ETA: 0s - loss: 0.0837 - acc: 0.976 - ETA: 0s - loss: 0.0837 - acc: 0.976 - ETA: 0s - loss: 0.0837 - acc: 0.975 - ETA: 0s - loss: 0.0849 - acc: 0.975 - ETA: 0s - loss: 0.0847 - acc: 0.975 - ETA: 0s - loss: 0.0838 - acc: 0.976 - ETA: 0s - loss: 0.0842 - acc: 0.976 - ETA: 0s - loss: 0.0838 - acc: 0.976 - ETA: 0s - loss: 0.0859 - acc: 0.975 - ETA: 0s - loss: 0.0851 - acc: 0.976 - ETA: 0s - loss: 0.0848 - acc: 0.976 - ETA: 0s - loss: 0.0852 - acc: 0.9757Epoch 00017: val_loss did not improve\n",
      "6680/6680 [==============================] - 4s - loss: 0.0852 - acc: 0.9756 - val_loss: 0.6738 - val_acc: 0.8575\n",
      "Epoch 19/20\n",
      "6600/6680 [============================>.] - ETA: 3s - loss: 0.0147 - acc: 1.000 - ETA: 4s - loss: 0.0215 - acc: 1.000 - ETA: 4s - loss: 0.0317 - acc: 0.994 - ETA: 4s - loss: 0.0330 - acc: 0.992 - ETA: 4s - loss: 0.0502 - acc: 0.988 - ETA: 4s - loss: 0.0474 - acc: 0.988 - ETA: 4s - loss: 0.0520 - acc: 0.986 - ETA: 4s - loss: 0.0466 - acc: 0.987 - ETA: 4s - loss: 0.0432 - acc: 0.989 - ETA: 4s - loss: 0.0473 - acc: 0.987 - ETA: 4s - loss: 0.0442 - acc: 0.989 - ETA: 4s - loss: 0.0408 - acc: 0.990 - ETA: 4s - loss: 0.0407 - acc: 0.989 - ETA: 4s - loss: 0.0413 - acc: 0.989 - ETA: 3s - loss: 0.0424 - acc: 0.988 - ETA: 3s - loss: 0.0405 - acc: 0.989 - ETA: 3s - loss: 0.0440 - acc: 0.986 - ETA: 3s - loss: 0.0450 - acc: 0.986 - ETA: 3s - loss: 0.0478 - acc: 0.986 - ETA: 3s - loss: 0.0553 - acc: 0.985 - ETA: 3s - loss: 0.0547 - acc: 0.985 - ETA: 3s - loss: 0.0576 - acc: 0.983 - ETA: 3s - loss: 0.0597 - acc: 0.983 - ETA: 3s - loss: 0.0591 - acc: 0.984 - ETA: 3s - loss: 0.0578 - acc: 0.984 - ETA: 3s - loss: 0.0567 - acc: 0.985 - ETA: 3s - loss: 0.0554 - acc: 0.986 - ETA: 3s - loss: 0.0548 - acc: 0.985 - ETA: 3s - loss: 0.0541 - acc: 0.985 - ETA: 3s - loss: 0.0543 - acc: 0.985 - ETA: 2s - loss: 0.0557 - acc: 0.985 - ETA: 2s - loss: 0.0553 - acc: 0.985 - ETA: 2s - loss: 0.0551 - acc: 0.985 - ETA: 2s - loss: 0.0582 - acc: 0.984 - ETA: 2s - loss: 0.0583 - acc: 0.983 - ETA: 2s - loss: 0.0575 - acc: 0.983 - ETA: 2s - loss: 0.0574 - acc: 0.983 - ETA: 2s - loss: 0.0628 - acc: 0.982 - ETA: 2s - loss: 0.0624 - acc: 0.981 - ETA: 2s - loss: 0.0625 - acc: 0.981 - ETA: 2s - loss: 0.0626 - acc: 0.981 - ETA: 2s - loss: 0.0621 - acc: 0.981 - ETA: 2s - loss: 0.0645 - acc: 0.981 - ETA: 2s - loss: 0.0666 - acc: 0.980 - ETA: 2s - loss: 0.0661 - acc: 0.981 - ETA: 2s - loss: 0.0650 - acc: 0.981 - ETA: 2s - loss: 0.0667 - acc: 0.981 - ETA: 1s - loss: 0.0668 - acc: 0.981 - ETA: 1s - loss: 0.0659 - acc: 0.981 - ETA: 1s - loss: 0.0649 - acc: 0.982 - ETA: 1s - loss: 0.0655 - acc: 0.981 - ETA: 1s - loss: 0.0651 - acc: 0.981 - ETA: 1s - loss: 0.0683 - acc: 0.981 - ETA: 1s - loss: 0.0677 - acc: 0.981 - ETA: 1s - loss: 0.0684 - acc: 0.980 - ETA: 1s - loss: 0.0675 - acc: 0.980 - ETA: 1s - loss: 0.0703 - acc: 0.980 - ETA: 1s - loss: 0.0710 - acc: 0.980 - ETA: 1s - loss: 0.0721 - acc: 0.980 - ETA: 1s - loss: 0.0716 - acc: 0.980 - ETA: 1s - loss: 0.0724 - acc: 0.980 - ETA: 1s - loss: 0.0763 - acc: 0.979 - ETA: 1s - loss: 0.0765 - acc: 0.979 - ETA: 0s - loss: 0.0758 - acc: 0.979 - ETA: 0s - loss: 0.0765 - acc: 0.979 - ETA: 0s - loss: 0.0772 - acc: 0.979 - ETA: 0s - loss: 0.0777 - acc: 0.978 - ETA: 0s - loss: 0.0772 - acc: 0.979 - ETA: 0s - loss: 0.0797 - acc: 0.978 - ETA: 0s - loss: 0.0786 - acc: 0.979 - ETA: 0s - loss: 0.0793 - acc: 0.978 - ETA: 0s - loss: 0.0783 - acc: 0.978 - ETA: 0s - loss: 0.0786 - acc: 0.978 - ETA: 0s - loss: 0.0778 - acc: 0.978 - ETA: 0s - loss: 0.0769 - acc: 0.979 - ETA: 0s - loss: 0.0770 - acc: 0.978 - ETA: 0s - loss: 0.0767 - acc: 0.978 - ETA: 0s - loss: 0.0761 - acc: 0.979 - ETA: 0s - loss: 0.0766 - acc: 0.979 - ETA: 0s - loss: 0.0769 - acc: 0.9788Epoch 00018: val_loss did not improve\n",
      "6680/6680 [==============================] - 4s - loss: 0.0778 - acc: 0.9786 - val_loss: 0.6782 - val_acc: 0.8527\n",
      "Epoch 20/20\n",
      "6620/6680 [============================>.] - ETA: 3s - loss: 0.1281 - acc: 0.900 - ETA: 4s - loss: 0.0282 - acc: 0.980 - ETA: 4s - loss: 0.0222 - acc: 0.988 - ETA: 4s - loss: 0.0321 - acc: 0.988 - ETA: 4s - loss: 0.0401 - acc: 0.988 - ETA: 4s - loss: 0.0481 - acc: 0.988 - ETA: 4s - loss: 0.0483 - acc: 0.984 - ETA: 4s - loss: 0.0454 - acc: 0.984 - ETA: 4s - loss: 0.0560 - acc: 0.981 - ETA: 4s - loss: 0.0508 - acc: 0.983 - ETA: 4s - loss: 0.0478 - acc: 0.984 - ETA: 4s - loss: 0.0526 - acc: 0.983 - ETA: 4s - loss: 0.0567 - acc: 0.980 - ETA: 3s - loss: 0.0556 - acc: 0.980 - ETA: 3s - loss: 0.0546 - acc: 0.980 - ETA: 3s - loss: 0.0518 - acc: 0.982 - ETA: 3s - loss: 0.0497 - acc: 0.982 - ETA: 3s - loss: 0.0511 - acc: 0.981 - ETA: 3s - loss: 0.0525 - acc: 0.980 - ETA: 3s - loss: 0.0503 - acc: 0.981 - ETA: 3s - loss: 0.0536 - acc: 0.980 - ETA: 3s - loss: 0.0531 - acc: 0.981 - ETA: 3s - loss: 0.0522 - acc: 0.980 - ETA: 3s - loss: 0.0505 - acc: 0.981 - ETA: 3s - loss: 0.0503 - acc: 0.981 - ETA: 3s - loss: 0.0512 - acc: 0.981 - ETA: 3s - loss: 0.0513 - acc: 0.981 - ETA: 3s - loss: 0.0510 - acc: 0.981 - ETA: 3s - loss: 0.0525 - acc: 0.981 - ETA: 3s - loss: 0.0515 - acc: 0.981 - ETA: 3s - loss: 0.0518 - acc: 0.981 - ETA: 2s - loss: 0.0508 - acc: 0.981 - ETA: 2s - loss: 0.0495 - acc: 0.982 - ETA: 2s - loss: 0.0483 - acc: 0.983 - ETA: 2s - loss: 0.0512 - acc: 0.982 - ETA: 2s - loss: 0.0528 - acc: 0.981 - ETA: 2s - loss: 0.0531 - acc: 0.981 - ETA: 2s - loss: 0.0522 - acc: 0.982 - ETA: 2s - loss: 0.0537 - acc: 0.981 - ETA: 2s - loss: 0.0527 - acc: 0.982 - ETA: 2s - loss: 0.0575 - acc: 0.981 - ETA: 2s - loss: 0.0569 - acc: 0.981 - ETA: 2s - loss: 0.0596 - acc: 0.981 - ETA: 2s - loss: 0.0624 - acc: 0.980 - ETA: 2s - loss: 0.0618 - acc: 0.980 - ETA: 2s - loss: 0.0608 - acc: 0.981 - ETA: 2s - loss: 0.0605 - acc: 0.981 - ETA: 2s - loss: 0.0607 - acc: 0.980 - ETA: 2s - loss: 0.0596 - acc: 0.981 - ETA: 1s - loss: 0.0586 - acc: 0.981 - ETA: 1s - loss: 0.0612 - acc: 0.981 - ETA: 1s - loss: 0.0651 - acc: 0.980 - ETA: 1s - loss: 0.0675 - acc: 0.980 - ETA: 1s - loss: 0.0665 - acc: 0.980 - ETA: 1s - loss: 0.0661 - acc: 0.980 - ETA: 1s - loss: 0.0650 - acc: 0.980 - ETA: 1s - loss: 0.0661 - acc: 0.980 - ETA: 1s - loss: 0.0654 - acc: 0.980 - ETA: 1s - loss: 0.0655 - acc: 0.980 - ETA: 1s - loss: 0.0648 - acc: 0.980 - ETA: 1s - loss: 0.0643 - acc: 0.980 - ETA: 1s - loss: 0.0639 - acc: 0.980 - ETA: 1s - loss: 0.0693 - acc: 0.980 - ETA: 1s - loss: 0.0693 - acc: 0.980 - ETA: 1s - loss: 0.0692 - acc: 0.980 - ETA: 1s - loss: 0.0696 - acc: 0.980 - ETA: 0s - loss: 0.0693 - acc: 0.980 - ETA: 0s - loss: 0.0693 - acc: 0.980 - ETA: 0s - loss: 0.0697 - acc: 0.980 - ETA: 0s - loss: 0.0688 - acc: 0.980 - ETA: 0s - loss: 0.0698 - acc: 0.980 - ETA: 0s - loss: 0.0709 - acc: 0.980 - ETA: 0s - loss: 0.0708 - acc: 0.980 - ETA: 0s - loss: 0.0702 - acc: 0.980 - ETA: 0s - loss: 0.0721 - acc: 0.980 - ETA: 0s - loss: 0.0719 - acc: 0.979 - ETA: 0s - loss: 0.0719 - acc: 0.979 - ETA: 0s - loss: 0.0738 - acc: 0.979 - ETA: 0s - loss: 0.0742 - acc: 0.979 - ETA: 0s - loss: 0.0734 - acc: 0.979 - ETA: 0s - loss: 0.0737 - acc: 0.979 - ETA: 0s - loss: 0.0739 - acc: 0.979 - ETA: 0s - loss: 0.0746 - acc: 0.979 - ETA: 0s - loss: 0.0741 - acc: 0.9792Epoch 00019: val_loss did not improve\n",
      "6680/6680 [==============================] - 5s - loss: 0.0742 - acc: 0.9790 - val_loss: 0.6751 - val_acc: 0.8539\n"
     ]
    },
    {
     "data": {
      "text/plain": [
       "<keras.callbacks.History at 0x20ea3d87518>"
      ]
     },
     "execution_count": 49,
     "metadata": {},
     "output_type": "execute_result"
    }
   ],
   "source": [
    "### TODO: Train the model.\n",
    "checkpointer = ModelCheckpoint(filepath='saved_models/weights.best.Xception.hdf5', \n",
    "                               verbose=1, save_best_only=True)\n",
    "\n",
    "Xception_model.fit(train_Xception, train_targets, \n",
    "          validation_data=(valid_Xception, valid_targets),\n",
    "          epochs=20, batch_size=20, callbacks=[checkpointer], verbose=1)"
   ]
  },
  {
   "cell_type": "markdown",
   "metadata": {},
   "source": [
    "### (IMPLEMENTATION) Load the Model with the Best Validation Loss"
   ]
  },
  {
   "cell_type": "code",
   "execution_count": 13,
   "metadata": {},
   "outputs": [],
   "source": [
    "### TODO: Load the model weights with the best validation loss.\n",
    "Xception_model.load_weights('saved_models/weights.best.Xception.hdf5')"
   ]
  },
  {
   "cell_type": "markdown",
   "metadata": {},
   "source": [
    "### (IMPLEMENTATION) Test the Model\n",
    "\n",
    "Try out your model on the test dataset of dog images. Ensure that your test accuracy is greater than 60%."
   ]
  },
  {
   "cell_type": "code",
   "execution_count": 51,
   "metadata": {},
   "outputs": [
    {
     "name": "stdout",
     "output_type": "stream",
     "text": [
      "Test accuracy: 83.3732%\n"
     ]
    }
   ],
   "source": [
    "### TODO: Calculate classification accuracy on the test dataset.\n",
    "Xception_predictions = [np.argmax(Xception_model.predict(np.expand_dims(feature, axis=0))) for feature in test_Xception]\n",
    "\n",
    "# report test accuracy\n",
    "test_accuracy = 100*np.sum(np.array(Xception_predictions)==np.argmax(test_targets, axis=1))/len(Xception_predictions)\n",
    "print('Test accuracy: %.4f%%' % test_accuracy)"
   ]
  },
  {
   "cell_type": "markdown",
   "metadata": {},
   "source": [
    "### (IMPLEMENTATION) Predict Dog Breed with the Model\n",
    "\n",
    "Write a function that takes an image path as input and returns the dog breed (`Affenpinscher`, `Afghan_hound`, etc) that is predicted by your model.  \n",
    "\n",
    "Similar to the analogous function in Step 5, your function should have three steps:\n",
    "1. Extract the bottleneck features corresponding to the chosen CNN model.\n",
    "2. Supply the bottleneck features as input to the model to return the predicted vector.  Note that the argmax of this prediction vector gives the index of the predicted dog breed.\n",
    "3. Use the `dog_names` array defined in Step 0 of this notebook to return the corresponding breed.\n",
    "\n",
    "The functions to extract the bottleneck features can be found in `extract_bottleneck_features.py`, and they have been imported in an earlier code cell.  To obtain the bottleneck features corresponding to your chosen CNN architecture, you need to use the function\n",
    "\n",
    "    extract_{network}\n",
    "    \n",
    "where `{network}`, in the above filename, should be one of `VGG19`, `Resnet50`, `InceptionV3`, or `Xception`."
   ]
  },
  {
   "cell_type": "code",
   "execution_count": 14,
   "metadata": {},
   "outputs": [],
   "source": [
    "### TODO: Write a function that takes a path to an image as input\n",
    "### and returns the dog breed that is predicted by the model.\n",
    "def Xception_predict_breed(img_path):\n",
    "    bottleneck_feature = extract_Xception(path_to_tensor(img_path))\n",
    "    predicted_vector = Xception_model.predict(bottleneck_feature)\n",
    "    return dog_names[np.argmax(predicted_vector)]"
   ]
  },
  {
   "cell_type": "markdown",
   "metadata": {},
   "source": [
    "---\n",
    "<a id='step6'></a>\n",
    "## Step 6: Write your Algorithm\n",
    "\n",
    "Write an algorithm that accepts a file path to an image and first determines whether the image contains a human, dog, or neither.  Then,\n",
    "- if a __dog__ is detected in the image, return the predicted breed.\n",
    "- if a __human__ is detected in the image, return the resembling dog breed.\n",
    "- if __neither__ is detected in the image, provide output that indicates an error.\n",
    "\n",
    "You are welcome to write your own functions for detecting humans and dogs in images, but feel free to use the `face_detector` and `dog_detector` functions developed above.  You are __required__ to use your CNN from Step 5 to predict dog breed.  \n",
    "\n",
    "Some sample output for our algorithm is provided below, but feel free to design your own user experience!\n",
    "\n",
    "![Sample Human Output](images/sample_human_output.png)\n",
    "\n",
    "\n",
    "### (IMPLEMENTATION) Write your Algorithm"
   ]
  },
  {
   "cell_type": "code",
   "execution_count": 47,
   "metadata": {},
   "outputs": [],
   "source": [
    "### TODO: Write your algorithm.\n",
    "### Feel free to use as many code cells as needed.\n",
    "from PIL import Image # I commented this out so my notebook doesn't require image to run\n",
    "from matplotlib.pyplot import imshow, show\n",
    "\n",
    "def resembling_dog_breed(img_path):\n",
    "    #image = Image.open(img_path)\n",
    "    #imshow(np.asarray(image))\n",
    "    #show()\n",
    "    \n",
    "    if (dog_detector(img_path)):\n",
    "        breed = Xception_predict_breed(img_path)\n",
    "        print('Detected a dog which looks like a', breed)\n",
    "    elif (face_detector(img_path)):\n",
    "        breed = Xception_predict_breed(img_path)\n",
    "        print('Detected a human who resembles a ', breed)\n",
    "    else:\n",
    "        print('Unable to detect a human nor dog in the input image.')"
   ]
  },
  {
   "cell_type": "markdown",
   "metadata": {},
   "source": [
    "---\n",
    "<a id='step7'></a>\n",
    "## Step 7: Test Your Algorithm\n",
    "\n",
    "In this section, you will take your new algorithm for a spin!  What kind of dog does the algorithm think that __you__ look like?  If you have a dog, does it predict your dog's breed accurately?  If you have a cat, does it mistakenly think that your cat is a dog?\n",
    "\n",
    "### (IMPLEMENTATION) Test Your Algorithm on Sample Images!\n",
    "\n",
    "Test your algorithm at least six images on your computer.  Feel free to use any images you like.  Use at least two human and two dog images.  \n",
    "\n",
    "__Question 6:__ Is the output better than you expected :) ?  Or worse :( ?  Provide at least three possible points of improvement for your algorithm.\n",
    "\n",
    "__Answer:__ The output is actually better than I expected. It misclassified my dog as a human but is able to identify the correct breed (golden retriever). It is also able to tell when the input is neither a human nor dog.\n",
    "- I could have augmented the training data such that the dog breed prediction may have a higher accuracy. \n",
    "- Evaluate both the probability of the image containing a human or dog to improve the chances to correctly identifying the subject within the input image (e.g. there could be cases where both detectors return true).\n",
    "- Train the network with images containing a human with other animals."
   ]
  },
  {
   "cell_type": "code",
   "execution_count": 48,
   "metadata": {
    "scrolled": false
   },
   "outputs": [
    {
     "name": "stdout",
     "output_type": "stream",
     "text": [
      "Detected a dog which looks like a Great_pyrenees\n",
      "Detected a dog which looks like a Golden_retriever\n",
      "Detected a dog which looks like a Bichon_frise\n",
      "Unable to detect a human nor dog in the input image.\n",
      "Detected a dog which looks like a Pembroke_welsh_corgi\n",
      "Unable to detect a human nor dog in the input image.\n",
      "Detected a human who resembles a  Smooth_fox_terrier\n",
      "Detected a human who resembles a  Afghan_hound\n"
     ]
    }
   ],
   "source": [
    "## TODO: Execute your algorithm from Step 6 on\n",
    "## at least 6 images on your computer.\n",
    "## Feel free to use as many code cells as needed.\n",
    "img_paths = [\n",
    "    'images/nova_bb.jpg', # golden retriever\n",
    "    'images/nova.jpg', # golden retriever\n",
    "    'images/alex.jpg', # poddle\n",
    "    'images/lamb.jpg', # toy\n",
    "    'images/corgi.jpg', # corgi\n",
    "    'images/peanut.jpg', # cat\n",
    "    'images/lya.jpg', # human\n",
    "    'images/kty.jpg' # human\n",
    "]\n",
    "for path in img_paths:\n",
    "    resembling_dog_breed(path)"
   ]
  },
  {
   "cell_type": "code",
   "execution_count": 44,
   "metadata": {},
   "outputs": [
    {
     "data": {
      "text/plain": [
       "'Nova_scotia_duck_tolling_retriever'"
      ]
     },
     "execution_count": 44,
     "metadata": {},
     "output_type": "execute_result"
    }
   ],
   "source": [
    "Xception_predict_breed('images/peanut.jpg')"
   ]
  },
  {
   "cell_type": "code",
   "execution_count": null,
   "metadata": {},
   "outputs": [],
   "source": []
  }
 ],
 "metadata": {
  "anaconda-cloud": {},
  "kernelspec": {
   "display_name": "dog-project",
   "language": "python",
   "name": "dog-project"
  },
  "language_info": {
   "codemirror_mode": {
    "name": "ipython",
    "version": 3
   },
   "file_extension": ".py",
   "mimetype": "text/x-python",
   "name": "python",
   "nbconvert_exporter": "python",
   "pygments_lexer": "ipython3",
   "version": "3.5.3"
  }
 },
 "nbformat": 4,
 "nbformat_minor": 1
}
